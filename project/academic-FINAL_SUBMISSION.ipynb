{
 "cells": [
  {
   "cell_type": "markdown",
   "id": "58a3fb78",
   "metadata": {
    "tags": []
   },
   "source": [
    "# TITLE ?\n",
    "\n",
    "GitHub Repo: https://github.com/gaby-chu/info2950"
   ]
  },
  {
   "cell_type": "markdown",
   "id": "2e568631",
   "metadata": {},
   "source": [
    "# Introduction\n",
    "Our research project aims to look at the schools in New York City that offer dual language bilingual programs. We wanted to examine what factors went into choosing the language that the school offered and what affects the language chosen had on the schools. Our curiosity in studying bilingual program schools in New York City stemmed from a podcast produced by the New York Times titled “Nice White Parents.” The podcast talked about how in a certain Brooklyn neighborhood, white parents, new to the school, wanted to create a bilingual program to increase the ranking of the school. These white parents aimed to create a bilingual program that taught French when the majority of the school population, who had been there long before the new white parents, identified as Hispanic or black. After hearing more about how the bilingual programs at certain schools in New York City were created, we decided to investigate whether the language chosen in these bilingual program schools in New York City are actually influenced by the neighborhood demographics and if so, how do these bilingual school programs affect the students themselves.\n",
    "\n",
    "From our findings in our dataset sourced from NYC Open Data, we found that about 95% of the schools in this particular dataset were schools that taught Spanish which affected a lot of the analysis we received. For example, within the logistic regression we ran based on the ethnic makeup in order to predict the language, we found that the results do not particularly show that the language predicted is necessarily based on the leading ethnic group that correlates to the language. In our logistic regression that we ran based on the economic need index in order to predict language, we also found that the economic need index doesn't necessarily lead to the correct language that the school taught. We found a statistically significant difference in the background of the schools: racial breakdown and economic need. \n",
    "\n",
    "Investigating to see if there is a relationship between the language chosen at the bilingual school and the neighborhood demographics, we found that the students are the ones that are at stake because if there is a significant relationship between the two factors, then we can study what the effect of a bilingual program school has on the students. We will be able to understand in greater depth what the effects of a bilingual program has on the students through studying the academic data. \n",
    "\n",
    "We learned that there were a lot of other factors besides demographics of the neighborhood that affect the language that is taught at the school. Rather than a single variable that influences the predicted language, we should take into consideration the multitude of factors that play a major role in determining the language of each school.\n",
    "\n",
    "\n",
    "#### Research Question \n",
    "\n",
    "To what extent is the language chosen in bilingual program schools in New York City influenced by the ethnic/racial breakdown of the school and the economic status of the school?"
   ]
  },
  {
   "cell_type": "markdown",
   "id": "72c93cb6",
   "metadata": {},
   "source": [
    "## Data Description \n",
    "**Sources for our Data:**\n",
    "\n",
    "2019-20 Demographic Snapshot - School\n",
    "(https://data.cityofnewyork.us/Education/2019-20-Demographic-Snapshot-School/nie4-bv6q)\n",
    "\n",
    "2020-2021 Bilingual Program List\n",
    "(https://data.cityofnewyork.us/Education/2020-2021-Bilingual-Program-List-Final-Publication/rrd7-vuvp/data)\n",
    "\n",
    "2014-15 to 2017-19 NYC Regents Exam Results - Public\n",
    "(https://data.cityofnewyork.us/Education/2014-15-to-2017-19-NYC-Regents-Exam-Results-Public/bnea-fu3k)\n",
    "\n",
    "The **2020-2021 Bilingual Program Dataset** was sourced from NYC OpenData. The information within this dataset reports all of the bilingual programs in New York City for the 2020-2021 school year, sorted by program type and language per school. It is organized by borough and school district. NYC OpenData was developed as part of an initiative to make the NYC government more accessible, transparent and accountable. The open, free, public data is produced by various city agencies. By centralizing data from all these NYC agencies, the hope is that citizens will have a more efficient way to find useful, machine-readable data.\n",
    "This particular data is owned and provided by the New York City Department of Education. Regarding influences on data collection, because this should be a comprehensive list of schools with bilingual programs in the city, there should not be schools that are excluded, at least not on purpose. Whether a school has a bilingual program or not is public information and should be relatively easy to collect, and thus there should not be any problems in terms of collection bias and recording. The stakeholders here are the schools, not any individuals in particular, so there should also not be problems with the misuse of information, especially since it is not personal information. Data collected within this dataset that was preprocessed includes the language translated column to the language written in English. For example, columns that indicate the language as Spanish have the language translated column to be preprocessed to Español. In addition, the school DBN column was also preprocessed from the given school name as individuals are more likely to know the school name and then the data preprocesses the name of the school to the school DBN. \n",
    "\n",
    "There are 538 rows, each corresponding to a different NYC school. There are 11 columns, detailing borough, borough/citywide office, district, school, school name, school category (K-8, elementary, early childhood, etc.), program, program language, program language translated into the respective language, whether the school is a general or special education school, and special education model. Based on the website, there is no evidence of preprocessing of the data. However, the data is quite clean already, so it could be possible that there was some data cleaning done on the part of NYC OpenData, primarily just figuring out which schools had bilingual programs, and inputting all the corresponding information about the school itself to prevent the dataset from having any null or NaN values.\n",
    "\n",
    "\n",
    "The **2019-20 Demographic Snapshot Dataset** was also sourced from NYC Open Data, and it is also owned by the NYC Department of Education. This dataset details student demographics and enrollment data by school from 2015-2016 through 2019 to 2020. These enrollment counts were taken on October 31st for all of the audited register schools for each school year. There are 9,096 rows and 39 columns with each column detailing specific information regarding the schools in the rows. Some of the columns include the DBN, the year that the count was taken in, as well as presenting subpopulations through the breakdown by school grade, ethnic breakdown (Asian, black, white, Hispanic, and other), gender, and the percentage of students in poverty at the school. After our data analysis for phase II, we found that the data is mostly comprised of the Hispanic subpopulation. The 9096 rows do not include 9096 individual schools but rather each school can have multiple rows in order to detail the snapshot for each individual year. \n",
    "\n",
    "Because the data was recorded on October 31st for all of the years for all of the schools, the numbers presented do not account for the whole makeup of the population until the end of the year. For example, students who moved to a new school are not counted for if they joined after October 31st. Because the observations were from an audited register, the schools could not change their numbers significantly since the observation was accounted for by an official hired by the government. \n",
    "\n",
    "Preprocessing conducted during the collection of this dataset includes determining the definition of poverty and the threshold students need to meet in order to be counted into the percentage of poverty reported to the Department of Education on this particular dataset. Along with the poverty threshold, preprocessing also includes forming the economic need index. \n",
    "The schools were not involved in the process of data collection. Although we are counting the number of students within each category, the students were not involved in the process of data collection and the purpose of this dataset that is provided by the NYCDOE is to create more transparency and accountability amongst the schools and the public. \n",
    "\n",
    "Because both datasets are \"snapshots\" in time, they would not be updated until the next year rolls around, when new data would have been collected and a new dataset would be created to reflect the addition of a new year of data. Older versions/snapshots of the datasets will continue to be hosted on NYC Open Data.\n",
    "\n",
    "Our last dataset, **2014-15 to 2017-19 NYC Regents Exam Results - Public**, is also from NYC Open Data. It details the NYC results on New York State Regents Exams for all three administrations of the test - January, June, and August. Mean regents scores are accounted for Living Environment, Spanish, Geometry, French, English, Common Core Algebra, Common Core English, Common Core Geometry, Global History and Geography, Integrated Algebra, Physical Settings/Earth Science, US Histotry and Government, Common Core Algebra2, Physical Settings/Chemistry, Algebra2/Trigonmetry, Chinese, Physical Settings/Physics, and Italian. It describes the amount of students tested, and the portion of the students scoring below and above 65 and above 80. There are multiple rows per school, one for each test that the school took. Pre processing of the data included getting all of the scores per test from each school each averaging them, as well as calculating how many students fell between the certain test score ranges."
   ]
  },
  {
   "cell_type": "markdown",
   "id": "307ce4f6",
   "metadata": {},
   "source": [
    "## Data Limitations (Pre-Analysis)\n",
    "\n",
    "One potential problem with our datasets is the fact that the list of bilingual schools programs is the final publication for the year 2020-2021, while our demographic data is based on 2019-2020 data. However, because it would likely take longer than one school year for the demographics of an area to change a notable amount that it would make a change when doing data analysis, this should not be a substantial problem.\n",
    "\n",
    "Another potential problem could be the specificity of the raw data. For example, the raw bilingual school data designates the schools by borough and district, however, if we want to get more specific about the location, the zip code of the school might be needed. However, this potential could be solved by manually entering this data based on the name of the school. Furthermore, the raw data does not provide the ethnic breakdown of the individual school. Therefore, when mapping the bilingual data to the demographic data, we might be overlooking the fact that the makeup of the school might not match the demographic makeup of the neighborhood. This could be because children might not always go to the school that is closest to them, but they could be traveling outside of their zone. For elementary schools, because of severe overcrowding in some neighborhoods and certain schools being more popular, some children will be assigned to another school outside of their zone. For middle school, there are zoned schools, where most students go, but there are also choice districts, where students are guaranteed a seat in the district, but can apply to the school that they like, which could be outside of the zone in which they live. For high school, students can choose schools elsewhere in the city from where they live. Therefore, there could be problems regarding mapping demographics to schools based solely on location.\n",
    "\n",
    "Another potential limitiation to this data is that there are multiple lanauges that could correspond to a specific ethnic group. For example, there are language programs in Chinese, Korean, and Japanese, but these individual races are not specified in the demography data; there is only Asian. This coulD also happen with lanauges such as French, Russian, Italian, and Polish. This could be possibly be addressed by grouping the certain languages together. This could end up making too many assumptions about the population, especially about who speaks what language. \n",
    "\n",
    "Furthermore, especially in regards to the regents score dataset, there are a lot of schools that are not included, most likely because the results were not collected for those schools, or possibly because the specific regents exams were not being offered at the school. Also, different schools have different amounts of students taking the tests. This could impact the sample size of our data both school-wise and regarding the populations within the schools"
   ]
  },
  {
   "cell_type": "markdown",
   "id": "8d13dcbe",
   "metadata": {
    "tags": []
   },
   "source": [
    "## Data Cleaning\n",
    "Our goal for data cleaning was to merge two datasets together, one containing a list of all the schools in NYC that had bilingual programs, and another that contained demographic data for each school. To do this, we first cleaned each separately by fixing data types to match each other and keeping only the data for the year that we wanted. We got rid of the null values and then merged the two datasets."
   ]
  },
  {
   "cell_type": "code",
   "execution_count": 1,
   "id": "e2a28b85",
   "metadata": {},
   "outputs": [],
   "source": [
    "## load libraries\n",
    "import numpy as np\n",
    "import pandas as pd\n",
    "import matplotlib.pyplot as plt\n",
    "\n",
    "import seaborn as sns\n",
    "from sklearn.cluster import KMeans\n",
    "import scipy.stats as stats"
   ]
  },
  {
   "cell_type": "code",
   "execution_count": 2,
   "id": "651fc3bf",
   "metadata": {},
   "outputs": [
    {
     "data": {
      "text/html": [
       "<div>\n",
       "<style scoped>\n",
       "    .dataframe tbody tr th:only-of-type {\n",
       "        vertical-align: middle;\n",
       "    }\n",
       "\n",
       "    .dataframe tbody tr th {\n",
       "        vertical-align: top;\n",
       "    }\n",
       "\n",
       "    .dataframe thead th {\n",
       "        text-align: right;\n",
       "    }\n",
       "</style>\n",
       "<table border=\"1\" class=\"dataframe\">\n",
       "  <thead>\n",
       "    <tr style=\"text-align: right;\">\n",
       "      <th></th>\n",
       "      <th>Borough</th>\n",
       "      <th>Borough/Citywide Office (B/CO)</th>\n",
       "      <th>District</th>\n",
       "      <th>DBN</th>\n",
       "      <th>school_name</th>\n",
       "      <th>School Category</th>\n",
       "      <th>Program</th>\n",
       "      <th>Language</th>\n",
       "      <th>General/Special Education</th>\n",
       "    </tr>\n",
       "  </thead>\n",
       "  <tbody>\n",
       "    <tr>\n",
       "      <th>0</th>\n",
       "      <td>Manhattan</td>\n",
       "      <td>Manhattan</td>\n",
       "      <td>1</td>\n",
       "      <td>01M020</td>\n",
       "      <td>P.S. 020 Anna Silver</td>\n",
       "      <td>Elementary</td>\n",
       "      <td>Dual Language</td>\n",
       "      <td>Chinese</td>\n",
       "      <td>General Education</td>\n",
       "    </tr>\n",
       "    <tr>\n",
       "      <th>1</th>\n",
       "      <td>Manhattan</td>\n",
       "      <td>Manhattan</td>\n",
       "      <td>1</td>\n",
       "      <td>01M020</td>\n",
       "      <td>P.S. 020 Anna Silver</td>\n",
       "      <td>Elementary</td>\n",
       "      <td>Dual Language</td>\n",
       "      <td>Spanish</td>\n",
       "      <td>General Education</td>\n",
       "    </tr>\n",
       "    <tr>\n",
       "      <th>2</th>\n",
       "      <td>Manhattan</td>\n",
       "      <td>Manhattan</td>\n",
       "      <td>1</td>\n",
       "      <td>01M184</td>\n",
       "      <td>P.S. 184m Shuang Wen</td>\n",
       "      <td>K-8</td>\n",
       "      <td>Dual Language</td>\n",
       "      <td>Chinese</td>\n",
       "      <td>General Education</td>\n",
       "    </tr>\n",
       "    <tr>\n",
       "      <th>3</th>\n",
       "      <td>Manhattan</td>\n",
       "      <td>Manhattan</td>\n",
       "      <td>1</td>\n",
       "      <td>01M184</td>\n",
       "      <td>P.S. 184m Shuang Wen</td>\n",
       "      <td>K-8</td>\n",
       "      <td>Dual Language</td>\n",
       "      <td>Chinese</td>\n",
       "      <td>Special Education</td>\n",
       "    </tr>\n",
       "    <tr>\n",
       "      <th>4</th>\n",
       "      <td>Manhattan</td>\n",
       "      <td>Manhattan</td>\n",
       "      <td>1</td>\n",
       "      <td>01M188</td>\n",
       "      <td>P.S. 188 The Island School</td>\n",
       "      <td>K-8</td>\n",
       "      <td>Dual Language</td>\n",
       "      <td>Spanish</td>\n",
       "      <td>General Education</td>\n",
       "    </tr>\n",
       "  </tbody>\n",
       "</table>\n",
       "</div>"
      ],
      "text/plain": [
       "     Borough Borough/Citywide Office (B/CO)  District     DBN  \\\n",
       "0  Manhattan                      Manhattan         1  01M020   \n",
       "1  Manhattan                      Manhattan         1  01M020   \n",
       "2  Manhattan                      Manhattan         1  01M184   \n",
       "3  Manhattan                      Manhattan         1  01M184   \n",
       "4  Manhattan                      Manhattan         1  01M188   \n",
       "\n",
       "                  school_name School Category        Program Language  \\\n",
       "0        P.S. 020 Anna Silver      Elementary  Dual Language  Chinese   \n",
       "1        P.S. 020 Anna Silver      Elementary  Dual Language  Spanish   \n",
       "2        P.S. 184m Shuang Wen             K-8  Dual Language  Chinese   \n",
       "3        P.S. 184m Shuang Wen             K-8  Dual Language  Chinese   \n",
       "4  P.S. 188 The Island School             K-8  Dual Language  Spanish   \n",
       "\n",
       "  General/Special Education  \n",
       "0         General Education  \n",
       "1         General Education  \n",
       "2         General Education  \n",
       "3         Special Education  \n",
       "4         General Education  "
      ]
     },
     "execution_count": 2,
     "metadata": {},
     "output_type": "execute_result"
    }
   ],
   "source": [
    "bilingual_data = pd.read_csv(\"bilingual_rates.csv\")\n",
    "\n",
    "# FIXING/CLEANING COLUMNS\n",
    "bilingual_data.rename(columns={\"School Name\":\"school_name\", \"School\": \"DBN\"}, inplace=True)\n",
    "bilingual_data = bilingual_data.drop(columns = ['Language (Translated)', 'Special Education Model'])\n",
    "\n",
    "# FIXING DATA TYPES\n",
    "# change DBN + school name to string, district is already an int\n",
    "bilingual_str_columns = ['Borough', 'Borough/Citywide Office (B/CO)', 'DBN', 'school_name', 'School Category', 'Program', 'Language', 'General/Special Education']\n",
    "bilingual_data[bilingual_str_columns] = bilingual_data[bilingual_str_columns].astype(\"string\")\n",
    "\n",
    "# GETTING RID OF NULL'S\n",
    "notnull_array = bilingual_data.notnull()\n",
    "notnull_array.head()\n",
    "\n",
    "# include only rows that do not contain null values\n",
    "bilingual_data = bilingual_data[notnull_array]\n",
    "bilingual_data\n",
    "\n",
    "# DROP ACCESS AND TRANSITIONAL SCHOOLS (they are not traditional bilingual programs whose focus is teaching a second language)\n",
    "dropSchools = bilingual_data.loc[(bilingual_data['Borough/Citywide Office (B/CO)'] == \"ACCESS\") | (bilingual_data['Program'] != \"Dual Language\")]\n",
    "\n",
    "bilingual_data.drop(dropSchools.index, inplace=True)\n",
    "bilingual_data.head()"
   ]
  },
  {
   "cell_type": "code",
   "execution_count": 3,
   "id": "a7c5ddab-d697-40e8-9b12-5109d0545837",
   "metadata": {},
   "outputs": [
    {
     "data": {
      "text/html": [
       "<div>\n",
       "<style scoped>\n",
       "    .dataframe tbody tr th:only-of-type {\n",
       "        vertical-align: middle;\n",
       "    }\n",
       "\n",
       "    .dataframe tbody tr th {\n",
       "        vertical-align: top;\n",
       "    }\n",
       "\n",
       "    .dataframe thead th {\n",
       "        text-align: right;\n",
       "    }\n",
       "</style>\n",
       "<table border=\"1\" class=\"dataframe\">\n",
       "  <thead>\n",
       "    <tr style=\"text-align: right;\">\n",
       "      <th></th>\n",
       "      <th>DBN</th>\n",
       "      <th>school_name</th>\n",
       "      <th>Year</th>\n",
       "      <th>Total Enrollment</th>\n",
       "      <th>Grade 3K+PK (Half Day &amp; Full Day)</th>\n",
       "      <th>Grade K</th>\n",
       "      <th>Grade 1</th>\n",
       "      <th>Grade 2</th>\n",
       "      <th>Grade 3</th>\n",
       "      <th>Grade 4</th>\n",
       "      <th>...</th>\n",
       "      <th>% Multiple Race Categories Not Represented</th>\n",
       "      <th># White</th>\n",
       "      <th>% White</th>\n",
       "      <th># Students with Disabilities</th>\n",
       "      <th>% Students with Disabilities</th>\n",
       "      <th># English Language Learners</th>\n",
       "      <th>% English Language Learners</th>\n",
       "      <th># Poverty</th>\n",
       "      <th>% Poverty</th>\n",
       "      <th>Economic Need Index</th>\n",
       "    </tr>\n",
       "  </thead>\n",
       "  <tbody>\n",
       "    <tr>\n",
       "      <th>4</th>\n",
       "      <td>01M015</td>\n",
       "      <td>P.S. 015 Roberto Clemente</td>\n",
       "      <td>2019-20</td>\n",
       "      <td>190</td>\n",
       "      <td>14</td>\n",
       "      <td>29</td>\n",
       "      <td>28</td>\n",
       "      <td>38</td>\n",
       "      <td>33</td>\n",
       "      <td>29</td>\n",
       "      <td>...</td>\n",
       "      <td>0.011</td>\n",
       "      <td>9</td>\n",
       "      <td>0.047</td>\n",
       "      <td>44</td>\n",
       "      <td>0.232</td>\n",
       "      <td>17</td>\n",
       "      <td>0.089</td>\n",
       "      <td>155</td>\n",
       "      <td>81.6%</td>\n",
       "      <td>86.9</td>\n",
       "    </tr>\n",
       "    <tr>\n",
       "      <th>9</th>\n",
       "      <td>01M019</td>\n",
       "      <td>P.S. 019 Asher Levy</td>\n",
       "      <td>2019-20</td>\n",
       "      <td>236</td>\n",
       "      <td>16</td>\n",
       "      <td>25</td>\n",
       "      <td>27</td>\n",
       "      <td>39</td>\n",
       "      <td>45</td>\n",
       "      <td>42</td>\n",
       "      <td>...</td>\n",
       "      <td>0.038</td>\n",
       "      <td>19</td>\n",
       "      <td>0.081</td>\n",
       "      <td>94</td>\n",
       "      <td>0.398</td>\n",
       "      <td>8</td>\n",
       "      <td>0.034</td>\n",
       "      <td>176</td>\n",
       "      <td>74.6%</td>\n",
       "      <td>70.0</td>\n",
       "    </tr>\n",
       "    <tr>\n",
       "      <th>14</th>\n",
       "      <td>01M020</td>\n",
       "      <td>P.S. 020 Anna Silver</td>\n",
       "      <td>2019-20</td>\n",
       "      <td>464</td>\n",
       "      <td>41</td>\n",
       "      <td>63</td>\n",
       "      <td>61</td>\n",
       "      <td>71</td>\n",
       "      <td>76</td>\n",
       "      <td>65</td>\n",
       "      <td>...</td>\n",
       "      <td>0.034</td>\n",
       "      <td>31</td>\n",
       "      <td>0.067</td>\n",
       "      <td>102</td>\n",
       "      <td>0.220</td>\n",
       "      <td>61</td>\n",
       "      <td>0.131</td>\n",
       "      <td>352</td>\n",
       "      <td>75.9%</td>\n",
       "      <td>78.2</td>\n",
       "    </tr>\n",
       "    <tr>\n",
       "      <th>24</th>\n",
       "      <td>01M063</td>\n",
       "      <td>The STAR Academy - P.S.63</td>\n",
       "      <td>2019-20</td>\n",
       "      <td>229</td>\n",
       "      <td>26</td>\n",
       "      <td>40</td>\n",
       "      <td>34</td>\n",
       "      <td>38</td>\n",
       "      <td>30</td>\n",
       "      <td>32</td>\n",
       "      <td>...</td>\n",
       "      <td>0.031</td>\n",
       "      <td>17</td>\n",
       "      <td>0.074</td>\n",
       "      <td>69</td>\n",
       "      <td>0.301</td>\n",
       "      <td>5</td>\n",
       "      <td>0.022</td>\n",
       "      <td>177</td>\n",
       "      <td>77.3%</td>\n",
       "      <td>78.2</td>\n",
       "    </tr>\n",
       "    <tr>\n",
       "      <th>30</th>\n",
       "      <td>01M064</td>\n",
       "      <td>P.S. 064 Robert Simon</td>\n",
       "      <td>2019-20</td>\n",
       "      <td>236</td>\n",
       "      <td>34</td>\n",
       "      <td>23</td>\n",
       "      <td>44</td>\n",
       "      <td>30</td>\n",
       "      <td>41</td>\n",
       "      <td>31</td>\n",
       "      <td>...</td>\n",
       "      <td>0.021</td>\n",
       "      <td>10</td>\n",
       "      <td>0.042</td>\n",
       "      <td>63</td>\n",
       "      <td>0.267</td>\n",
       "      <td>4</td>\n",
       "      <td>0.017</td>\n",
       "      <td>214</td>\n",
       "      <td>90.7%</td>\n",
       "      <td>91.1</td>\n",
       "    </tr>\n",
       "  </tbody>\n",
       "</table>\n",
       "<p>5 rows × 39 columns</p>\n",
       "</div>"
      ],
      "text/plain": [
       "       DBN                school_name     Year  Total Enrollment  \\\n",
       "4   01M015  P.S. 015 Roberto Clemente  2019-20               190   \n",
       "9   01M019        P.S. 019 Asher Levy  2019-20               236   \n",
       "14  01M020       P.S. 020 Anna Silver  2019-20               464   \n",
       "24  01M063  The STAR Academy - P.S.63  2019-20               229   \n",
       "30  01M064      P.S. 064 Robert Simon  2019-20               236   \n",
       "\n",
       "    Grade 3K+PK (Half Day & Full Day)  Grade K  Grade 1  Grade 2  Grade 3  \\\n",
       "4                                  14       29       28       38       33   \n",
       "9                                  16       25       27       39       45   \n",
       "14                                 41       63       61       71       76   \n",
       "24                                 26       40       34       38       30   \n",
       "30                                 34       23       44       30       41   \n",
       "\n",
       "    Grade 4  ...  % Multiple Race Categories Not Represented  # White  \\\n",
       "4        29  ...                                       0.011        9   \n",
       "9        42  ...                                       0.038       19   \n",
       "14       65  ...                                       0.034       31   \n",
       "24       32  ...                                       0.031       17   \n",
       "30       31  ...                                       0.021       10   \n",
       "\n",
       "    % White  # Students with Disabilities  % Students with Disabilities  \\\n",
       "4     0.047                            44                         0.232   \n",
       "9     0.081                            94                         0.398   \n",
       "14    0.067                           102                         0.220   \n",
       "24    0.074                            69                         0.301   \n",
       "30    0.042                            63                         0.267   \n",
       "\n",
       "    # English Language Learners  % English Language Learners  # Poverty  \\\n",
       "4                            17                        0.089        155   \n",
       "9                             8                        0.034        176   \n",
       "14                           61                        0.131        352   \n",
       "24                            5                        0.022        177   \n",
       "30                            4                        0.017        214   \n",
       "\n",
       "    % Poverty  Economic Need Index  \n",
       "4       81.6%                 86.9  \n",
       "9       74.6%                 70.0  \n",
       "14      75.9%                 78.2  \n",
       "24      77.3%                 78.2  \n",
       "30      90.7%                 91.1  \n",
       "\n",
       "[5 rows x 39 columns]"
      ]
     },
     "execution_count": 3,
     "metadata": {},
     "output_type": "execute_result"
    }
   ],
   "source": [
    "demographic_data = pd.read_csv(\"demographic_schools.csv\")\n",
    "\n",
    "####### FIXING/CLEANING COLUMNS\n",
    "# print(demographic_data.columns)\n",
    "demographic_data.rename(columns={\"School Name\":\"school_name\"}, inplace=True)\n",
    "\n",
    "\n",
    "####### FIXING DATA TYPES\n",
    "# print(demographic_data.dtypes) # DBN + school name + year should be string; # Poverty, % Poverty, Economic Need Index should be ints/floats\n",
    "dem_str_columns = ['DBN', 'school_name', 'Year', 'Economic Need Index']\n",
    "demographic_data[dem_str_columns] = demographic_data[dem_str_columns].astype(\"string\")\n",
    "\n",
    "demographic_data['Economic Need Index'] = demographic_data['Economic Need Index'].str.replace(\"%\", \"\") # '# Poverty', '% Poverty', 'Economic Need Index' have special values like \"Above 95%\" and others are decimals..\n",
    "dropAbove = demographic_data.loc[(demographic_data['Economic Need Index'] == \"Above 95\") | (demographic_data['Economic Need Index'] == \"Below 5\")]\n",
    "# display(dropAbove)\n",
    "# print(dropAbove.index)\n",
    "demographic_data.drop(dropAbove.index, inplace=True)\n",
    "# display(demographic_data)\n",
    "demographic_data['Economic Need Index'] = demographic_data['Economic Need Index'].astype(\"float64\")\n",
    "\n",
    "# print(demographic_data.dtypes)\n",
    "# print(demographic_data)\n",
    "\n",
    "\n",
    "####### ONLY KEEP 2019-20 DATA\n",
    "demographic_data = demographic_data[demographic_data['Year'] == \"2019-20\"]\n",
    "demographic_data\n",
    "\n",
    "\n",
    "####### GETTING RID OF NULL'S\n",
    "# print(len(demographic_data))\n",
    "notnull_array = demographic_data.notnull()\n",
    "notnull_array.head()\n",
    "\n",
    "# include only rows that do not contain null values\n",
    "demographic_data = demographic_data[notnull_array]\n",
    "demographic_data.head()\n",
    "# print(len(demographic_data))\n",
    "# display(demographic_data)\n",
    "\n",
    "\n",
    "####### OTHER DATA CLEANING/EXPLORATION\n",
    "# demographic_data.shape\n",
    "# demographic_data.describe()"
   ]
  },
  {
   "cell_type": "code",
   "execution_count": 5,
   "id": "f634ff7f",
   "metadata": {},
   "outputs": [],
   "source": [
    "# MERGE:\n",
    "bilingual_demographic_data = pd.merge(bilingual_data, demographic_data, on=\"DBN\")\n",
    "bilingual_demographic_data.head(3)\n",
    "percent_race_data = bilingual_demographic_data[['% Asian', '% Black', '% Hispanic', '% Multiple Race Categories Not Represented', '% White']]\n",
    "bilingual_demographic_data['mostCommonEthnicGroup'] = percent_race_data.idxmax(axis=1)"
   ]
  },
  {
   "cell_type": "code",
   "execution_count": 6,
   "id": "031d9517",
   "metadata": {},
   "outputs": [],
   "source": [
    "bilingual_demographic_data.to_csv('bilingual_demographic-data.csv', index=False)"
   ]
  },
  {
   "cell_type": "markdown",
   "id": "fad53ba1",
   "metadata": {},
   "source": [
    "## Preregistration Statement\n",
    "\n",
    "1. Multinomial logistic regression - input: demographic vector where each element is the percentage of each race (ex: [0.5, 0.3, 0.2] represents the percentage of white, black, and Asians in the school population respectively), output: predicted bilingual language\n",
    "\n",
    "Hypothesis: We expect that this test will yield mild accuracy (60%) for predicting the major demographic of the school and the language offered at the school. We believe our model may somewhat accurately predict the correct corresponding language given the ethnic breakdown of a school. Looking at the results from our exploratory data analysis, we saw that the majority of the language programs were in Spanish. This makes sense because the second most common language in the USA as a whole is Spanish, so it would make sense that most schools would opt to teach Spanish as the second language regardless of ethnic breakdown, yet there are also schools where the major ethnic group is Hispanic. The results would be interesting because it would show whether or not the major demographic group in a school determines or has any influence on what language program is offered. It would also guide us forward in our analysis of other factors that could be the leading influence in determining the language for a language program.\n",
    "\n",
    "\n",
    "2. Multinomial logistic regression - input: economic need index, output: language\n",
    "\n",
    "Hypothesis: We believe our model will not accurately predict the correct corresponding language given the economic index of a school. This is because we do not believe that certain languages map to certain economic indices. For example, Spanish can be taught at schools that differ greatly in wealth (for example, since Spanish is the second most common language in the USA, schools of all wealth levels can opt to teach it as a second language. This could then mean there is no correlation between economic need index and bilingual language). The results of this would be interesting because it would show if there is a relationship between the language offered and economic need. It would be interesting to show what relationship there is if one exists, but it would also be just as interesting to note if there were no relationship at all. In the case that our model does accurately predict the language based on economic need index, this can hint that there is indeed a relationship/correlation between these two variables. This could make sense because wealthier schools may have greater access to resources for less common languages like Arabic.\n"
   ]
  },
  {
   "cell_type": "markdown",
   "id": "245396c9",
   "metadata": {},
   "source": [
    "## Data Analysis, Evaluation of Significance, and Interpretation of Logistic Models"
   ]
  },
  {
   "cell_type": "code",
   "execution_count": 7,
   "id": "f733f5f2",
   "metadata": {},
   "outputs": [],
   "source": [
    "## load libraries\n",
    "import numpy as np\n",
    "import pandas as pd\n",
    "import matplotlib.pyplot as plt\n",
    "\n",
    "import seaborn as sns\n",
    "from sklearn.cluster import KMeans"
   ]
  },
  {
   "cell_type": "code",
   "execution_count": 8,
   "id": "d917d7ba",
   "metadata": {},
   "outputs": [],
   "source": [
    "from sklearn.model_selection import train_test_split, cross_val_score\n",
    "from sklearn.linear_model import LogisticRegression\n",
    "from sklearn import metrics \n",
    "from sklearn.metrics import confusion_matrix, classification_report, ConfusionMatrixDisplay, accuracy_score"
   ]
  },
  {
   "cell_type": "code",
   "execution_count": 49,
   "id": "e31c3aa8",
   "metadata": {},
   "outputs": [],
   "source": [
    "bilingual_demographic_data = pd.read_csv('bilingual_demographic-data.csv')"
   ]
  },
  {
   "cell_type": "markdown",
   "id": "a8bdaa50",
   "metadata": {
    "tags": []
   },
   "source": [
    "#### Predicting language program from demographic data through multinomial logistic regression"
   ]
  },
  {
   "cell_type": "code",
   "execution_count": 11,
   "id": "3734616b",
   "metadata": {},
   "outputs": [
    {
     "data": {
      "text/plain": [
       "Spanish           196\n",
       "Chinese            26\n",
       "French             12\n",
       "Russian             4\n",
       "Italian             3\n",
       "Polish              2\n",
       "Japanese            1\n",
       "Haitian Creole      1\n",
       "Arabic              1\n",
       "Korean              1\n",
       "Name: Language, dtype: int64"
      ]
     },
     "execution_count": 11,
     "metadata": {},
     "output_type": "execute_result"
    }
   ],
   "source": [
    "bilingual_demographic_data[\"Language\"].value_counts()"
   ]
  },
  {
   "cell_type": "markdown",
   "id": "3b4d14a7",
   "metadata": {},
   "source": [
    "Looking at our data, although there were many languages being offered, it was clear that it was necessary to drop certain language programs because there was not enough data to support using them. Languages such as Arabic, Korean, Haitian Creole, and Japanese only had one school offering them as the bilingual language. Therefore, we limited our analyses to the top three most common languages in the bilingual programs - Spanish, Chinese, and French. \n",
    "\n",
    "To start, we decided to train a model using data sampled from eight schools for each language we were looking at (i.e. eight Spanish, eight Chinese, eight French). We did this to see if it would be more accurate that randomly taking a sample from the whole dataset because the most popular language, Spanish, had many more schools offering it than the second and third most common language. Therefore, we randomly took a smaller sample from each language to ensure that Spanish schools would not dominate the model. We used the language and the racial composition for the corresponding school as our training data. "
   ]
  },
  {
   "cell_type": "code",
   "execution_count": 12,
   "id": "5232c987",
   "metadata": {},
   "outputs": [],
   "source": [
    "# take samples from 8 schools for each language for X_train and y_train\n",
    "\n",
    "spanish_sample = bilingual_demographic_data.loc[bilingual_demographic_data['Language'] == 'Spanish'].sample(n=8, random_state = 1)\n",
    "chinese_sample = bilingual_demographic_data.loc[bilingual_demographic_data['Language'] == 'Chinese'].sample(n=8, random_state = 1)\n",
    "french_sample = bilingual_demographic_data.loc[bilingual_demographic_data['Language'] == 'French'].sample(n=8, random_state = 1)\n",
    "\n",
    "sample_training = spanish_sample.append(chinese_sample).append(french_sample)\n",
    "sample_race_training = sample_training[['% Asian', '% Black', '% Hispanic', '% Multiple Race Categories Not Represented', '% White']]\n",
    "\n",
    "X_train = sample_race_training\n",
    "y_train = sample_training['Language']"
   ]
  },
  {
   "cell_type": "markdown",
   "id": "755f4627",
   "metadata": {},
   "source": [
    "In order to get our testing data, we took samples different than those used for the training data."
   ]
  },
  {
   "cell_type": "code",
   "execution_count": 13,
   "id": "5eb34654",
   "metadata": {},
   "outputs": [],
   "source": [
    "# take different samples for the X_test and y_test\n",
    "\n",
    "# drop the schools used for the training data\n",
    "training_idx = sample_training.index\n",
    "\n",
    "# draw samples for testing data\n",
    "sample_testing = bilingual_demographic_data.drop(training_idx)\n",
    "sample_testing = sample_testing.sample(frac = .75)\n",
    "sample_race_testing = sample_testing[['% Asian', '% Black', '% Hispanic', '% Multiple Race Categories Not Represented', '% White']]\n",
    "\n",
    "X_test = sample_race_testing\n",
    "y_test = sample_testing['Language']"
   ]
  },
  {
   "cell_type": "markdown",
   "id": "a2dd54c5",
   "metadata": {},
   "source": [
    "We then built our model using our training data, and scored it using our testing data to evaluate the significance of our results."
   ]
  },
  {
   "cell_type": "code",
   "execution_count": 14,
   "id": "5eacd49f",
   "metadata": {},
   "outputs": [
    {
     "name": "stdout",
     "output_type": "stream",
     "text": [
      "Accuracy of the model: 0.7664670658682635\n",
      "Baseline accuracy: .333\n"
     ]
    }
   ],
   "source": [
    "# fit on train data, score on test data\n",
    "language_model = LogisticRegression(multi_class = 'multinomial', solver = 'newton-cg').fit(X_train, y_train)\n",
    "\n",
    "print(\"Accuracy of the model:\", language_model.score(X_test, y_test))\n",
    "print(\"Baseline accuracy: .333\")"
   ]
  },
  {
   "cell_type": "markdown",
   "id": "96a04104",
   "metadata": {},
   "source": [
    "**Results**\n",
    "\n",
    "The model score returned a value of .822. Because we sampled an equal amount of schools for the model, the model only had three choices to choose from. This means that the baseline accuracy would be .333, so our model accuracy is much higher than the baseline accuracy."
   ]
  },
  {
   "cell_type": "markdown",
   "id": "ee167bf9",
   "metadata": {},
   "source": [
    "**Train Test Split**\n",
    "\n",
    "As an alternative to the model in which we selected eight schools from each language, we decided to use a train test split, where we let set the test size equal to 30% of the data and used the rest of the data for training."
   ]
  },
  {
   "cell_type": "code",
   "execution_count": 15,
   "id": "18a174cf",
   "metadata": {},
   "outputs": [],
   "source": [
    "bilingual_demographic_data = bilingual_demographic_data.loc[(bilingual_demographic_data[\"Language\"] == \"Spanish\") | \n",
    "                                                            (bilingual_demographic_data[\"Language\"] == \"Chinese\") | \n",
    "                                                            (bilingual_demographic_data[\"Language\"] == \"French\")]"
   ]
  },
  {
   "cell_type": "code",
   "execution_count": 16,
   "id": "c8b1fe41",
   "metadata": {},
   "outputs": [
    {
     "name": "stdout",
     "output_type": "stream",
     "text": [
      "Length of train and test sets: 163 71\n",
      "Accuracy of the model: 0.9154929577464789\n"
     ]
    }
   ],
   "source": [
    "# train-test split (70%/30%)\n",
    "X_train_1, X_test_1, y_train_1, y_test_1 = train_test_split(bilingual_demographic_data[['% Asian', '% Black', '% Hispanic', \n",
    "                                                                                '% Multiple Race Categories Not Represented', '% White']], \n",
    "                                                    bilingual_demographic_data['Language'], test_size= 0.3)\n",
    "print(\"Length of train and test sets:\", len(y_train_1), len(y_test_1))\n",
    "language_model_2 = LogisticRegression(multi_class = 'multinomial', solver = 'newton-cg').fit(X_train_1, y_train_1)\n",
    "print(\"Accuracy of the model:\", language_model_2.score(X_test_1, y_test_1))"
   ]
  },
  {
   "cell_type": "code",
   "execution_count": 17,
   "id": "0dd7987d",
   "metadata": {},
   "outputs": [
    {
     "name": "stdout",
     "output_type": "stream",
     "text": [
      "Baseline accuracy: 0.838\n"
     ]
    }
   ],
   "source": [
    "num_spanish = len(bilingual_demographic_data[bilingual_demographic_data[\"Language\"]==\"Spanish\"])\n",
    "print('Baseline accuracy:', round(num_spanish/len(bilingual_demographic_data),3))"
   ]
  },
  {
   "cell_type": "markdown",
   "id": "a03d0148",
   "metadata": {},
   "source": [
    "**Results**\n",
    "\n",
    "The accuracy of the train test split model was .915. To find the baseline accuracy, we calculated the accuracy if Spanish was predicted everytime, as that is the most popular language. The baseline accuracy was .838, so our model was more accurate than just predicting Spanish everytime. Because the train test split method produced a more accurate model, so we decided to use this method going forward with our second logistic model."
   ]
  },
  {
   "cell_type": "code",
   "execution_count": 18,
   "id": "20f32a89",
   "metadata": {},
   "outputs": [
    {
     "name": "stdout",
     "output_type": "stream",
     "text": [
      "Confusion matrix\n"
     ]
    },
    {
     "data": {
      "text/plain": [
       "array([[ 13,   0,  13],\n",
       "       [  0,   0,  12],\n",
       "       [  2,   0, 194]])"
      ]
     },
     "metadata": {},
     "output_type": "display_data"
    },
    {
     "data": {
      "image/png": "[encoded data removed]",
      "text/plain": [
       "<Figure size 432x288 with 2 Axes>"
      ]
     },
     "metadata": {
      "needs_background": "light"
     },
     "output_type": "display_data"
    }
   ],
   "source": [
    "# confusion matrix\n",
    "\n",
    "# true labels and predicted labels\n",
    "y_true = bilingual_demographic_data['Language']\n",
    "y_pred = language_model_2.predict(bilingual_demographic_data[['% Asian', '% Black', '% Hispanic', \n",
    "                                                                                '% Multiple Race Categories Not Represented', '% White']].values)\n",
    "\n",
    "# confusion matrix\n",
    "print(\"Confusion matrix\")\n",
    "display(confusion_matrix(y_true, y_pred))\n",
    "\n",
    "\n",
    "disp = ConfusionMatrixDisplay(confusion_matrix(y_true, y_pred), display_labels=language_model.classes_)\n",
    "disp.plot()\n",
    "plt.title(\"Demographic Data Confusion Matrix\")\n",
    "plt.show()"
   ]
  },
  {
   "cell_type": "markdown",
   "id": "9033d39f",
   "metadata": {},
   "source": [
    "To visually represent this data, we made a confusion matrix. The confusion matrix shows that all the schools that the model predicted were French were in fact French, however, it only predicted one school as French. This makes sense as French was the least popular language, so it follows that the model would not predict a lot of French schools. For Chinese, it predicted 18 of the schools correctly, but predicted 5 schools as offering Chinese that actually offer Spanish. Regarding the Spanish schools, the model predicted most of the schools correctly, but given that there was a much larger sample size for the Spanish schools, this makes sense. "
   ]
  },
  {
   "cell_type": "code",
   "execution_count": 19,
   "id": "a0daca91",
   "metadata": {},
   "outputs": [
    {
     "name": "stdout",
     "output_type": "stream",
     "text": [
      "              precision    recall  f1-score   support\n",
      "\n",
      "     Chinese       0.87      0.50      0.63        26\n",
      "      French       0.00      0.00      0.00        12\n",
      "     Spanish       0.89      0.99      0.93       196\n",
      "\n",
      "    accuracy                           0.88       234\n",
      "   macro avg       0.58      0.50      0.52       234\n",
      "weighted avg       0.84      0.88      0.85       234\n",
      "\n"
     ]
    },
    {
     "name": "stderr",
     "output_type": "stream",
     "text": [
      "/opt/anaconda3/lib/python3.9/site-packages/sklearn/metrics/_classification.py:1248: UndefinedMetricWarning: Precision and F-score are ill-defined and being set to 0.0 in labels with no predicted samples. Use `zero_division` parameter to control this behavior.\n",
      "  _warn_prf(average, modifier, msg_start, len(result))\n",
      "/opt/anaconda3/lib/python3.9/site-packages/sklearn/metrics/_classification.py:1248: UndefinedMetricWarning: Precision and F-score are ill-defined and being set to 0.0 in labels with no predicted samples. Use `zero_division` parameter to control this behavior.\n",
      "  _warn_prf(average, modifier, msg_start, len(result))\n",
      "/opt/anaconda3/lib/python3.9/site-packages/sklearn/metrics/_classification.py:1248: UndefinedMetricWarning: Precision and F-score are ill-defined and being set to 0.0 in labels with no predicted samples. Use `zero_division` parameter to control this behavior.\n",
      "  _warn_prf(average, modifier, msg_start, len(result))\n"
     ]
    }
   ],
   "source": [
    "# classification report\n",
    "print(classification_report(y_true,y_pred))"
   ]
  },
  {
   "cell_type": "markdown",
   "id": "f327da43",
   "metadata": {},
   "source": [
    "To more quantitatively score our model, we looked at the classification report. Based on the f-1 score, the classifier works best for Spanish, as can also be seen through the confusion matrix. The recall for French was quite low, meaning the amount of correctly predicted positive observations compared to the all of the observations in the acutal class was very low. However, the precision scores differed because the model classfied schools incorrected in the French and Spanish category.\n",
    "\n",
    "These results are fairly consistent with our hypothesis. We believed that the model would yield about 60% accuracy, so it was more accurate than we believed it would be. This is most likely because we did not account for the fact that we would end up subsetting the data so that it included an equal amount of data from each school, which most likely made the accuracy improve because the model was not bombarded with just Spanish schools. Still, the model was consistent with our belief that there would be over prediction of Spanish language programs. "
   ]
  },
  {
   "cell_type": "code",
   "execution_count": 20,
   "id": "7712822a",
   "metadata": {},
   "outputs": [
    {
     "name": "stdout",
     "output_type": "stream",
     "text": [
      "Chinese\n",
      "% Asian coefficient: 2.2810000818502703\n",
      "% Black coefficient: -0.696368671436565\n",
      "% Hispanic coefficient: -1.0352743901012202\n",
      "% Multiple Race Categories Not Represented coefficient: -0.0934255289890953\n",
      "% White coefficient: -0.4565509848775974\n",
      "French\n",
      "% Asian coefficient: -0.9673156848217229\n",
      "% Black coefficient: 0.8131497003826004\n",
      "% Hispanic coefficient: -1.0367403414603629\n",
      "% Multiple Race Categories Not Represented coefficient: 0.11065754024503414\n",
      "% White coefficient: 1.0825725603004046\n",
      "Spanish\n",
      "% Asian coefficient: -1.3136843970285463\n",
      "% Black coefficient: -0.11678102894603543\n",
      "% Hispanic coefficient: 2.0720147315615853\n",
      "% Multiple Race Categories Not Represented coefficient: -0.017232011255938793\n",
      "% White coefficient: -0.6260215754228067\n"
     ]
    }
   ],
   "source": [
    "print(language_model_2.classes_[0])\n",
    "for i in range(sample_race_training.shape[1]):\n",
    "    print(sample_race_training.columns[i],\"coefficient:\", language_model_2.coef_[0][i])\n",
    "\n",
    "print(language_model_2.classes_[1])\n",
    "for i in range(sample_race_training.shape[1]):\n",
    "    print(sample_race_training.columns[i],\"coefficient:\", language_model_2.coef_[1][i])\n",
    "\n",
    "print(language_model_2.classes_[2])\n",
    "for i in range(sample_race_training.shape[1]):\n",
    "    print(sample_race_training.columns[i],\"coefficient:\", language_model_2.coef_[2][i])"
   ]
  },
  {
   "cell_type": "markdown",
   "id": "0a9414f0",
   "metadata": {},
   "source": [
    "In order to evaluate the weight of each input on the model, we used the coefficients for each language to determine which ethnicity had the biggest weight on the language choice. For the schools that the model predicted were Chinese, the ethnicity that had the biggest weight in the decision was Asian. For French schools, it was Hispanic, and for Spanish, it was also Hispanic. These results show that the language predicted is not necessarily based on the leading ethnic group that correlates to the language, as seen from the fact that Hispanic had the largest weight in both the French and Spanish classifiers. Still, the difference between the French and Spanish classifiers is that the French classifier had a much larger weight for the White race category. \n",
    "\n",
    "These results are somewhat different than our original hypothesis. This is because our original hypothesis rested on the assumption the language predicted would be based on the major demographic of the school. However, after working with our model, we realized that the language model does not know what the major ethnic group is; it can only predict based upon the training data that we inputted, and there were schools within the data that for example, had Hispanic as the major ethnic group, but had French as the language program. \n",
    "\n",
    "Limitations to this analysis include the fact that we only had eight schools from each category to train on. This is clearly a very limited sample size, but because there are so many less schools that offer French and Chinese, there does not exist more data that we could gather. "
   ]
  },
  {
   "cell_type": "markdown",
   "id": "05e51dd4",
   "metadata": {},
   "source": [
    "#### Predicting language program from economic data through multinomial logistic regression"
   ]
  },
  {
   "cell_type": "markdown",
   "id": "f00a4de3",
   "metadata": {},
   "source": [
    "Our second analysis involves using a multinomial logistics regression model to try and predict the bilingual language program given the ethnic breakdown of the school. "
   ]
  },
  {
   "cell_type": "markdown",
   "id": "341969c4-6ba6-46a0-8a46-24cee703a91e",
   "metadata": {},
   "source": [
    "We went with the method that yielded a higher accuracy in the previous model, and did another train test split."
   ]
  },
  {
   "cell_type": "code",
   "execution_count": 21,
   "id": "97681068-80a5-4001-8b77-1d1fcd84e1db",
   "metadata": {},
   "outputs": [
    {
     "name": "stdout",
     "output_type": "stream",
     "text": [
      "Length of train and test sets: 163 71\n"
     ]
    }
   ],
   "source": [
    "# train-test split (70%/30%)\n",
    "X_train, X_test, y_train, y_test = train_test_split(bilingual_demographic_data[[\"Economic Need Index\"]], bilingual_demographic_data['Language'], test_size= 0.3)\n",
    "print(\"Length of train and test sets:\", len(y_train), len(y_test))"
   ]
  },
  {
   "cell_type": "markdown",
   "id": "81f9a384-83ed-424b-b77d-496a872b3855",
   "metadata": {},
   "source": [
    "We have a training set of 163 and a testing set of 71. "
   ]
  },
  {
   "cell_type": "code",
   "execution_count": 22,
   "id": "db3c1061-ce19-4253-8f23-b8c1533a795c",
   "metadata": {},
   "outputs": [
    {
     "name": "stdout",
     "output_type": "stream",
     "text": [
      "Accuracy of the model: 0.8028169014084507\n"
     ]
    }
   ],
   "source": [
    "economic_model = LogisticRegression(multi_class = 'multinomial', solver = 'newton-cg').fit(X_train, y_train)\n",
    "print(\"Accuracy of the model:\", economic_model.score(X_test, y_test))"
   ]
  },
  {
   "cell_type": "markdown",
   "id": "6c1f9194-2b32-4bab-836c-edec4868cf0d",
   "metadata": {},
   "source": [
    "Testing on our training data, the accuracy rate of training on a randomly selected 70% of the data and scoring on the randomly selected remaining 30% is about 83%. "
   ]
  },
  {
   "cell_type": "markdown",
   "id": "73582ac3-adc2-4a09-bf9c-5ca3ec012eed",
   "metadata": {},
   "source": [
    "### Cross Validation "
   ]
  },
  {
   "cell_type": "code",
   "execution_count": 23,
   "id": "fbc05c47-2db7-4bfd-8d1a-9add6915b2a9",
   "metadata": {},
   "outputs": [
    {
     "name": "stdout",
     "output_type": "stream",
     "text": [
      "[0.79166667 0.83333333 0.79166667 0.79166667 0.86956522 0.82608696\n",
      " 0.91304348 0.86956522 0.86956522 0.86956522]\n",
      "Mean cross-validated accuracy: 0.843\n"
     ]
    }
   ],
   "source": [
    "scores = cross_val_score(\n",
    "    LogisticRegression(multi_class = 'multinomial', solver = 'newton-cg'), \n",
    "    bilingual_demographic_data[[\"Economic Need Index\"]], \n",
    "    bilingual_demographic_data[\"Language\"], \n",
    "    cv=10\n",
    ")\n",
    "\n",
    "print(scores)\n",
    "print(f'Mean cross-validated accuracy: {scores.mean():.3f}')"
   ]
  },
  {
   "cell_type": "markdown",
   "id": "86607978-9c17-4050-b93c-3c9c79ce6604",
   "metadata": {},
   "source": [
    "We picked a 90% slice of the data and scored on the remaining 10% and repeated the process 10 times but using a different 90% training set every time and used the average of the scores to represent the overall prediction of the non-overfitted version of the classifier. \n",
    "\n",
    "The mean cross-validated accuracy is 84.3%. "
   ]
  },
  {
   "cell_type": "code",
   "execution_count": 24,
   "id": "d45b76f1-137d-403a-a61c-f789de5ad65f",
   "metadata": {},
   "outputs": [
    {
     "name": "stdout",
     "output_type": "stream",
     "text": [
      "Baseline accuracy: 0.838\n"
     ]
    }
   ],
   "source": [
    "# baseline accuracy\n",
    "\n",
    "num_spanish = len(bilingual_demographic_data[bilingual_demographic_data[\"Language\"]==\"Spanish\"])\n",
    "print('Baseline accuracy:', round(num_spanish/len(bilingual_demographic_data),3))"
   ]
  },
  {
   "cell_type": "markdown",
   "id": "34b96873-fddd-48c0-8d72-eaf314ef89f3",
   "metadata": {},
   "source": [
    "Comparing the baseline accuracy which is guessing that every language predicted is the most common language which is spanish, we would be right 83.8% of the time. Compared to the cross validation accuracy, we would be right about 84.3% of the time. We outperformed the baseline by a little bit but the baseline accuracy rate and the cross validation accuracy is basically about the same accuracy. "
   ]
  },
  {
   "cell_type": "markdown",
   "id": "d773a90e-cc71-42e4-b60f-7f580df09ef9",
   "metadata": {},
   "source": [
    "To compare how accurate we predicted each language, we create a confusion matrix. "
   ]
  },
  {
   "cell_type": "code",
   "execution_count": 25,
   "id": "82453dca-bc2b-4204-8636-0bf8c68294e8",
   "metadata": {},
   "outputs": [
    {
     "name": "stdout",
     "output_type": "stream",
     "text": [
      "Confusion matrix\n",
      "[[  0   0  26]\n",
      " [  0   4   8]\n",
      " [  0   4 192]]\n"
     ]
    },
    {
     "data": {
      "image/png": "[encoded data removed]",
      "text/plain": [
       "<Figure size 432x288 with 2 Axes>"
      ]
     },
     "metadata": {
      "needs_background": "light"
     },
     "output_type": "display_data"
    }
   ],
   "source": [
    "# confusion matrix\n",
    "# true labels and predicted labels\n",
    "y_true = bilingual_demographic_data['Language']\n",
    "y_pred = economic_model.predict(bilingual_demographic_data[[\"Economic Need Index\"]])\n",
    "\n",
    "# confusion matrix\n",
    "print(\"Confusion matrix\")\n",
    "print(confusion_matrix(y_true, y_pred))\n",
    "\n",
    "# visualize confusion matrix\n",
    "labels = [\"Chinese\",\"French\",\"Spanish\"]\n",
    "# disp = ConfusionMatrixDisplay(confusion_matrix(y_true, y_pred), display_labels=economic_model.classes_)\n",
    "disp = ConfusionMatrixDisplay(confusion_matrix(y_true, y_pred), display_labels=economic_model.classes_)\n",
    "disp.plot()\n",
    "plt.title(\"Economic Confusion Matrix\")\n",
    "plt.show()"
   ]
  },
  {
   "cell_type": "markdown",
   "id": "166e4a3d-65eb-4906-b5de-994222d87955",
   "metadata": {},
   "source": [
    "Our confusion matrix showed that the majority of the languages is indeed in fact the Spanish language and that the language that was predicted the most accurately was also Spanish. Out of the 196 schools that were Spanish, one was predicted French when in fact it should have been Spanish. For the 12 French schools, one was predicted correctly, 11 were predicted Spanish and therefore, incorrectly. Out of the 26 Chinese schools, none of them were predicted correctly and therefore yielded a 0% precision. This makes sense because our data is dominated with schools that teach Spanish and there weren't many Chinese or French schools in the first place. As a result, the model didn't have a lot of data in the first place in order to accurately predict French and Chinese. "
   ]
  },
  {
   "cell_type": "code",
   "execution_count": 26,
   "id": "3597c449-7203-4886-97bf-3f32b321a58a",
   "metadata": {},
   "outputs": [
    {
     "name": "stdout",
     "output_type": "stream",
     "text": [
      "              precision    recall  f1-score   support\n",
      "\n",
      "     Chinese       0.00      0.00      0.00        26\n",
      "      French       0.50      0.33      0.40        12\n",
      "     Spanish       0.85      0.98      0.91       196\n",
      "\n",
      "    accuracy                           0.84       234\n",
      "   macro avg       0.45      0.44      0.44       234\n",
      "weighted avg       0.74      0.84      0.78       234\n",
      "\n"
     ]
    },
    {
     "name": "stderr",
     "output_type": "stream",
     "text": [
      "/opt/anaconda3/lib/python3.9/site-packages/sklearn/metrics/_classification.py:1248: UndefinedMetricWarning: Precision and F-score are ill-defined and being set to 0.0 in labels with no predicted samples. Use `zero_division` parameter to control this behavior.\n",
      "  _warn_prf(average, modifier, msg_start, len(result))\n",
      "/opt/anaconda3/lib/python3.9/site-packages/sklearn/metrics/_classification.py:1248: UndefinedMetricWarning: Precision and F-score are ill-defined and being set to 0.0 in labels with no predicted samples. Use `zero_division` parameter to control this behavior.\n",
      "  _warn_prf(average, modifier, msg_start, len(result))\n",
      "/opt/anaconda3/lib/python3.9/site-packages/sklearn/metrics/_classification.py:1248: UndefinedMetricWarning: Precision and F-score are ill-defined and being set to 0.0 in labels with no predicted samples. Use `zero_division` parameter to control this behavior.\n",
      "  _warn_prf(average, modifier, msg_start, len(result))\n"
     ]
    }
   ],
   "source": [
    "# classification report\n",
    "print(classification_report(y_true, y_pred))"
   ]
  },
  {
   "cell_type": "markdown",
   "id": "76c83290-a7ae-41f6-83c0-1bb768ef2b45",
   "metadata": {},
   "source": [
    "Our precision for language #1 which is Chinese is 0% and our recall is 0%. The precision for language #2 which is French and language #3 which is Spanish are a lot higher, 0.50 and 0.85 respectively. As a result, the overall score for French and Spanish a lot better than the score for Chinese. Overall, there is an accuracy average of 84% across all three languages. "
   ]
  },
  {
   "cell_type": "markdown",
   "id": "d6c1d3dd-bc71-4763-8ad0-ae26c2f4c3ac",
   "metadata": {},
   "source": [
    "#### Explanation and Evaluation\n",
    "Our hypothesis was that our logistic regression would not yield a relationship between the language and the economic need index of the school. According to our results of our train-test split data, our logistic regression would have an accuracy of 84.3% when running our mean cross-validation score. The accuracy rate is quite high which disproves our hypothesis and actually shows that there is a relationship between the language and the economic need index of the school. The results were surprisingly showing that there was a relationship that the model could predict the language based on the economic need index although we did not think that would happen because Spanish is the second most taught language in the USA and can be taught even in wealthier neighborhoods. Spanish. In our classification report, we were only able to predict somewhat French and Spanish but the model completely failed to predict Chinese as there was a 0% precision rate. \n",
    "\n",
    "Our data mainly included schools that were Spanish and therefore we used Spanish as the most popular language as the baseline rate to compare our logistic regression model. As a result, the language that was predicted the most accurately was in fact the Spanish language with a precision rate of 85%.\n",
    "\n",
    "When running our test-train split data for our economic regression model, we decided to drop 17 schools because their economic need index rate was above 95% and the rate that was presented from the dataset wasn’t a tangible value but rather a string that indicates the rate was above 95%. Because we didn’t want to make any assumptions and whether the actual school rate was 100% or 95% or 97% and input a random value from 95-100%, we decided to drop the schools. Dropping the schools didn’t make any real difference on our dataset because all the schools were schools that taught Spanish and since Spanish was already so heavily dominated, the schools that were dropped would have been likely to be categorized as Spanish either way. As a result, dropping the schools wouldn’t have affected the data too much. \n",
    "\n",
    "Because Spanish so heavily dominated our dataset, we tried to run our logistic regression using an equal number of samples from each language. After running this new model, the baseline accuracy which was 33% accuracy since there were the same number of schools in each language was actually higher than the predicted logistic model that we ran. \n"
   ]
  },
  {
   "cell_type": "markdown",
   "id": "9b4dc91e",
   "metadata": {},
   "source": [
    "### What significant differences exist in the background (racial demographics and economic need) among schools with a certain language program? \n",
    "After evaluating our models that aimed to predict how a language program was chosen, we were curious how the language chosen in a school related to other factors in the school. In order to more fully understand the contextual factors at hand, we decided to look more in depth at the schools that offered each language program and compare the trends within each school to each other. This way, we could not only see what factors contributed to which language was being chosen, but also what the ramifications were for choosing a specific language. Therefore, we aimed to analyze how the language chosen for these schools may influence the racial distribution, economic need, gender distribution.\n",
    "\n",
    "Here, we focus on analyzing trends and differences between schools teaching Spanish, Chinese, or French as their selected bilingual languages.\n",
    "\n",
    "After performing our multinomial logistic regressions, we discovered that most of our data comprised of schools with Spanish, Chinese, or French as their selected bilingual languages. Spanish was the overwhelming majority, with 213 schools choosing it for their bilingual program, while 26 schools had Chinese and 12 schools had French. All other languages like Russian, Italian, and Japanese had only a few schools. Because the amount of data for these schools was too small (1-4 datapoints), we decided to focus on the top 3 languages: Spanish, Chinese, and French. \n",
    "\n",
    "We decided to focus specifically on schools that teach Spanish because 1) it is the most common second language in our dataset by an overwhelming amount, and 2) it is the most common second language in the USA. Thus, schools may select Spanish as the second language in their bilingual program regardless of the ethnic breakdown of a school. Because of this, we wanted to at least see how different schools teaching Spanish would be from schools teaching Chinese and French in terms of racial demographics, econonic need, and gender distribution."
   ]
  },
  {
   "cell_type": "code",
   "execution_count": 27,
   "id": "24e93f38",
   "metadata": {},
   "outputs": [
    {
     "name": "stdout",
     "output_type": "stream",
     "text": [
      "196\n",
      "26\n",
      "12\n"
     ]
    },
    {
     "data": {
      "text/plain": [
       "Spanish    196\n",
       "Chinese     26\n",
       "French      12\n",
       "Name: Language, dtype: int64"
      ]
     },
     "execution_count": 27,
     "metadata": {},
     "output_type": "execute_result"
    }
   ],
   "source": [
    "spanish_schools_data = bilingual_demographic_data[bilingual_demographic_data[\"Language\"] == \"Spanish\"]\n",
    "chinese_schools_data = bilingual_demographic_data[bilingual_demographic_data[\"Language\"] == \"Chinese\"]\n",
    "french_schools_data = bilingual_demographic_data[bilingual_demographic_data[\"Language\"] == \"French\"]\n",
    "\n",
    "chosenLanguageData = [spanish_schools_data, chinese_schools_data, french_schools_data]\n",
    "for language in chosenLanguageData: \n",
    "    print(len(language))\n",
    "bilingual_demographic_data[\"Language\"].value_counts()"
   ]
  },
  {
   "cell_type": "markdown",
   "id": "2cbafd6a",
   "metadata": {},
   "source": [
    "Here, an apparent limitation to our data arises. For the rest of this analysis, we would be comparing 196 datapoints for schools teaching Spanish vs. 26 for Chinese vs. 12 for French. In other words, our data is very skewed for schools teaching Spanish and the sample size may not be sufficiently large enough for schools teaching Chinese and French, especially in comparison to schools teaching Spanish. Thus, our results may not yield a fair comparison of schools teaching Chinese and French with schools teaching Spanish, which has a much larger and thus probably more reliable sample size and results."
   ]
  },
  {
   "cell_type": "code",
   "execution_count": 28,
   "id": "004e56ea",
   "metadata": {},
   "outputs": [
    {
     "name": "stdout",
     "output_type": "stream",
     "text": [
      "LANGUAGE: 1    Spanish\n",
      "Name: Language, dtype: object\n",
      "The count, mean, standard deviation, quantiles, variance, and other stats for the percentage of females in schools teaching 1    Spanish\n",
      "Name: Language, dtype: object\n"
     ]
    },
    {
     "data": {
      "text/plain": [
       "count    196.000000\n",
       "mean       0.488357\n",
       "std        0.030266\n",
       "min        0.262000\n",
       "25%        0.471750\n",
       "50%        0.492000\n",
       "75%        0.505000\n",
       "max        0.560000\n",
       "Name: % Female, dtype: float64"
      ]
     },
     "metadata": {},
     "output_type": "display_data"
    },
    {
     "name": "stdout",
     "output_type": "stream",
     "text": [
      "None\n",
      "variance \t 0.0009160564102564109\n",
      "\n",
      "\n",
      "The count, mean, standard deviation, quantiles, variance, and other stats for the percentage of females in schools teaching 1    Spanish\n",
      "Name: Language, dtype: object\n",
      "count    196.000000\n",
      "mean       0.511643\n",
      "std        0.030266\n",
      "min        0.440000\n",
      "25%        0.495000\n",
      "50%        0.508000\n",
      "75%        0.528250\n",
      "max        0.738000\n",
      "Name: % Male, dtype: float64\n",
      "variance \t 0.000916056410256411\n",
      "\n",
      "\n",
      "The count, mean, standard deviation, quantiles, variance, and other stats for the percentage of females in schools teaching 1    Spanish\n",
      "Name: Language, dtype: object\n",
      "count    196.000000\n",
      "mean       1.057525\n",
      "std        0.166775\n",
      "min        0.786127\n",
      "25%        0.980195\n",
      "50%        1.033058\n",
      "75%        1.121200\n",
      "max        2.816000\n",
      "dtype: float64\n",
      "variance \t 0.02781399146042727\n"
     ]
    },
    {
     "name": "stderr",
     "output_type": "stream",
     "text": [
      "/var/folders/dl/bxcn0n6d1pj338vdrsngy2_m0000gn/T/ipykernel_1319/94714840.py:19: SettingWithCopyWarning: \n",
      "A value is trying to be set on a copy of a slice from a DataFrame.\n",
      "Try using .loc[row_indexer,col_indexer] = value instead\n",
      "\n",
      "See the caveats in the documentation: https://pandas.pydata.org/pandas-docs/stable/user_guide/indexing.html#returning-a-view-versus-a-copy\n",
      "  languageData['male_female_ratio'] = male_female_ratio\n"
     ]
    },
    {
     "data": {
      "image/png": "[encoded data removed]",
      "text/plain": [
       "<Figure size 432x288 with 1 Axes>"
      ]
     },
     "metadata": {
      "needs_background": "light"
     },
     "output_type": "display_data"
    },
    {
     "name": "stdout",
     "output_type": "stream",
     "text": [
      "\n",
      "\n",
      "\n",
      "LANGUAGE: 0    Chinese\n",
      "Name: Language, dtype: object\n",
      "The count, mean, standard deviation, quantiles, variance, and other stats for the percentage of females in schools teaching 0    Chinese\n",
      "Name: Language, dtype: object\n"
     ]
    },
    {
     "data": {
      "text/plain": [
       "count    26.000000\n",
       "mean      0.476308\n",
       "std       0.035358\n",
       "min       0.408000\n",
       "25%       0.458500\n",
       "50%       0.477500\n",
       "75%       0.496750\n",
       "max       0.586000\n",
       "Name: % Female, dtype: float64"
      ]
     },
     "metadata": {},
     "output_type": "display_data"
    },
    {
     "name": "stdout",
     "output_type": "stream",
     "text": [
      "None\n",
      "variance \t 0.0012502215384615383\n",
      "\n",
      "\n",
      "The count, mean, standard deviation, quantiles, variance, and other stats for the percentage of females in schools teaching 0    Chinese\n",
      "Name: Language, dtype: object\n",
      "count    26.000000\n",
      "mean      0.523692\n",
      "std       0.035358\n",
      "min       0.414000\n",
      "25%       0.503250\n",
      "50%       0.522500\n",
      "75%       0.541500\n",
      "max       0.592000\n",
      "Name: % Male, dtype: float64\n",
      "variance \t 0.0012502215384615383\n",
      "\n",
      "\n",
      "The count, mean, standard deviation, quantiles, variance, and other stats for the percentage of females in schools teaching 0    Chinese\n",
      "Name: Language, dtype: object\n",
      "count    26.000000\n",
      "mean      1.110185\n",
      "std       0.153779\n",
      "min       0.706897\n",
      "25%       1.014674\n",
      "50%       1.094496\n",
      "75%       1.180356\n",
      "max       1.451613\n",
      "dtype: float64\n",
      "variance \t 0.023647890288348673\n"
     ]
    },
    {
     "data": {
      "image/png": "[encoded data removed]",
      "text/plain": [
       "<Figure size 432x288 with 1 Axes>"
      ]
     },
     "metadata": {
      "needs_background": "light"
     },
     "output_type": "display_data"
    },
    {
     "name": "stdout",
     "output_type": "stream",
     "text": [
      "\n",
      "\n",
      "\n",
      "LANGUAGE: Series([], Name: Language, dtype: object)\n",
      "The count, mean, standard deviation, quantiles, variance, and other stats for the percentage of females in schools teaching Series([], Name: Language, dtype: object)\n"
     ]
    },
    {
     "data": {
      "text/plain": [
       "count    12.000000\n",
       "mean      0.500333\n",
       "std       0.026099\n",
       "min       0.454000\n",
       "25%       0.491500\n",
       "50%       0.500500\n",
       "75%       0.513000\n",
       "max       0.540000\n",
       "Name: % Female, dtype: float64"
      ]
     },
     "metadata": {},
     "output_type": "display_data"
    },
    {
     "name": "stdout",
     "output_type": "stream",
     "text": [
      "None\n",
      "variance \t 0.0006811515151515155\n",
      "\n",
      "\n",
      "The count, mean, standard deviation, quantiles, variance, and other stats for the percentage of females in schools teaching Series([], Name: Language, dtype: object)\n",
      "count    12.000000\n",
      "mean      0.499667\n",
      "std       0.026099\n",
      "min       0.460000\n",
      "25%       0.487000\n",
      "50%       0.499500\n",
      "75%       0.508500\n",
      "max       0.546000\n",
      "Name: % Male, dtype: float64\n",
      "variance \t 0.0006811515151515156\n",
      "\n",
      "\n",
      "The count, mean, standard deviation, quantiles, variance, and other stats for the percentage of females in schools teaching Series([], Name: Language, dtype: object)\n",
      "count    12.000000\n",
      "mean      1.003945\n",
      "std       0.105825\n",
      "min       0.851752\n",
      "25%       0.950709\n",
      "50%       0.997253\n",
      "75%       1.035016\n",
      "max       1.204380\n",
      "dtype: float64\n",
      "variance \t 0.011198877603029168\n"
     ]
    },
    {
     "data": {
      "image/png": "[encoded data removed]",
      "text/plain": [
       "<Figure size 432x288 with 1 Axes>"
      ]
     },
     "metadata": {
      "needs_background": "light"
     },
     "output_type": "display_data"
    },
    {
     "name": "stdout",
     "output_type": "stream",
     "text": [
      "\n",
      "\n",
      "\n"
     ]
    }
   ],
   "source": [
    "# HISTOGRAM - GENDER DISTRIBUTION AND RATIO\n",
    "for languageData in chosenLanguageData: \n",
    "#     print(languageData.Language)\n",
    "    language = languageData.Language.loc[:1]\n",
    "    # [FIX]\n",
    "    print(\"LANGUAGE: {}\".format(language))\n",
    "\n",
    "    print(\"The count, mean, standard deviation, quantiles, variance, and other stats for the percentage of females in schools teaching {}\".format(language))\n",
    "    print(display(languageData[\"% Female\"].describe()))\n",
    "    print(\"variance \\t {}\".format(languageData[\"% Female\"].var()))\n",
    "    print(\"\\n\")\n",
    "\n",
    "    print(\"The count, mean, standard deviation, quantiles, variance, and other stats for the percentage of females in schools teaching {}\".format(language))\n",
    "    print(languageData[\"% Male\"].describe())\n",
    "    print(\"variance \\t {}\".format(languageData[\"% Male\"].var()))\n",
    "    print(\"\\n\")\n",
    "    \n",
    "    male_female_ratio = languageData[\"# Male\"] / languageData[\"# Female\"]\n",
    "    languageData['male_female_ratio'] = male_female_ratio\n",
    "    # A male:female ratio of 1 means about an there is even 50% / 50% makeup of male vs. females in the school population.\n",
    "\n",
    "    # print(\"The Male:Female ratio for each school teaching {}:  \\n{}\\n\".format(language, male_female_ratio))\n",
    "\n",
    "    print(\"The count, mean, standard deviation, quantiles, variance, and other stats for the percentage of females in schools teaching {}\".format(language))\n",
    "    print(male_female_ratio.describe())\n",
    "    print(\"variance \\t {}\".format(male_female_ratio.var()))\n",
    "\n",
    "    \n",
    "    # DISTRIBUTION OF MALE-FEMALE RATIOS ACROSS ALL SCHOOLS WITH SPANISH, CHINESE, OR FRENCH AS ITS SECOND LANGUAGE\n",
    "    male_female_ratio.hist(bins=15)\n",
    "    plt.xlabel(\"Male-Female Ratio\")\n",
    "    plt.ylabel(\"Number of Schools\")\n",
    "    plt.show()\n",
    "    \n",
    "    print(\"\\n\\n\")\n"
   ]
  },
  {
   "cell_type": "markdown",
   "id": "7f79103b",
   "metadata": {},
   "source": [
    "Within schools that teach Spanish as the second language in their bilingual program, we can see from the histogram that the average male-to-female ratio is about 1.06. This means that most of these schools have an even number of males to females. The standard deviation is also quite low (0.167), meaning the data are clustered around the mean. Because of few extreme values, this means we have a more reliable mean. "
   ]
  },
  {
   "cell_type": "code",
   "execution_count": 29,
   "id": "caf82477",
   "metadata": {},
   "outputs": [
    {
     "data": {
      "text/html": [
       "<div>\n",
       "<style scoped>\n",
       "    .dataframe tbody tr th:only-of-type {\n",
       "        vertical-align: middle;\n",
       "    }\n",
       "\n",
       "    .dataframe tbody tr th {\n",
       "        vertical-align: top;\n",
       "    }\n",
       "\n",
       "    .dataframe thead th {\n",
       "        text-align: right;\n",
       "    }\n",
       "</style>\n",
       "<table border=\"1\" class=\"dataframe\">\n",
       "  <thead>\n",
       "    <tr style=\"text-align: right;\">\n",
       "      <th></th>\n",
       "      <th>Borough</th>\n",
       "      <th>Borough/Citywide Office (B/CO)</th>\n",
       "      <th>District</th>\n",
       "      <th>DBN</th>\n",
       "      <th>school_name_x</th>\n",
       "      <th>School Category</th>\n",
       "      <th>Program</th>\n",
       "      <th>Language</th>\n",
       "      <th>General/Special Education</th>\n",
       "      <th>school_name_y</th>\n",
       "      <th>...</th>\n",
       "      <th>% White</th>\n",
       "      <th># Students with Disabilities</th>\n",
       "      <th>% Students with Disabilities</th>\n",
       "      <th># English Language Learners</th>\n",
       "      <th>% English Language Learners</th>\n",
       "      <th># Poverty</th>\n",
       "      <th>% Poverty</th>\n",
       "      <th>Economic Need Index</th>\n",
       "      <th>mostCommonEthnicGroup</th>\n",
       "      <th>male_female_ratio</th>\n",
       "    </tr>\n",
       "  </thead>\n",
       "  <tbody>\n",
       "    <tr>\n",
       "      <th>11</th>\n",
       "      <td>Manhattan</td>\n",
       "      <td>Manhattan</td>\n",
       "      <td>3</td>\n",
       "      <td>03M084</td>\n",
       "      <td>P.S. 084 Lillian Weber</td>\n",
       "      <td>Elementary</td>\n",
       "      <td>Dual Language</td>\n",
       "      <td>French</td>\n",
       "      <td>General Education</td>\n",
       "      <td>P.S. 084 Lillian Weber</td>\n",
       "      <td>...</td>\n",
       "      <td>0.515</td>\n",
       "      <td>113</td>\n",
       "      <td>0.164</td>\n",
       "      <td>39</td>\n",
       "      <td>0.057</td>\n",
       "      <td>235</td>\n",
       "      <td>34.2%</td>\n",
       "      <td>37.5</td>\n",
       "      <td>% White</td>\n",
       "      <td>0.851752</td>\n",
       "    </tr>\n",
       "    <tr>\n",
       "      <th>21</th>\n",
       "      <td>Manhattan</td>\n",
       "      <td>Manhattan</td>\n",
       "      <td>3</td>\n",
       "      <td>03M256</td>\n",
       "      <td>Lafayette Academy</td>\n",
       "      <td>Junior High-Intermediate-Middle</td>\n",
       "      <td>Dual Language</td>\n",
       "      <td>French</td>\n",
       "      <td>General Education</td>\n",
       "      <td>Lafayette Academy</td>\n",
       "      <td>...</td>\n",
       "      <td>0.273</td>\n",
       "      <td>32</td>\n",
       "      <td>0.224</td>\n",
       "      <td>16</td>\n",
       "      <td>0.112</td>\n",
       "      <td>97</td>\n",
       "      <td>67.8%</td>\n",
       "      <td>63.2</td>\n",
       "      <td>% Black</td>\n",
       "      <td>1.014085</td>\n",
       "    </tr>\n",
       "    <tr>\n",
       "      <th>88</th>\n",
       "      <td>Brooklyn</td>\n",
       "      <td>Brooklyn North</td>\n",
       "      <td>13</td>\n",
       "      <td>13K003</td>\n",
       "      <td>P.S. 003 The Bedford Village</td>\n",
       "      <td>Elementary</td>\n",
       "      <td>Dual Language</td>\n",
       "      <td>French</td>\n",
       "      <td>General Education</td>\n",
       "      <td>P.S. 003 The Bedford Village</td>\n",
       "      <td>...</td>\n",
       "      <td>0.030</td>\n",
       "      <td>59</td>\n",
       "      <td>0.195</td>\n",
       "      <td>21</td>\n",
       "      <td>0.070</td>\n",
       "      <td>267</td>\n",
       "      <td>88.4%</td>\n",
       "      <td>86.6</td>\n",
       "      <td>% Black</td>\n",
       "      <td>1.204380</td>\n",
       "    </tr>\n",
       "    <tr>\n",
       "      <th>90</th>\n",
       "      <td>Brooklyn</td>\n",
       "      <td>Brooklyn North</td>\n",
       "      <td>13</td>\n",
       "      <td>13K020</td>\n",
       "      <td>P.S. 020 Clinton Hill</td>\n",
       "      <td>Elementary</td>\n",
       "      <td>Dual Language</td>\n",
       "      <td>French</td>\n",
       "      <td>General Education</td>\n",
       "      <td>P.S. 020 Clinton Hill</td>\n",
       "      <td>...</td>\n",
       "      <td>0.299</td>\n",
       "      <td>85</td>\n",
       "      <td>0.158</td>\n",
       "      <td>26</td>\n",
       "      <td>0.048</td>\n",
       "      <td>288</td>\n",
       "      <td>53.4%</td>\n",
       "      <td>48.0</td>\n",
       "      <td>% Black</td>\n",
       "      <td>0.852234</td>\n",
       "    </tr>\n",
       "    <tr>\n",
       "      <th>94</th>\n",
       "      <td>Brooklyn</td>\n",
       "      <td>Brooklyn North</td>\n",
       "      <td>13</td>\n",
       "      <td>13K133</td>\n",
       "      <td>P.S. 133 William A. Butler</td>\n",
       "      <td>Elementary</td>\n",
       "      <td>Dual Language</td>\n",
       "      <td>French</td>\n",
       "      <td>General Education</td>\n",
       "      <td>P.S. 133 William A. Butler</td>\n",
       "      <td>...</td>\n",
       "      <td>0.291</td>\n",
       "      <td>117</td>\n",
       "      <td>0.161</td>\n",
       "      <td>43</td>\n",
       "      <td>0.059</td>\n",
       "      <td>254</td>\n",
       "      <td>35.0%</td>\n",
       "      <td>43.4</td>\n",
       "      <td>% Hispanic</td>\n",
       "      <td>0.994505</td>\n",
       "    </tr>\n",
       "    <tr>\n",
       "      <th>96</th>\n",
       "      <td>Brooklyn</td>\n",
       "      <td>Brooklyn North</td>\n",
       "      <td>13</td>\n",
       "      <td>13K691</td>\n",
       "      <td>Fort Greene Preparatory Academy</td>\n",
       "      <td>Junior High-Intermediate-Middle</td>\n",
       "      <td>Dual Language</td>\n",
       "      <td>French</td>\n",
       "      <td>General Education</td>\n",
       "      <td>Fort Greene Preparatory Academy</td>\n",
       "      <td>...</td>\n",
       "      <td>0.014</td>\n",
       "      <td>66</td>\n",
       "      <td>0.316</td>\n",
       "      <td>12</td>\n",
       "      <td>0.057</td>\n",
       "      <td>192</td>\n",
       "      <td>91.9%</td>\n",
       "      <td>88.3</td>\n",
       "      <td>% Black</td>\n",
       "      <td>1.154639</td>\n",
       "    </tr>\n",
       "    <tr>\n",
       "      <th>102</th>\n",
       "      <td>Brooklyn</td>\n",
       "      <td>Brooklyn North</td>\n",
       "      <td>14</td>\n",
       "      <td>14K110</td>\n",
       "      <td>P.S. 110 The Monitor</td>\n",
       "      <td>Elementary</td>\n",
       "      <td>Dual Language</td>\n",
       "      <td>French</td>\n",
       "      <td>General Education</td>\n",
       "      <td>P.S. 110 The Monitor</td>\n",
       "      <td>...</td>\n",
       "      <td>0.704</td>\n",
       "      <td>45</td>\n",
       "      <td>0.076</td>\n",
       "      <td>43</td>\n",
       "      <td>0.072</td>\n",
       "      <td>148</td>\n",
       "      <td>24.9%</td>\n",
       "      <td>29.8</td>\n",
       "      <td>% White</td>\n",
       "      <td>1.020408</td>\n",
       "    </tr>\n",
       "    <tr>\n",
       "      <th>109</th>\n",
       "      <td>Brooklyn</td>\n",
       "      <td>Brooklyn North</td>\n",
       "      <td>14</td>\n",
       "      <td>14K318</td>\n",
       "      <td>I.S. 318 Eugenio Maria De Hostos</td>\n",
       "      <td>Junior High-Intermediate-Middle</td>\n",
       "      <td>Dual Language</td>\n",
       "      <td>French</td>\n",
       "      <td>General Education</td>\n",
       "      <td>I.S. 318 Eugenio Maria De Hostos</td>\n",
       "      <td>...</td>\n",
       "      <td>0.207</td>\n",
       "      <td>235</td>\n",
       "      <td>0.185</td>\n",
       "      <td>61</td>\n",
       "      <td>0.048</td>\n",
       "      <td>812</td>\n",
       "      <td>64.1%</td>\n",
       "      <td>69.9</td>\n",
       "      <td>% Hispanic</td>\n",
       "      <td>0.958269</td>\n",
       "    </tr>\n",
       "    <tr>\n",
       "      <th>117</th>\n",
       "      <td>Brooklyn</td>\n",
       "      <td>Brooklyn North</td>\n",
       "      <td>15</td>\n",
       "      <td>15K058</td>\n",
       "      <td>P.S. 058 The Carroll</td>\n",
       "      <td>Elementary</td>\n",
       "      <td>Dual Language</td>\n",
       "      <td>French</td>\n",
       "      <td>General Education</td>\n",
       "      <td>P.S. 058 The Carroll</td>\n",
       "      <td>...</td>\n",
       "      <td>0.735</td>\n",
       "      <td>141</td>\n",
       "      <td>0.141</td>\n",
       "      <td>48</td>\n",
       "      <td>0.048</td>\n",
       "      <td>112</td>\n",
       "      <td>11.2%</td>\n",
       "      <td>13.0</td>\n",
       "      <td>% White</td>\n",
       "      <td>1.078838</td>\n",
       "    </tr>\n",
       "    <tr>\n",
       "      <th>124</th>\n",
       "      <td>Brooklyn</td>\n",
       "      <td>Brooklyn North</td>\n",
       "      <td>15</td>\n",
       "      <td>15K136</td>\n",
       "      <td>I.S. 136 Charles O. Dewey</td>\n",
       "      <td>Junior High-Intermediate-Middle</td>\n",
       "      <td>Dual Language</td>\n",
       "      <td>French</td>\n",
       "      <td>General Education</td>\n",
       "      <td>I.S. 136 Charles O. Dewey</td>\n",
       "      <td>...</td>\n",
       "      <td>0.061</td>\n",
       "      <td>127</td>\n",
       "      <td>0.250</td>\n",
       "      <td>182</td>\n",
       "      <td>0.358</td>\n",
       "      <td>479</td>\n",
       "      <td>94.1%</td>\n",
       "      <td>88.9</td>\n",
       "      <td>% Hispanic</td>\n",
       "      <td>0.928030</td>\n",
       "    </tr>\n",
       "    <tr>\n",
       "      <th>130</th>\n",
       "      <td>Brooklyn</td>\n",
       "      <td>Brooklyn North</td>\n",
       "      <td>15</td>\n",
       "      <td>15K497</td>\n",
       "      <td>The Boerum Hill School for International Studies</td>\n",
       "      <td>Secondary School</td>\n",
       "      <td>Dual Language</td>\n",
       "      <td>French</td>\n",
       "      <td>General Education</td>\n",
       "      <td>The Boerum Hill School for International Studies</td>\n",
       "      <td>...</td>\n",
       "      <td>0.397</td>\n",
       "      <td>157</td>\n",
       "      <td>0.193</td>\n",
       "      <td>53</td>\n",
       "      <td>0.065</td>\n",
       "      <td>368</td>\n",
       "      <td>45.3%</td>\n",
       "      <td>47.8</td>\n",
       "      <td>% White</td>\n",
       "      <td>0.990196</td>\n",
       "    </tr>\n",
       "    <tr>\n",
       "      <th>136</th>\n",
       "      <td>Brooklyn</td>\n",
       "      <td>Brooklyn North</td>\n",
       "      <td>16</td>\n",
       "      <td>16K005</td>\n",
       "      <td>P.S. 005 Dr. Ronald McNair</td>\n",
       "      <td>Elementary</td>\n",
       "      <td>Dual Language</td>\n",
       "      <td>French</td>\n",
       "      <td>General Education</td>\n",
       "      <td>P.S. 005 Dr. Ronald McNair</td>\n",
       "      <td>...</td>\n",
       "      <td>0.069</td>\n",
       "      <td>64</td>\n",
       "      <td>0.258</td>\n",
       "      <td>13</td>\n",
       "      <td>0.052</td>\n",
       "      <td>197</td>\n",
       "      <td>79.4%</td>\n",
       "      <td>81.6</td>\n",
       "      <td>% Black</td>\n",
       "      <td>1.000000</td>\n",
       "    </tr>\n",
       "  </tbody>\n",
       "</table>\n",
       "<p>12 rows × 49 columns</p>\n",
       "</div>"
      ],
      "text/plain": [
       "       Borough Borough/Citywide Office (B/CO)  District     DBN  \\\n",
       "11   Manhattan                      Manhattan         3  03M084   \n",
       "21   Manhattan                      Manhattan         3  03M256   \n",
       "88    Brooklyn                 Brooklyn North        13  13K003   \n",
       "90    Brooklyn                 Brooklyn North        13  13K020   \n",
       "94    Brooklyn                 Brooklyn North        13  13K133   \n",
       "96    Brooklyn                 Brooklyn North        13  13K691   \n",
       "102   Brooklyn                 Brooklyn North        14  14K110   \n",
       "109   Brooklyn                 Brooklyn North        14  14K318   \n",
       "117   Brooklyn                 Brooklyn North        15  15K058   \n",
       "124   Brooklyn                 Brooklyn North        15  15K136   \n",
       "130   Brooklyn                 Brooklyn North        15  15K497   \n",
       "136   Brooklyn                 Brooklyn North        16  16K005   \n",
       "\n",
       "                                        school_name_x  \\\n",
       "11                             P.S. 084 Lillian Weber   \n",
       "21                                  Lafayette Academy   \n",
       "88                       P.S. 003 The Bedford Village   \n",
       "90                              P.S. 020 Clinton Hill   \n",
       "94                         P.S. 133 William A. Butler   \n",
       "96                    Fort Greene Preparatory Academy   \n",
       "102                              P.S. 110 The Monitor   \n",
       "109                  I.S. 318 Eugenio Maria De Hostos   \n",
       "117                              P.S. 058 The Carroll   \n",
       "124                         I.S. 136 Charles O. Dewey   \n",
       "130  The Boerum Hill School for International Studies   \n",
       "136                        P.S. 005 Dr. Ronald McNair   \n",
       "\n",
       "                     School Category        Program Language  \\\n",
       "11                        Elementary  Dual Language   French   \n",
       "21   Junior High-Intermediate-Middle  Dual Language   French   \n",
       "88                        Elementary  Dual Language   French   \n",
       "90                        Elementary  Dual Language   French   \n",
       "94                        Elementary  Dual Language   French   \n",
       "96   Junior High-Intermediate-Middle  Dual Language   French   \n",
       "102                       Elementary  Dual Language   French   \n",
       "109  Junior High-Intermediate-Middle  Dual Language   French   \n",
       "117                       Elementary  Dual Language   French   \n",
       "124  Junior High-Intermediate-Middle  Dual Language   French   \n",
       "130                 Secondary School  Dual Language   French   \n",
       "136                       Elementary  Dual Language   French   \n",
       "\n",
       "    General/Special Education  \\\n",
       "11          General Education   \n",
       "21          General Education   \n",
       "88          General Education   \n",
       "90          General Education   \n",
       "94          General Education   \n",
       "96          General Education   \n",
       "102         General Education   \n",
       "109         General Education   \n",
       "117         General Education   \n",
       "124         General Education   \n",
       "130         General Education   \n",
       "136         General Education   \n",
       "\n",
       "                                        school_name_y  ... % White  \\\n",
       "11                             P.S. 084 Lillian Weber  ...   0.515   \n",
       "21                                  Lafayette Academy  ...   0.273   \n",
       "88                       P.S. 003 The Bedford Village  ...   0.030   \n",
       "90                              P.S. 020 Clinton Hill  ...   0.299   \n",
       "94                         P.S. 133 William A. Butler  ...   0.291   \n",
       "96                    Fort Greene Preparatory Academy  ...   0.014   \n",
       "102                              P.S. 110 The Monitor  ...   0.704   \n",
       "109                  I.S. 318 Eugenio Maria De Hostos  ...   0.207   \n",
       "117                              P.S. 058 The Carroll  ...   0.735   \n",
       "124                         I.S. 136 Charles O. Dewey  ...   0.061   \n",
       "130  The Boerum Hill School for International Studies  ...   0.397   \n",
       "136                        P.S. 005 Dr. Ronald McNair  ...   0.069   \n",
       "\n",
       "     # Students with Disabilities  % Students with Disabilities  \\\n",
       "11                            113                         0.164   \n",
       "21                             32                         0.224   \n",
       "88                             59                         0.195   \n",
       "90                             85                         0.158   \n",
       "94                            117                         0.161   \n",
       "96                             66                         0.316   \n",
       "102                            45                         0.076   \n",
       "109                           235                         0.185   \n",
       "117                           141                         0.141   \n",
       "124                           127                         0.250   \n",
       "130                           157                         0.193   \n",
       "136                            64                         0.258   \n",
       "\n",
       "     # English Language Learners  % English Language Learners  # Poverty  \\\n",
       "11                            39                        0.057        235   \n",
       "21                            16                        0.112         97   \n",
       "88                            21                        0.070        267   \n",
       "90                            26                        0.048        288   \n",
       "94                            43                        0.059        254   \n",
       "96                            12                        0.057        192   \n",
       "102                           43                        0.072        148   \n",
       "109                           61                        0.048        812   \n",
       "117                           48                        0.048        112   \n",
       "124                          182                        0.358        479   \n",
       "130                           53                        0.065        368   \n",
       "136                           13                        0.052        197   \n",
       "\n",
       "     % Poverty  Economic Need Index  mostCommonEthnicGroup  male_female_ratio  \n",
       "11       34.2%                 37.5                % White           0.851752  \n",
       "21       67.8%                 63.2                % Black           1.014085  \n",
       "88       88.4%                 86.6                % Black           1.204380  \n",
       "90       53.4%                 48.0                % Black           0.852234  \n",
       "94       35.0%                 43.4             % Hispanic           0.994505  \n",
       "96       91.9%                 88.3                % Black           1.154639  \n",
       "102      24.9%                 29.8                % White           1.020408  \n",
       "109      64.1%                 69.9             % Hispanic           0.958269  \n",
       "117      11.2%                 13.0                % White           1.078838  \n",
       "124      94.1%                 88.9             % Hispanic           0.928030  \n",
       "130      45.3%                 47.8                % White           0.990196  \n",
       "136      79.4%                 81.6                % Black           1.000000  \n",
       "\n",
       "[12 rows x 49 columns]"
      ]
     },
     "metadata": {},
     "output_type": "display_data"
    },
    {
     "name": "stdout",
     "output_type": "stream",
     "text": [
      "LANGUAGE: 1    Spanish\n",
      "Name: Language, dtype: object\n"
     ]
    },
    {
     "data": {
      "image/png": "[encoded data removed]",
      "text/plain": [
       "<Figure size 432x288 with 1 Axes>"
      ]
     },
     "metadata": {
      "needs_background": "light"
     },
     "output_type": "display_data"
    },
    {
     "name": "stdout",
     "output_type": "stream",
     "text": [
      "LANGUAGE: 0    Chinese\n",
      "Name: Language, dtype: object\n"
     ]
    },
    {
     "data": {
      "image/png": "[encoded data removed]",
      "text/plain": [
       "<Figure size 432x288 with 1 Axes>"
      ]
     },
     "metadata": {
      "needs_background": "light"
     },
     "output_type": "display_data"
    },
    {
     "name": "stdout",
     "output_type": "stream",
     "text": [
      "LANGUAGE: Series([], Name: Language, dtype: object)\n"
     ]
    },
    {
     "data": {
      "image/png": "[encoded data removed]",
      "text/plain": [
       "<Figure size 432x288 with 1 Axes>"
      ]
     },
     "metadata": {
      "needs_background": "light"
     },
     "output_type": "display_data"
    }
   ],
   "source": [
    "# BAR GRAPH - DISTRIBUTION OF MOST COMMON ETHNIC GROUP ACROSS SCHOOLS SELECTING SPANISH, CHINESE, OR FRENCH\n",
    "display(languageData)\n",
    "for languageData in chosenLanguageData: \n",
    "#     print(languageData.Language)\n",
    "    language = languageData.Language.loc[:1]\n",
    "    # [FIX]\n",
    "    print(\"LANGUAGE: {}\".format(language))\n",
    "    \n",
    "    ethnicGroups = languageData['mostCommonEthnicGroup'].unique()\n",
    "    ethnicGroupsCounts = languageData['mostCommonEthnicGroup'].value_counts()\n",
    "\n",
    "    df = pd.DataFrame({'Most Common Ethnic Group':ethnicGroups, 'ethnicGroupsCounts':ethnicGroupsCounts})\n",
    "    ax = df.plot.bar(x='Most Common Ethnic Group', y='ethnicGroupsCounts')\n",
    "    plt.xlabel(\"Most Common Ethnic Group\")\n",
    "    plt.ylabel(\"Count\")\n",
    "    plt.show()"
   ]
  },
  {
   "cell_type": "markdown",
   "id": "84a45547",
   "metadata": {},
   "source": [
    "It is really interesting to see how even though Spanish is indeed the most common second language across the USA and it therefore might be taught at schools regardless of their ethnic breakdown, most schools teaching Spanish actually have Hispanic students as their most common ethnic group. Here in the bar graph, we see that an overwhelming majority of schools teaching Spanish have Hispanic as their most common ethnic group, as compared to White, Black, and Asian. This can hint at a correlation between the most common ethnic group at a particular school and its bilingual language for schools that teach Spanish. In other words, there seems to exist a trend where a school teaching Spanish is likely to have Hispanic students making up most of its student population out of all other ethnicities.\n",
    "\n",
    "However, it was even more interesting to see that most schools teaching Chinese actually have Hispanic students making up most of its student population out of all other ethnicities. This went against our prediction that schools teaching Chinese would most likely be comprised of mostly Asians. However, the fact that this did not occur actually makes sense because in the real world, Asians rarely make up the majority of most schools in the USA. Thus, it would make sense that there are only a handful of schools that have Asians as the most common ethnic group. As a result, it makes sense that it is very likely that most schools teaching an Asian language like Chinese have a non-Asian ethnic group be the most common ethnicity.\n",
    "\n",
    "For most schools teaching French, we see that White is the most common ethnicity out of all other ethnic groups. This seems to confirm our intuition/prediction that French, a Romance/European language, would be taught at white-dominating schools."
   ]
  },
  {
   "cell_type": "code",
   "execution_count": 30,
   "id": "42cb810e",
   "metadata": {},
   "outputs": [
    {
     "name": "stdout",
     "output_type": "stream",
     "text": [
      "LANGUAGE: 1    Spanish\n",
      "Name: Language, dtype: object\n",
      "count    196.000000\n",
      "mean      83.269898\n",
      "std       12.168545\n",
      "min       12.400000\n",
      "25%       79.225000\n",
      "50%       87.600000\n",
      "75%       91.100000\n",
      "max       94.900000\n",
      "Name: Economic Need Index, dtype: float64\n"
     ]
    },
    {
     "data": {
      "image/png": "[encoded data removed]",
      "text/plain": [
       "<Figure size 432x288 with 1 Axes>"
      ]
     },
     "metadata": {
      "needs_background": "light"
     },
     "output_type": "display_data"
    },
    {
     "name": "stdout",
     "output_type": "stream",
     "text": [
      "LANGUAGE: 0    Chinese\n",
      "Name: Language, dtype: object\n",
      "count    26.000000\n",
      "mean     77.473077\n",
      "std      11.568252\n",
      "min      48.000000\n",
      "25%      69.600000\n",
      "50%      80.100000\n",
      "75%      84.625000\n",
      "max      94.800000\n",
      "Name: Economic Need Index, dtype: float64\n"
     ]
    },
    {
     "data": {
      "image/png": "[encoded data removed]",
      "text/plain": [
       "<Figure size 432x288 with 1 Axes>"
      ]
     },
     "metadata": {
      "needs_background": "light"
     },
     "output_type": "display_data"
    },
    {
     "name": "stdout",
     "output_type": "stream",
     "text": [
      "LANGUAGE: Series([], Name: Language, dtype: object)\n",
      "count    12.000000\n",
      "mean     58.166667\n",
      "std      25.358926\n",
      "min      13.000000\n",
      "25%      41.925000\n",
      "50%      55.600000\n",
      "75%      82.850000\n",
      "max      88.900000\n",
      "Name: Economic Need Index, dtype: float64\n"
     ]
    },
    {
     "data": {
      "image/png": "[encoded data removed]",
      "text/plain": [
       "<Figure size 432x288 with 1 Axes>"
      ]
     },
     "metadata": {
      "needs_background": "light"
     },
     "output_type": "display_data"
    }
   ],
   "source": [
    "# HISTOGRAM - DISTRIBUTION OF ECONOMIC NEED INDEX \n",
    "for languageData in chosenLanguageData: \n",
    "    #     print(languageData.Language)\n",
    "    language = languageData.Language.loc[:1]\n",
    "    # [FIX]\n",
    "    print(\"LANGUAGE: {}\".format(language))\n",
    "\n",
    "    economic_need = languageData[\"Economic Need Index\"]\n",
    "    print(economic_need.describe())\n",
    "\n",
    "    economic_need.hist(bins=20)\n",
    "    plt.xlabel(\"Number of Schools\")\n",
    "    plt.ylabel(\"Economic Need Index\")\n",
    "    plt.show()\n"
   ]
  },
  {
   "cell_type": "markdown",
   "id": "278456a0",
   "metadata": {},
   "source": [
    "Here, we can see that schools teaching Spanish tend to have a very high mean economic need index, with an average of 83.27% of students facing economic hardship. The histogram is very skewed to the right, meaning that the majority of schools teaching Spanish have a large population of students facing economic hardship. \n",
    "\n",
    "This percentage for schools teaching Spanish is higher than schools teaching Chinese (77.47% average) and French (58.17% average), which has the lowest average economic need index. In other words, schools teaching French tend to have a much higher percentage of students who are financially well off. However, there is more variance with these schools speaking French, as reflected by its standard deviation being the highest out of schools teaching Spanish, Chinese, and French."
   ]
  },
  {
   "cell_type": "code",
   "execution_count": 31,
   "id": "d6f8a647",
   "metadata": {},
   "outputs": [
    {
     "name": "stdout",
     "output_type": "stream",
     "text": [
      "LANGUAGE: 1    Spanish\n",
      "Name: Language, dtype: object\n"
     ]
    },
    {
     "data": {
      "image/png": "[encoded data removed]",
      "text/plain": [
       "<Figure size 432x288 with 1 Axes>"
      ]
     },
     "metadata": {
      "needs_background": "light"
     },
     "output_type": "display_data"
    },
    {
     "name": "stdout",
     "output_type": "stream",
     "text": [
      "LANGUAGE: 0    Chinese\n",
      "Name: Language, dtype: object\n"
     ]
    },
    {
     "data": {
      "image/png": "[encoded data removed]",
      "text/plain": [
       "<Figure size 432x288 with 1 Axes>"
      ]
     },
     "metadata": {
      "needs_background": "light"
     },
     "output_type": "display_data"
    },
    {
     "name": "stdout",
     "output_type": "stream",
     "text": [
      "LANGUAGE: Series([], Name: Language, dtype: object)\n"
     ]
    },
    {
     "data": {
      "image/png": "[encoded data removed]",
      "text/plain": [
       "<Figure size 432x288 with 1 Axes>"
      ]
     },
     "metadata": {
      "needs_background": "light"
     },
     "output_type": "display_data"
    }
   ],
   "source": [
    "# BAR GRAPH - DISTRIBUTION OF BOROUGHS FOR SPANISH SCHOOLS\n",
    "for languageData in chosenLanguageData: \n",
    "    #     print(languageData.Language)\n",
    "    language = languageData.Language.loc[:1]\n",
    "    # [FIX]\n",
    "    print(\"LANGUAGE: {}\".format(language))\n",
    "\n",
    "    boroughs = languageData['Borough'].unique()\n",
    "    boroughCounts = languageData['Borough'].value_counts()\n",
    "\n",
    "    df = pd.DataFrame({'Borough':boroughs, 'Borough Count':boroughCounts})\n",
    "    ax = df.plot.bar(x='Borough', y='Borough Count')\n",
    "    plt.xlabel(\"Borough\")\n",
    "    plt.ylabel(\"Number of Schools\")\n",
    "    plt.show()"
   ]
  },
  {
   "cell_type": "markdown",
   "id": "8ca27a39",
   "metadata": {},
   "source": [
    "As revealed from the bar graphs, most of our data for all three languages come from Manhattan. This could potentially be a limitation to our data as it makes our data skewed/biased towards schools from one specific borough."
   ]
  },
  {
   "cell_type": "code",
   "execution_count": 32,
   "id": "261685b4",
   "metadata": {},
   "outputs": [
    {
     "data": {
      "image/png": "[encoded data removed]",
      "text/plain": [
       "<Figure size 432x288 with 1 Axes>"
      ]
     },
     "metadata": {
      "needs_background": "light"
     },
     "output_type": "display_data"
    },
    {
     "data": {
      "image/png": "[encoded data removed]",
      "text/plain": [
       "<Figure size 432x288 with 1 Axes>"
      ]
     },
     "metadata": {
      "needs_background": "light"
     },
     "output_type": "display_data"
    },
    {
     "data": {
      "image/png": "[encoded data removed]",
      "text/plain": [
       "<Figure size 432x288 with 1 Axes>"
      ]
     },
     "metadata": {
      "needs_background": "light"
     },
     "output_type": "display_data"
    }
   ],
   "source": [
    "# BOX PLOT - economic need index vs. %[most common ethnic group] per school\n",
    "sns.boxplot(x='mostCommonEthnicGroup',y='Economic Need Index',data=spanish_schools_data, palette='rainbow')\n",
    "plt.xlabel(\"Most Common Ethnic Group\")\n",
    "plt.ylabel(\"Economic Need Index\")\n",
    "plt.show()\n",
    "\n",
    "sns.boxplot(x='mostCommonEthnicGroup',y='Economic Need Index',data=chinese_schools_data, palette='rainbow')\n",
    "plt.xlabel(\"Most Common Ethnic Group\")\n",
    "plt.ylabel(\"Economic Need Index\")\n",
    "plt.show()\n",
    "\n",
    "sns.boxplot(x='mostCommonEthnicGroup',y='Economic Need Index',data=french_schools_data, palette='rainbow')\n",
    "plt.xlabel(\"Most Common Ethnic Group\")\n",
    "plt.ylabel(\"Economic Need Index\")\n",
    "plt.show()"
   ]
  },
  {
   "cell_type": "code",
   "execution_count": 33,
   "id": "ab3e231f",
   "metadata": {},
   "outputs": [
    {
     "name": "stdout",
     "output_type": "stream",
     "text": [
      "p-value: 1.4803686578197686e-09\n",
      "F-value: 22.23\n"
     ]
    },
    {
     "data": {
      "image/png": "[encoded data removed]",
      "text/plain": [
       "<Figure size 432x288 with 1 Axes>"
      ]
     },
     "metadata": {
      "needs_background": "light"
     },
     "output_type": "display_data"
    }
   ],
   "source": [
    "# BOX PLOT - economic need index vs. language of the school\n",
    "\n",
    "chosen_language_data = bilingual_demographic_data.loc[(bilingual_demographic_data['Language'] == 'Spanish') | (bilingual_demographic_data['Language'] == 'Chinese') | (bilingual_demographic_data['Language'] == 'French')]\n",
    "\n",
    "sns.boxplot(x='Language',y='Economic Need Index',data=chosen_language_data, palette='rainbow');\n",
    "plt.xlabel(\"Language\")\n",
    "plt.ylabel(\"Economic Need Index\")\n",
    "\n",
    "F, p = stats.f_oneway(chosen_language_data.loc[chosen_language_data['Language'] == 'Spanish', 'Economic Need Index'],\n",
    "               chosen_language_data.loc[chosen_language_data['Language'] == 'Chinese', 'Economic Need Index'],\n",
    "               chosen_language_data.loc[chosen_language_data['Language'] == 'French', 'Economic Need Index'])\n",
    "\n",
    "print(\"p-value: {}\".format(p))\n",
    "print(\"F-value: {:.2f}\".format(F))"
   ]
  },
  {
   "cell_type": "markdown",
   "id": "9a03634a",
   "metadata": {},
   "source": [
    "Here, it is really interesting to see that schools teaching French tended to have a lower economic need index than schools teaching Chinese and Spanish. The median economic need index was the lowest for schools teaching French and highest for schools teaching Spanish. In other words, there seems to be a trend where the student population is more financially well off in schools teaching French as opposed to schools teaching Spanish or Chinese.\n",
    "\n",
    "This relationship makes sense when we look back at the bar graphs of the most common ethnic groups and boxplots of economic need index by ethnic group for schools teaching Spanish vs. Chinese vs. French. Recall that most schools teaching French have an ethnic distribution of mostly white students (from the ethnic distribution bar graph), and that white students tended to have high economic need index in these schools (from the boxplots above). This is then reflected in the fact that schools teaching French have a statistically significant lower mean economic need index than schools teaching Chinese and Spanish. Also recall that most schools teaching Spanish and Chinese have an ethnic distribution of mostly Hispanic students (from the ethnic distribution bar graph), and that Hispanic students tended to have a significantly economic need index in both groups of schools, especially as compared to white students (from the boxplots above). This is then reflected in the fact that schools teaching Spanish and Chinese have a statistically significant higher mean economic need index than schools teaching French.\n",
    "\n",
    "To evaluate significance/determine whether or not these means are statistically different, we perform ANOVA (analysis of variance). The null hypothesis for ANOVA here is that there is no difference in the means of the economic need index across schools teaching Spanish, Chinese, and French. Because the resulting ANOVA p-value is 1.48e-09, which is less than 0.05 (p<0.05), we can say that this is statistically significant. In other words, we reject the null hypothesis and conclude that there are significant differences among the economic need indices among schools teaching Spanish, Chinese, and French. This is because the p-value represents the probability that these differences among the economic need indices occurred by random chance. An extremely low p-value means that there is an extremely high chance that these differences did NOT occur randomly and that they are statistically significant instead. We also have a large F value. In ANOVA, the F value is the ratio of two mean square values, so a very high value of F would mean that we can reject the null hypothesis, which is the case here since our F value is 22.23."
   ]
  },
  {
   "cell_type": "code",
   "execution_count": 34,
   "id": "3d2f10b9",
   "metadata": {},
   "outputs": [
    {
     "data": {
      "image/png": "[encoded data removed]",
      "text/plain": [
       "<Figure size 432x288 with 1 Axes>"
      ]
     },
     "metadata": {
      "needs_background": "light"
     },
     "output_type": "display_data"
    },
    {
     "name": "stdout",
     "output_type": "stream",
     "text": [
      "p-value: 5.69079398727551e-21\n",
      "F-value: 57.43\n"
     ]
    },
    {
     "data": {
      "image/png": "[encoded data removed]",
      "text/plain": [
       "<Figure size 432x288 with 1 Axes>"
      ]
     },
     "metadata": {
      "needs_background": "light"
     },
     "output_type": "display_data"
    },
    {
     "name": "stdout",
     "output_type": "stream",
     "text": [
      "p-value: 2.38272766873975e-35\n",
      "F-value: 114.83\n"
     ]
    },
    {
     "data": {
      "image/png": "[encoded data removed]",
      "text/plain": [
       "<Figure size 432x288 with 1 Axes>"
      ]
     },
     "metadata": {
      "needs_background": "light"
     },
     "output_type": "display_data"
    },
    {
     "name": "stdout",
     "output_type": "stream",
     "text": [
      "p-value: 2.8185442945121173e-10\n",
      "F-value: 24.22\n"
     ]
    },
    {
     "data": {
      "image/png": "[encoded data removed]",
      "text/plain": [
       "<Figure size 432x288 with 1 Axes>"
      ]
     },
     "metadata": {
      "needs_background": "light"
     },
     "output_type": "display_data"
    },
    {
     "name": "stdout",
     "output_type": "stream",
     "text": [
      "p-value: 9.248938804447725e-06\n",
      "F-value: 12.19\n"
     ]
    }
   ],
   "source": [
    "# BOX PLOT - ethnic group vs. language of the school\n",
    "\n",
    "sns.boxplot(x='Language',y='% Hispanic',data=chosen_language_data, palette='rainbow');\n",
    "plt.title(\"Percentage of Hispanic Students in Schools Grouped by Bilingual Language\")\n",
    "plt.xlabel(\"Language\")\n",
    "plt.ylabel(\"Percentage of Hispanic Students\")\n",
    "plt.show()\n",
    "# ANOVA:\n",
    "F, p = stats.f_oneway(chosen_language_data['% Hispanic'][chosen_language_data['Language'] == 'Spanish'],\n",
    "               chosen_language_data['% Hispanic'][chosen_language_data['Language'] == 'Chinese'],\n",
    "               chosen_language_data['% Hispanic'][chosen_language_data['Language'] == 'French'])\n",
    "print(\"p-value: {}\".format(p))\n",
    "print(\"F-value: {:.2f}\".format(F))\n",
    "\n",
    "sns.boxplot(x='Language',y='% Asian',data=chosen_language_data, palette='rainbow');\n",
    "plt.title(\"Percentage of Asian Students in Schools Grouped by Bilingual Language\")\n",
    "plt.xlabel(\"Language\")\n",
    "plt.ylabel(\"Percentage of Asian Students\")\n",
    "plt.show()\n",
    "# ANOVA:\n",
    "F, p = stats.f_oneway(chosen_language_data['% Asian'][chosen_language_data['Language'] == 'Spanish'],\n",
    "               chosen_language_data['% Asian'][chosen_language_data['Language'] == 'Chinese'],\n",
    "               chosen_language_data['% Asian'][chosen_language_data['Language'] == 'French'])\n",
    "print(\"p-value: {}\".format(p))\n",
    "print(\"F-value: {:.2f}\".format(F))\n",
    "\n",
    "\n",
    "sns.boxplot(x='Language',y='% White',data=chosen_language_data, palette='rainbow');\n",
    "plt.title(\"Percentage of White Students in Schools Grouped by Bilingual Language\")\n",
    "plt.xlabel(\"Language\")\n",
    "plt.ylabel(\"Percentage of White Students\")\n",
    "plt.show()\n",
    "# ANOVA:\n",
    "F, p = stats.f_oneway(chosen_language_data['% White'][chosen_language_data['Language'] == 'Spanish'],\n",
    "               chosen_language_data['% White'][chosen_language_data['Language'] == 'Chinese'],\n",
    "               chosen_language_data['% White'][chosen_language_data['Language'] == 'French'])\n",
    "print(\"p-value: {}\".format(p))\n",
    "print(\"F-value: {:.2f}\".format(F))\n",
    "\n",
    "sns.boxplot(x='Language',y='% Black',data=chosen_language_data, palette='rainbow');\n",
    "plt.title(\"Percentage of Black Students in Schools Grouped by Bilingual Language\")\n",
    "plt.xlabel(\"Language\")\n",
    "plt.ylabel(\"Percentage of Black Students\")\n",
    "plt.show()\n",
    "# ANOVA:\n",
    "F, p = stats.f_oneway(chosen_language_data['% Black'][chosen_language_data['Language'] == 'Spanish'],\n",
    "               chosen_language_data['% Black'][chosen_language_data['Language'] == 'Chinese'],\n",
    "               chosen_language_data['% Black'][chosen_language_data['Language'] == 'French'])\n",
    "print(\"p-value: {}\".format(p))\n",
    "print(\"F-value: {:.2f}\".format(F))"
   ]
  },
  {
   "cell_type": "markdown",
   "id": "1b88aefe",
   "metadata": {},
   "source": [
    "These boxplots seem to reveal a relationship/trend between the language chosen for a school's bilingual program and a school's ethnic makeup. If we look at the first boxplot, schools teaching Spanish have a higher median percentage of Hispanic students in their population as opposed to schools teaching Chinese and French. The second boxplot shows that schools teaching Chinese tend to have a significantly higher percentage of Asian students in their population as opposed to schools teaching Spanish and French. The third boxplot reveals that schools teaching French tend to have a higher percentage of white students in their population as opposed to schools teaching Chinese and Spanish.\n",
    "\n",
    "In other words, the distribution of these ethnic groups across schools teaching different languages seems to match our prediction that schools teaching Spanish would tend to have a higher Hispanic population, while schools teaching Chinese would tend to have a higher Asian population, and schools teaching French would tend to have a higher white population. However, is also interesting to see that schools teaching French also tended to have a higher percentage of black students in their population as compared to schools teaching Chinese and Spanish. This could refute our hypothesis that the high percentage of white students in a school population is what predicts whether or not a school teaches French because schools with a relatively high percentage of black students also tend to teach French.\n",
    "\n",
    "To evaluate significance/determine whether or not these means are statistically different for each ethnic group (Hispanic, Asian, white, black), we perform ANOVA (analysis of variance). The null hypothesis for ANOVA here is that there is no difference in the means of the percentage of each ethnic group across schools teaching Spanish, Chinese, and French. Because the resulting ANOVA p-values for all ethnic groups are less than 0.05 (p<0.05), we can say that they are statistically significant. In other words, we reject the null hypothesis and conclude that there are significant differences among the mean percentages of each ethnic groups across schools teaching Spanish, Chinese, and French. We also have large F values for all ANOVA tests, which further suggests that we can reject the null hypothesis."
   ]
  },
  {
   "cell_type": "code",
   "execution_count": 35,
   "id": "90b959d8",
   "metadata": {},
   "outputs": [
    {
     "name": "stdout",
     "output_type": "stream",
     "text": [
      "count    196.000000\n",
      "mean      83.269898\n",
      "std       12.168545\n",
      "min       12.400000\n",
      "25%       79.225000\n",
      "50%       87.600000\n",
      "75%       91.100000\n",
      "max       94.900000\n",
      "Name: Economic Need Index, dtype: float64\n"
     ]
    },
    {
     "data": {
      "text/plain": [
       "[]"
      ]
     },
     "execution_count": 35,
     "metadata": {},
     "output_type": "execute_result"
    },
    {
     "data": {
      "image/png": "[encoded data removed]",
      "text/plain": [
       "<Figure size 432x288 with 1 Axes>"
      ]
     },
     "metadata": {
      "needs_background": "light"
     },
     "output_type": "display_data"
    }
   ],
   "source": [
    "# HISTOGRAM - DISTRIBUTION OF ECONOMIC NEED INDEX \n",
    "economic_need = spanish_schools_data[\"Economic Need Index\"]\n",
    "print(economic_need.describe())\n",
    "\n",
    "economic_need.hist(bins=50)\n",
    "plt.title(\"economic need distribution\")\n",
    "plt.xlabel(\"economic need index\")\n",
    "plt.ylabel(\"number of schools\")\n",
    "plt.plot()\n",
    "# bilingual_demographic_data"
   ]
  },
  {
   "cell_type": "markdown",
   "id": "bb117985",
   "metadata": {},
   "source": [
    "The economic need index of the schools that have Spanish as their main language in our dataset tend to have a higher economic need index as more of the Spanish schools fell in the portion after 80% indicating that many schools had an economic need index greater than 80%. In fact, the median economic need rate is 87.6% which shows that 50% of the Spanish schools are in fact above 87.6% economic need rate."
   ]
  },
  {
   "cell_type": "code",
   "execution_count": 36,
   "id": "2eaf421d",
   "metadata": {},
   "outputs": [
    {
     "data": {
      "image/png": "[encoded data removed]",
      "text/plain": [
       "<Figure size 432x288 with 1 Axes>"
      ]
     },
     "metadata": {
      "needs_background": "light"
     },
     "output_type": "display_data"
    }
   ],
   "source": [
    "# BOX PLOT - economic need index vs. borough per school\n",
    "sns.boxplot(x='Borough',y='Economic Need Index',data=spanish_schools_data, palette='rainbow')\n",
    "plt.title(\"Economic Need Index in each borough\")\n",
    "plt.show()"
   ]
  },
  {
   "cell_type": "markdown",
   "id": "e2509325",
   "metadata": {},
   "source": [
    "For schools that taught Spanish, their economic need index median was 87.6% which is considerably high. As a result, we wanted to further our investigation by looking into which borough would have the highest economic need index and what we found was that the Bronx in fact, had the highest median in terms of economic need index for schools that taught Spanish. What was really interesting was that Bronx had a very small range of economic need index in comparison to other boroughs which shows that in general, the Bronx has a very high economic need index especially for schools that teach Spanish.\n",
    "\n",
    "\n",
    "One limitation: We can't compare the economic need index of each borough fairly because we don't have the same amount of schools in each borough and the sample size probably isn't representative of the whole borough."
   ]
  },
  {
   "cell_type": "markdown",
   "id": "0352de22-cab5-4ac9-a513-07bbbd2e3a08",
   "metadata": {},
   "source": [
    "### Is there a different in the academic performance of the students in the schools that offer different language programs?"
   ]
  },
  {
   "cell_type": "markdown",
   "id": "d61a19ef-3e8a-4134-92ca-2f613538b376",
   "metadata": {},
   "source": [
    "After looking at the background information for the schools, we wanted to examine the academic performance for the schools. To do this, we pull another dataset that contained the regents scores for schools in NYC. We merged this with the school data to analyze how schools that offered different languages performed on various regents subjects."
   ]
  },
  {
   "cell_type": "code",
   "execution_count": 37,
   "id": "4b9cd818-5aee-4073-a51d-25ff856f673d",
   "metadata": {},
   "outputs": [],
   "source": [
    "academic_data = pd.read_csv(\"2014-15_to_2017-19_NYC_Regents_Exam_Results_-_Public.csv\")"
   ]
  },
  {
   "cell_type": "code",
   "execution_count": 38,
   "id": "71811e6a-b319-4468-9055-f753939404e3",
   "metadata": {},
   "outputs": [],
   "source": [
    "academic_data = academic_data.rename(columns={\"Unnamed Column\": \"school_test\", \"School DBN\": \"DBN\", \"School Name\": \"school_name_x\",\n",
    "                                              \"School Level\": \"School Category\", \"Year\": \"year\", \"Regents Exam\": \"regents\", \"Mean Score\": \"mean_score\"})\n",
    "\n",
    "academic_data = academic_data.loc[academic_data.mean_score != 's']\n",
    "academic_data['mean_score'] = academic_data['mean_score'].astype(float)\n",
    "\n",
    "## math tests\n",
    "math_tests = academic_data.loc[(academic_data[\"regents\"] == \"Common Core Algebra\") |  (academic_data[\"regents\"] == \"Common Core Algebra2\") | (academic_data[\"regents\"] == \"Common Core Geometry\") |\n",
    "                             (academic_data[\"regents\"] == \"Integrated Algebra\") | (academic_data[\"regents\"] == \"Geometry\") | (academic_data[\"regents\"] == \"Algebra2/Trigonometry\")]\n",
    "math_tests = math_tests.rename(columns = {\"mean_score\": \"math_score\"})\n",
    "mean_math_score = math_tests.groupby(\"DBN\").math_score.mean()\n",
    "\n",
    "## language tests\n",
    "fl_tests = academic_data.loc[(academic_data[\"regents\"] == \"Spanish\") |  (academic_data[\"regents\"] == \"French\") | (academic_data[\"regents\"] == \"Chinese\") |\n",
    "                             (academic_data[\"regents\"] == \"Italian\")]\n",
    "fl_tests = fl_tests.rename(columns = {\"mean_score\": \"fl_score\"})\n",
    "mean_fl_score = fl_tests.groupby(\"DBN\").fl_score.mean()\n",
    "\n",
    "## history tests\n",
    "history_tests = academic_data.loc[(academic_data[\"regents\"] == \"Global History and Geography\") |  (academic_data[\"regents\"] == \"U.S. History and Government\")]\n",
    "history_tests = history_tests.rename(columns = {\"mean_score\": \"history_score\"})\n",
    "mean_history_score = history_tests.groupby(\"DBN\").history_score.mean()\n",
    "\n",
    "## science tests\n",
    "science_tests = academic_data.loc[(academic_data[\"regents\"] == \"Living Environment\") |  (academic_data[\"regents\"] == \"Physical Settings/Chemistry\") |\n",
    "                                  (academic_data[\"regents\"] == \"Physical Settings/Earth Science\") |  (academic_data[\"regents\"] == \"Physical Settings/Physics\") ]\n",
    "science_tests = science_tests.rename(columns = {\"mean_score\": \"science_score\"})\n",
    "mean_science_score = science_tests.groupby(\"DBN\").science_score.mean()\n",
    "\n",
    "## english tests\n",
    "english_tests = academic_data.loc[(academic_data[\"regents\"] == \"Common Core English\") |  (academic_data[\"regents\"] == \"English\") ]\n",
    "english_tests = english_tests.rename(columns = {\"mean_score\": \"english_score\"})\n",
    "mean_english_score = english_tests.groupby(\"DBN\").english_score.mean()\n",
    "\n",
    "# create dataframe of all the mean subject scores\n",
    "mean_subject_scores = pd.DataFrame([mean_math_score])\n",
    "mean_subject_scores = mean_subject_scores.append(mean_fl_score).append(mean_history_score).append(mean_science_score).append(mean_english_score)\n",
    "mean_subject_scores = mean_subject_scores.transpose()"
   ]
  },
  {
   "cell_type": "markdown",
   "id": "9cac16f9-70d2-408f-921d-c89905a9fb63",
   "metadata": {},
   "source": [
    "We grouped several regents test together, based on what subject they were testing. For example, Alegebra, Geometry, and Trignometry were categorized as math. After grouping the subjects together, we took the mean score for each subject."
   ]
  },
  {
   "cell_type": "code",
   "execution_count": 39,
   "id": "1db551c7-3e48-42ea-bd6f-750e1148c189",
   "metadata": {},
   "outputs": [],
   "source": [
    "# merge bilingual data and mean subject scores to perform data analysis\n",
    "\n",
    "academic_performance_data = bilingual_demographic_data.merge(mean_subject_scores, on = \"DBN\")\n",
    "academic_performance_data = academic_performance_data.loc[(academic_performance_data['Language'] == 'Spanish') | (academic_performance_data['Language'] == 'Chinese') | (academic_performance_data['Language'] == 'French')]"
   ]
  },
  {
   "cell_type": "code",
   "execution_count": 40,
   "id": "96df664b-11db-4525-aa42-4e96f0ffa6ee",
   "metadata": {},
   "outputs": [],
   "source": [
    "academic_performance_data.to_csv('academic_performance_data.csv', index=False)"
   ]
  },
  {
   "cell_type": "code",
   "execution_count": 41,
   "id": "32a9946e-8893-467b-85e2-2d178ace8cc2",
   "metadata": {},
   "outputs": [],
   "source": [
    "spanish_academic_performance = academic_performance_data.loc[academic_performance_data['Language'] == 'Spanish'] \n",
    "chinese_academic_performance = academic_performance_data.loc[academic_performance_data['Language'] == 'Chinese'] \n",
    "french_academic_performance = academic_performance_data.loc[academic_performance_data['Language'] == 'French']"
   ]
  },
  {
   "cell_type": "markdown",
   "id": "78ecd9a8-95f4-4e46-acac-c03dd77a8257",
   "metadata": {},
   "source": [
    "To visualize this data, we created boxplots for each of the subjects."
   ]
  },
  {
   "cell_type": "code",
   "execution_count": 66,
   "id": "8c69ca45-1241-4469-a423-997e954cda14",
   "metadata": {},
   "outputs": [
    {
     "name": "stdout",
     "output_type": "stream",
     "text": [
      "p-value: 0.0008965400114483922\n",
      "F-value: 7.73\n"
     ]
    },
    {
     "data": {
      "image/png": "[encoded data removed]",
      "text/plain": [
       "<Figure size 432x288 with 1 Axes>"
      ]
     },
     "metadata": {
      "needs_background": "light"
     },
     "output_type": "display_data"
    }
   ],
   "source": [
    "sns.boxplot(x='Language',y='math_score',data=academic_performance_data, palette='GnBu');\n",
    "# [ADD TITLE]\n",
    "\n",
    "# display(academic_performance_data)\n",
    "math_anova_df = academic_performance_data.copy(deep=True)\n",
    "\n",
    "# GETTING RID OF NULL's (Pandas boxplots automatically drop schools with NaN math scores, \n",
    "# so we must ensure that ANOVA must reflect that change)\n",
    "math_anova_df = math_anova_df.dropna(subset=['math_score'], how='any')\n",
    "# display(test)\n",
    "\n",
    "# ANOVA:\n",
    "F, p = stats.f_oneway(math_anova_df['math_score'][math_anova_df['Language'] == 'Spanish'],\n",
    "               math_anova_df['math_score'][math_anova_df['Language'] == 'Chinese'],\n",
    "               math_anova_df['math_score'][math_anova_df['Language'] == 'French'])\n",
    "print(\"p-value: {}\".format(p))\n",
    "print(\"F-value: {:.2f}\".format(F))"
   ]
  },
  {
   "cell_type": "markdown",
   "id": "1cc38c20-9ca9-43e1-b29f-4f70d240dafc",
   "metadata": {},
   "source": [
    "Regarding the math scores, it is clear that the schools that offer Chinese had a much higher academic performance than the schools that offer Spanish and French. The lower bound of the Chinese scores are higher than the third quartile of the Spanish scores and the upper bound of the French scores. Further, the range of the Spanish scores is much greater than the other two, while the range of the Chinese schools is quite small."
   ]
  },
  {
   "cell_type": "code",
   "execution_count": 70,
   "id": "b931d779-a20d-4279-9f50-57e2bf7e744b",
   "metadata": {},
   "outputs": [
    {
     "name": "stdout",
     "output_type": "stream",
     "text": [
      "p-value: 0.0023158809013404703\n",
      "F-value: 6.70\n"
     ]
    },
    {
     "data": {
      "image/png": "[encoded data removed]",
      "text/plain": [
       "<Figure size 432x288 with 1 Axes>"
      ]
     },
     "metadata": {
      "needs_background": "light"
     },
     "output_type": "display_data"
    }
   ],
   "source": [
    "sns.boxplot(x='Language',y='science_score',data=academic_performance_data, palette='GnBu');\n",
    "# [ADD TITLE]\n",
    "\n",
    "# display(academic_performance_data)\n",
    "science_anova_df = academic_performance_data.copy(deep=True)\n",
    "\n",
    "# GETTING RID OF NULL's (Pandas boxplots automatically drop schools with NaN math scores, \n",
    "# so we must ensure that ANOVA must reflect that change)\n",
    "science_anova_df = science_anova_df.dropna(subset=['science_score'], how='any')\n",
    "# display(science_anova_df)\n",
    "\n",
    "# ANOVA:\n",
    "F, p = stats.f_oneway(science_anova_df['science_score'][science_anova_df['Language'] == 'Spanish'],\n",
    "               science_anova_df['science_score'][science_anova_df['Language'] == 'Chinese'],\n",
    "               science_anova_df['science_score'][science_anova_df['Language'] == 'French'])\n",
    "print(\"p-value: {}\".format(p))\n",
    "print(\"F-value: {:.2f}\".format(F))"
   ]
  },
  {
   "cell_type": "markdown",
   "id": "7953f6a3-4af2-4dca-99cd-4ccd8747a241",
   "metadata": {},
   "source": [
    "Similar to the math scores, the science scores show a clear difference between the scores within the different schools. The schools that offer Chinese had much higher scores, with the lower bound being above both the Spanish and French third quartiles. Again, the range of the Spanish scores was very large, and the lower bound of the French scores extended much lower than the upper bound extended upwards."
   ]
  },
  {
   "cell_type": "code",
   "execution_count": 75,
   "id": "a7e945cb-1f2e-454e-9122-1c1ea413740d",
   "metadata": {},
   "outputs": [
    {
     "name": "stdout",
     "output_type": "stream",
     "text": [
      "p-value: 0.5342151320454323\n",
      "F-value: 0.66\n"
     ]
    },
    {
     "data": {
      "image/png": "[encoded data removed]",
      "text/plain": [
       "<Figure size 432x288 with 1 Axes>"
      ]
     },
     "metadata": {
      "needs_background": "light"
     },
     "output_type": "display_data"
    }
   ],
   "source": [
    "sns.boxplot(x='Language',y='fl_score',data=academic_performance_data, palette='GnBu');\n",
    "# [ADD TITLE]\n",
    "\n",
    "# display(academic_performance_data)\n",
    "fl_anova_df = academic_performance_data.copy(deep=True)\n",
    "\n",
    "# GETTING RID OF NULL's (Pandas boxplots automatically drop schools with NaN math scores, \n",
    "# so we must ensure that ANOVA must reflect that change)\n",
    "fl_anova_df = fl_anova_df.dropna(subset=['fl_score'], how='any')\n",
    "# display(f1_anova_df)\n",
    "\n",
    "# ANOVA:\n",
    "F, p = stats.f_oneway(fl_anova_df['fl_score'][f1_anova_df['Language'] == 'Spanish'],\n",
    "               fl_anova_df['fl_score'][f1_anova_df['Language'] == 'Chinese'],\n",
    "               fl_anova_df['fl_score'][f1_anova_df['Language'] == 'French'])\n",
    "print(\"p-value: {}\".format(p))\n",
    "print(\"F-value: {:.2f}\".format(F))"
   ]
  },
  {
   "cell_type": "markdown",
   "id": "9931ce06-2873-4d0f-bb04-8de6fb151723",
   "metadata": {},
   "source": [
    "The foreign language scores are slightly different, as the range for French scores is larger than the Spanish scores. Still, the range for the Chinese scores is very small compared to the others. In addition, the medians between Spanish and French are quite close. These results are interesting because the foreign language regents subjects are Chinese, Spanish, French, and Italian. As a result, we expected that the the test scores have a smaller range. However, it is not necessarily the case that the students with the specific bilingual program are taking the corresponding regents; for example, students attending a school that offers Chinese as their dual language could also be taking the Spanish regents."
   ]
  },
  {
   "cell_type": "code",
   "execution_count": 76,
   "id": "14274f81-9508-411a-85ef-5a1082a2a3ba",
   "metadata": {},
   "outputs": [
    {
     "name": "stdout",
     "output_type": "stream",
     "text": [
      "p-value: 0.30812825258942056\n",
      "F-value: 1.25\n"
     ]
    },
    {
     "data": {
      "image/png": "[encoded data removed]",
      "text/plain": [
       "<Figure size 432x288 with 1 Axes>"
      ]
     },
     "metadata": {
      "needs_background": "light"
     },
     "output_type": "display_data"
    }
   ],
   "source": [
    "sns.boxplot(x='Language',y='history_score',data=academic_performance_data, palette='GnBu');\n",
    "# [ADD TITLE]\n",
    "\n",
    "# display(academic_performance_data)\n",
    "history_anova_df = academic_performance_data.copy(deep=True)\n",
    "\n",
    "# GETTING RID OF NULL's (Pandas boxplots automatically drop schools with NaN math scores, \n",
    "# so we must ensure that ANOVA must reflect that change)\n",
    "history_anova_df = history_anova_df.dropna(subset=['history_score'], how='any')\n",
    "# display(science_anova_df)\n",
    "\n",
    "# ANOVA:\n",
    "F, p = stats.f_oneway(history_anova_df['history_score'][science_anova_df['Language'] == 'Spanish'],\n",
    "               history_anova_df['history_score'][science_anova_df['Language'] == 'Chinese'],\n",
    "               history_anova_df['history_score'][science_anova_df['Language'] == 'French'])\n",
    "print(\"p-value: {}\".format(p))\n",
    "print(\"F-value: {:.2f}\".format(F))"
   ]
  },
  {
   "cell_type": "markdown",
   "id": "35e1897b-14bc-46d0-a384-2f7299f91a90",
   "metadata": {},
   "source": [
    "The history scores had the most overlap in comparison to the other regents scores. The medians of the scores for Spanish and French are again somewhat similar, as in the case of the foreign language scores. Spanish had a huge range of scores, and this test yielded the biggest range for the Chinese schools. Here, the upper bound of Chinese and Spanish are quite close - the closest they have been for any regents subject."
   ]
  },
  {
   "cell_type": "markdown",
   "id": "f0528d6a-0fec-4909-b379-539996b20375",
   "metadata": {},
   "source": [
    "Overall, it is clear that the schools that offer Chinese as the bilingual program have the highest academic performance across the various regents subjects. However, this does not mean that offering Chinese at a school necessarily improves regents scores, but these results are interesing considering the clear difference in the scores. A major limitation here is that there were only 85 schools that we could find both regents scores for that also offered bilingual programs. This is clearly a very limited sample size, and of these schools, 70 of them were schools that offered Spanish. Having a larger sample size would yield a wider range of results, which could explain why the Spanish scores had such a wider range of scores as compard to Chinese and French. However, there were 10 Chinese schools and 5 French scores, yet the range for Chinese scores was much smaller than French for most of the subjects."
   ]
  },
  {
   "cell_type": "markdown",
   "id": "bb1229c0",
   "metadata": {},
   "source": [
    "### Conclusion"
   ]
  },
  {
   "cell_type": "markdown",
   "id": "a6239435-7999-4f25-8456-5b4c1ffd4f93",
   "metadata": {},
   "source": [
    "Over the course of our data analysis, we are confident in our conclusions given the dataset that we had. We ran two logistic regressions to see if the models could predict the language given the racial ethnic makeup or the economic need index. In our racial ethnic makeup logistic regression, we found that the results were fairly consistent with our hypothesis. We believed that this would yield about 60% accuracy so the model was actually more accurate than we believed it would be. This is most likely because we did not account for the fact that we would end up subsetting the data so that it included an equal amount of data from each school, which most likely made the accuracy improve because the model was not bombarded with just Spanish schools. Still, the model was consistent with our belief that there would be over prediction of Spanish language programs. \n",
    "With our economic need index logistic regression in order to predict the language, our model showed that our hypothesis was indeed wrong and actually showed a relationship between the language and the economic need index of the school.  The results were surprisingly showing that there was a relationship that the model could predict the language based on the economic need index although we did not think that would happen because Spanish is the second most taught language in the USA and can be taught even in wealthier neighborhoods. Spanish. In our classification report, we were only able to predict somewhat French and Spanish but the model completely failed to predict Chinese as there was a 0% precision rate. As a result, the model is able to accurately predict the language the school teaches based on the economic need index. Schools that have a higher economic need index are more likely to have Spanish as their language and schools that have a lower economic need index are more likely to have French as their language. This can be an indication as to how certain neighborhoods that are more affluent (have a lower economic need index) probably have a higher amount of white people than other neighborhoods and vice versa. \n",
    "\n",
    "We found that schools teaching French tended to have a lower economic need index than schools teaching Chinese and Spanish. The median economic need index was the lowest for schools teaching French and highest for schools teaching Spanish. In other words, there seems to be a trend where the student population is more financially well off in schools teaching French as opposed to schools teaching Spanish or Chinese.This relationship makes sense when we look back at the bar graphs of the most common ethnic groups and boxplots of economic need index by ethnic group for schools teaching Spanish vs. Chinese vs. French. Most schools teaching French have an ethnic distribution of mostly white students (from the ethnic distribution bar graph), and that white students tended to have a higher economic need index in these schools (from the boxplots above). Schools teaching Spanish and Chinese have a statistically significant higher mean economic need index than schools teaching French. To evaluate significance/determine whether or not these means are statistically different, we performed ANOVA (analysis of variance). The null hypothesis for ANOVA here is that there is no difference in the means of the economic need index across schools teaching Spanish, Chinese, and French. Because the resulting ANOVA p-value is 1.48e-09, which is less than 0.05 (p<0.05), we can say that this is statistically significant. In other words, we reject the null hypothesis and conclude that there are significant differences among the economic need indices among schools teaching Spanish, Chinese, and French. This is because the p-value represents the probability that these differences among the economic need indices occurred by random chance. An extremely low p-value means that there is an extremely high chance that these differences did NOT occur randomly and that they are statistically significant instead. We also have a large F value. In ANOVA, the F value is the ratio of two mean square values, so a very high value of F would mean that we can reject the null hypothesis, which is the case here since our F value is 22.23."
   ]
  },
  {
   "cell_type": "markdown",
   "id": "d34bd9d4-258d-4ef5-8b82-c427440219d7",
   "metadata": {},
   "source": [
    "# Question for Reviewers\n",
    "- Is it okay to expand our original research question at this point? We found while working with the question at hand that there was not much to investigate with our original wording, so we wanted to branch out and include more things to have a more fully developed project. Or should do we have to keep the original research question and have the rest of the analyses be tangential to the project?\n",
    "- Is this enough data analyses for the final project, or should we be looking to do more for the final submission?\n",
    "- Does the format of our project look good for final submission, or is there someway we should make it clearer (are we supposed to keep data cleaning and EDA)?\n",
    "- Regarding the two logistic regressions, is looking at the classification report, baseline accuracy, and coefficients enough for evaluation of significance or is there something else we should be doing or looking at? \n",
    "- Regarding the analysis of background factors and academic data, is there more statistical analysis we should be looking at? For the academic data, we have qualitative descriptions currently, is this enough?\n",
    "- Did we tie the results in with the hypothesis and back into the real world context enough?\n",
    "- How is the intro and conclusion? Should they be more succinct? "
   ]
  },
  {
   "cell_type": "code",
   "execution_count": null,
   "id": "310e04b2-b8f5-4575-b8cf-a5a6ce2be5bd",
   "metadata": {},
   "outputs": [],
   "source": []
  }
 ],
 "metadata": {
  "kernelspec": {
   "display_name": "Python 3 (ipykernel)",
   "language": "python",
   "name": "python3"
  },
  "language_info": {
   "codemirror_mode": {
    "name": "ipython",
    "version": 3
   },
   "file_extension": ".py",
   "mimetype": "text/x-python",
   "name": "python",
   "nbconvert_exporter": "python",
   "pygments_lexer": "ipython3",
   "version": "3.9.7"
  }
 },
 "nbformat": 4,
 "nbformat_minor": 5
}
