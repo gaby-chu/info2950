{
 "cells": [
  {
   "cell_type": "markdown",
   "id": "c7d62e53",
   "metadata": {},
   "source": [
    "# INFO 2950 Project Phase IV\n",
    "GitHub Repo: https://github.com/gaby-chu/info2950"
   ]
  },
  {
   "cell_type": "markdown",
   "id": "1c37adc8",
   "metadata": {},
   "source": [
    "### Do schools with certain language programs have higher academic performance?"
   ]
  },
  {
   "cell_type": "code",
   "execution_count": 25,
   "id": "d2ba979f",
   "metadata": {},
   "outputs": [],
   "source": [
    "## load libraries\n",
    "import numpy as np\n",
    "import pandas as pd\n",
    "import matplotlib.pyplot as plt\n",
    "\n",
    "import seaborn as sns\n",
    "from sklearn.cluster import KMeans"
   ]
  },
  {
   "cell_type": "code",
   "execution_count": 26,
   "id": "44b3a2f6",
   "metadata": {},
   "outputs": [],
   "source": [
    "academic_data = pd.read_csv(\"2014-15_to_2017-19_NYC_Regents_Exam_Results_-_Public.csv\")"
   ]
  },
  {
   "cell_type": "code",
   "execution_count": 27,
   "id": "e5f14d5a",
   "metadata": {},
   "outputs": [],
   "source": [
    "academic_data = academic_data.rename(columns={\"Unnamed Column\": \"school_test\", \"School DBN\": \"DBN\", \"School Name\": \"school_name_x\",\n",
    "                                              \"School Level\": \"School Category\", \"Year\": \"year\", \"Regents Exam\": \"regents\", \"Mean Score\": \"mean_score\"})\n",
    "\n",
    "academic_data = academic_data.loc[academic_data.mean_score != 's']\n",
    "academic_data['mean_score'] = academic_data['mean_score'].astype(float)\n",
    "\n",
    "## math tests\n",
    "math_tests = academic_data.loc[(academic_data[\"regents\"] == \"Common Core Algebra\") |  (academic_data[\"regents\"] == \"Common Core Algebra2\") | (academic_data[\"regents\"] == \"Common Core Geometry\") |\n",
    "                             (academic_data[\"regents\"] == \"Integrated Algebra\") | (academic_data[\"regents\"] == \"Geometry\") | (academic_data[\"regents\"] == \"Algebra2/Trigonometry\")]\n",
    "math_tests = math_tests.rename(columns = {\"mean_score\": \"math_score\"})\n",
    "mean_math_score = math_tests.groupby(\"DBN\").math_score.mean()\n",
    "\n",
    "## language tests\n",
    "fl_tests = academic_data.loc[(academic_data[\"regents\"] == \"Spanish\") |  (academic_data[\"regents\"] == \"French\") | (academic_data[\"regents\"] == \"Chinese\") |\n",
    "                             (academic_data[\"regents\"] == \"Italian\")]\n",
    "fl_tests = fl_tests.rename(columns = {\"mean_score\": \"fl_score\"})\n",
    "mean_fl_score = fl_tests.groupby(\"DBN\").fl_score.mean()\n",
    "\n",
    "## history tests\n",
    "history_tests = academic_data.loc[(academic_data[\"regents\"] == \"Global History and Geography\") |  (academic_data[\"regents\"] == \"U.S. History and Government\")]\n",
    "history_tests = history_tests.rename(columns = {\"mean_score\": \"history_score\"})\n",
    "mean_history_score = history_tests.groupby(\"DBN\").history_score.mean()\n",
    "\n",
    "## science tests\n",
    "science_tests = academic_data.loc[(academic_data[\"regents\"] == \"Living Environment\") |  (academic_data[\"regents\"] == \"Physical Settings/Chemistry\") |\n",
    "                                  (academic_data[\"regents\"] == \"Physical Settings/Earth Science\") |  (academic_data[\"regents\"] == \"Physical Settings/Physics\") ]\n",
    "science_tests = science_tests.rename(columns = {\"mean_score\": \"science_score\"})\n",
    "mean_science_score = science_tests.groupby(\"DBN\").science_score.mean()\n",
    "\n",
    "## english tests\n",
    "english_tests = academic_data.loc[(academic_data[\"regents\"] == \"Common Core English\") |  (academic_data[\"regents\"] == \"English\") ]\n",
    "english_tests = english_tests.rename(columns = {\"mean_score\": \"english_score\"})\n",
    "mean_english_score = english_tests.groupby(\"DBN\").english_score.mean()\n",
    "\n",
    "# create dataframe of all the mean subject scores\n",
    "mean_subject_scores = pd.DataFrame([mean_math_score])\n",
    "mean_subject_scores = mean_subject_scores.append(mean_fl_score).append(mean_history_score).append(mean_science_score).append(mean_english_score)\n",
    "mean_subject_scores = mean_subject_scores.transpose()"
   ]
  },
  {
   "cell_type": "code",
   "execution_count": 28,
   "id": "e0d0e87b",
   "metadata": {},
   "outputs": [
    {
     "data": {
      "text/html": [
       "<div>\n",
       "<style scoped>\n",
       "    .dataframe tbody tr th:only-of-type {\n",
       "        vertical-align: middle;\n",
       "    }\n",
       "\n",
       "    .dataframe tbody tr th {\n",
       "        vertical-align: top;\n",
       "    }\n",
       "\n",
       "    .dataframe thead th {\n",
       "        text-align: right;\n",
       "    }\n",
       "</style>\n",
       "<table border=\"1\" class=\"dataframe\">\n",
       "  <thead>\n",
       "    <tr style=\"text-align: right;\">\n",
       "      <th></th>\n",
       "      <th>Borough</th>\n",
       "      <th>Borough/Citywide Office (B/CO)</th>\n",
       "      <th>District</th>\n",
       "      <th>DBN</th>\n",
       "      <th>school_name_x</th>\n",
       "      <th>School Category</th>\n",
       "      <th>Program</th>\n",
       "      <th>Language</th>\n",
       "      <th>General/Special Education</th>\n",
       "      <th>school_name_y</th>\n",
       "      <th>...</th>\n",
       "      <th># English Language Learners</th>\n",
       "      <th>% English Language Learners</th>\n",
       "      <th># Poverty</th>\n",
       "      <th>% Poverty</th>\n",
       "      <th>Economic Need Index</th>\n",
       "      <th>math_score</th>\n",
       "      <th>fl_score</th>\n",
       "      <th>history_score</th>\n",
       "      <th>science_score</th>\n",
       "      <th>english_score</th>\n",
       "    </tr>\n",
       "  </thead>\n",
       "  <tbody>\n",
       "    <tr>\n",
       "      <th>0</th>\n",
       "      <td>Manhattan</td>\n",
       "      <td>Manhattan</td>\n",
       "      <td>1</td>\n",
       "      <td>01M184</td>\n",
       "      <td>P.S. 184m Shuang Wen</td>\n",
       "      <td>K-8</td>\n",
       "      <td>Dual Language</td>\n",
       "      <td>Chinese</td>\n",
       "      <td>General Education</td>\n",
       "      <td>P.S. 184m Shuang Wen</td>\n",
       "      <td>...</td>\n",
       "      <td>99</td>\n",
       "      <td>0.140</td>\n",
       "      <td>469</td>\n",
       "      <td>66.3%</td>\n",
       "      <td>67.2</td>\n",
       "      <td>84.520000</td>\n",
       "      <td>NaN</td>\n",
       "      <td>NaN</td>\n",
       "      <td>87.733333</td>\n",
       "      <td>NaN</td>\n",
       "    </tr>\n",
       "    <tr>\n",
       "      <th>1</th>\n",
       "      <td>Manhattan</td>\n",
       "      <td>Manhattan</td>\n",
       "      <td>1</td>\n",
       "      <td>01M184</td>\n",
       "      <td>P.S. 184m Shuang Wen</td>\n",
       "      <td>K-8</td>\n",
       "      <td>Dual Language</td>\n",
       "      <td>Chinese</td>\n",
       "      <td>Special Education</td>\n",
       "      <td>P.S. 184m Shuang Wen</td>\n",
       "      <td>...</td>\n",
       "      <td>99</td>\n",
       "      <td>0.140</td>\n",
       "      <td>469</td>\n",
       "      <td>66.3%</td>\n",
       "      <td>67.2</td>\n",
       "      <td>84.520000</td>\n",
       "      <td>NaN</td>\n",
       "      <td>NaN</td>\n",
       "      <td>87.733333</td>\n",
       "      <td>NaN</td>\n",
       "    </tr>\n",
       "    <tr>\n",
       "      <th>2</th>\n",
       "      <td>Manhattan</td>\n",
       "      <td>Manhattan</td>\n",
       "      <td>1</td>\n",
       "      <td>01M378</td>\n",
       "      <td>School for Global Leaders</td>\n",
       "      <td>Junior High-Intermediate-Middle</td>\n",
       "      <td>Dual Language</td>\n",
       "      <td>Chinese</td>\n",
       "      <td>General Education</td>\n",
       "      <td>School for Global Leaders</td>\n",
       "      <td>...</td>\n",
       "      <td>17</td>\n",
       "      <td>0.083</td>\n",
       "      <td>172</td>\n",
       "      <td>84.3%</td>\n",
       "      <td>84.7</td>\n",
       "      <td>75.460000</td>\n",
       "      <td>NaN</td>\n",
       "      <td>NaN</td>\n",
       "      <td>NaN</td>\n",
       "      <td>NaN</td>\n",
       "    </tr>\n",
       "    <tr>\n",
       "      <th>3</th>\n",
       "      <td>Manhattan</td>\n",
       "      <td>Manhattan</td>\n",
       "      <td>2</td>\n",
       "      <td>02M131</td>\n",
       "      <td>M.S. 131</td>\n",
       "      <td>Junior High-Intermediate-Middle</td>\n",
       "      <td>Dual Language</td>\n",
       "      <td>Chinese</td>\n",
       "      <td>General Education</td>\n",
       "      <td>M.S. 131</td>\n",
       "      <td>...</td>\n",
       "      <td>70</td>\n",
       "      <td>0.230</td>\n",
       "      <td>269</td>\n",
       "      <td>88.5%</td>\n",
       "      <td>85.1</td>\n",
       "      <td>86.466667</td>\n",
       "      <td>NaN</td>\n",
       "      <td>NaN</td>\n",
       "      <td>82.025000</td>\n",
       "      <td>NaN</td>\n",
       "    </tr>\n",
       "    <tr>\n",
       "      <th>4</th>\n",
       "      <td>Manhattan</td>\n",
       "      <td>Bronx</td>\n",
       "      <td>2</td>\n",
       "      <td>02M542</td>\n",
       "      <td>Manhattan Bridges High School</td>\n",
       "      <td>High school</td>\n",
       "      <td>Dual Language</td>\n",
       "      <td>Spanish</td>\n",
       "      <td>General Education</td>\n",
       "      <td>Manhattan Bridges High School</td>\n",
       "      <td>...</td>\n",
       "      <td>189</td>\n",
       "      <td>0.363</td>\n",
       "      <td>443</td>\n",
       "      <td>85.2%</td>\n",
       "      <td>92.7</td>\n",
       "      <td>67.970000</td>\n",
       "      <td>88.84</td>\n",
       "      <td>72.86</td>\n",
       "      <td>67.020000</td>\n",
       "      <td>73.4</td>\n",
       "    </tr>\n",
       "  </tbody>\n",
       "</table>\n",
       "<p>5 rows × 52 columns</p>\n",
       "</div>"
      ],
      "text/plain": [
       "     Borough Borough/Citywide Office (B/CO)  District     DBN  \\\n",
       "0  Manhattan                      Manhattan         1  01M184   \n",
       "1  Manhattan                      Manhattan         1  01M184   \n",
       "2  Manhattan                      Manhattan         1  01M378   \n",
       "3  Manhattan                      Manhattan         2  02M131   \n",
       "4  Manhattan                          Bronx         2  02M542   \n",
       "\n",
       "                   school_name_x                  School Category  \\\n",
       "0           P.S. 184m Shuang Wen                              K-8   \n",
       "1           P.S. 184m Shuang Wen                              K-8   \n",
       "2      School for Global Leaders  Junior High-Intermediate-Middle   \n",
       "3                       M.S. 131  Junior High-Intermediate-Middle   \n",
       "4  Manhattan Bridges High School                      High school   \n",
       "\n",
       "         Program Language General/Special Education  \\\n",
       "0  Dual Language  Chinese         General Education   \n",
       "1  Dual Language  Chinese         Special Education   \n",
       "2  Dual Language  Chinese         General Education   \n",
       "3  Dual Language  Chinese         General Education   \n",
       "4  Dual Language  Spanish         General Education   \n",
       "\n",
       "                   school_name_y  ... # English Language Learners  \\\n",
       "0           P.S. 184m Shuang Wen  ...                          99   \n",
       "1           P.S. 184m Shuang Wen  ...                          99   \n",
       "2      School for Global Leaders  ...                          17   \n",
       "3                       M.S. 131  ...                          70   \n",
       "4  Manhattan Bridges High School  ...                         189   \n",
       "\n",
       "   % English Language Learners  # Poverty  % Poverty  Economic Need Index  \\\n",
       "0                        0.140        469      66.3%                 67.2   \n",
       "1                        0.140        469      66.3%                 67.2   \n",
       "2                        0.083        172      84.3%                 84.7   \n",
       "3                        0.230        269      88.5%                 85.1   \n",
       "4                        0.363        443      85.2%                 92.7   \n",
       "\n",
       "   math_score  fl_score  history_score  science_score  english_score  \n",
       "0   84.520000       NaN            NaN      87.733333            NaN  \n",
       "1   84.520000       NaN            NaN      87.733333            NaN  \n",
       "2   75.460000       NaN            NaN            NaN            NaN  \n",
       "3   86.466667       NaN            NaN      82.025000            NaN  \n",
       "4   67.970000     88.84          72.86      67.020000           73.4  \n",
       "\n",
       "[5 rows x 52 columns]"
      ]
     },
     "execution_count": 28,
     "metadata": {},
     "output_type": "execute_result"
    }
   ],
   "source": [
    "# merge bilingual data and mean subject scores to perform data analysis\n",
    "\n",
    "academic_performance_data = bilingual_demographic_data.merge(mean_subject_scores, on = \"DBN\")\n",
    "academic_performance_data = academic_performance_data.loc[(academic_performance_data['Language'] == 'Spanish') | (academic_performance_data['Language'] == 'Chinese') | (academic_performance_data['Language'] == 'French')]\n",
    "academic_performance_data.head()"
   ]
  },
  {
   "cell_type": "code",
   "execution_count": 29,
   "id": "d55ab97c",
   "metadata": {},
   "outputs": [],
   "source": [
    "academic_performance_data.to_csv('academic_performance_data.csv', index=False)"
   ]
  },
  {
   "cell_type": "code",
   "execution_count": 30,
   "id": "d53c30b1",
   "metadata": {},
   "outputs": [
    {
     "data": {
      "text/plain": [
       "10          NaN\n",
       "40          NaN\n",
       "42          NaN\n",
       "44          NaN\n",
       "47    60.528571\n",
       "Name: english_score, dtype: float64"
      ]
     },
     "metadata": {},
     "output_type": "display_data"
    }
   ],
   "source": [
    "spanish_academic_performance = academic_performance_data.loc[academic_performance_data['Language'] == 'Spanish'] \n",
    "chinese_academic_performance = academic_performance_data.loc[academic_performance_data['Language'] == 'Chinese'] \n",
    "french_academic_performance = academic_performance_data.loc[academic_performance_data['Language'] == 'French']\n",
    "\n",
    "display(french_academic_performance['english_score'])\n",
    "\n",
    "spanish_math = spanish_academic_performance['math_score']\n",
    "chinese_math = chinese_academic_performance['math_score']\n",
    "french_math = french_academic_performance['math_score']\n"
   ]
  },
  {
   "cell_type": "code",
   "execution_count": 37,
   "id": "35229780",
   "metadata": {},
   "outputs": [
    {
     "name": "stdout",
     "output_type": "stream",
     "text": [
      "nan nan\n"
     ]
    },
    {
     "data": {
      "image/png": "[encoded data removed]",
      "text/plain": [
       "<Figure size 432x288 with 1 Axes>"
      ]
     },
     "metadata": {
      "needs_background": "light"
     },
     "output_type": "display_data"
    }
   ],
   "source": [
    "sns.boxplot(x='Language',y='math_score',data=academic_performance_data, palette='GnBu');\n",
    "\n",
    "F, p = stats.f_oneway(academic_performance_data.loc[academic_performance_data['Language'] == 'Spanish', 'math_score'],\n",
    "               academic_performance_data.loc[academic_performance_data['Language'] == 'Chinese', 'math_score'],\n",
    "               academic_performance_data.loc[academic_performance_data['Language'] == 'French', 'math_score'])\n",
    "\n",
    "print(F,p)"
   ]
  },
  {
   "cell_type": "code",
   "execution_count": 32,
   "id": "d349c43e",
   "metadata": {},
   "outputs": [
    {
     "data": {
      "image/png": "[encoded data removed]",
      "text/plain": [
       "<Figure size 432x288 with 1 Axes>"
      ]
     },
     "metadata": {
      "needs_background": "light"
     },
     "output_type": "display_data"
    }
   ],
   "source": [
    "sns.boxplot(x='Language',y='science_score',data=academic_performance_data, palette='GnBu');"
   ]
  },
  {
   "cell_type": "code",
   "execution_count": 33,
   "id": "4ebc643a",
   "metadata": {},
   "outputs": [
    {
     "data": {
      "image/png": "[encoded data removed]",
      "text/plain": [
       "<Figure size 432x288 with 1 Axes>"
      ]
     },
     "metadata": {
      "needs_background": "light"
     },
     "output_type": "display_data"
    }
   ],
   "source": [
    "sns.boxplot(x='Language',y='fl_score',data=academic_performance_data, palette='GnBu');"
   ]
  },
  {
   "cell_type": "code",
   "execution_count": 34,
   "id": "7657964b",
   "metadata": {},
   "outputs": [
    {
     "data": {
      "image/png": "[encoded data removed]",
      "text/plain": [
       "<Figure size 432x288 with 1 Axes>"
      ]
     },
     "metadata": {
      "needs_background": "light"
     },
     "output_type": "display_data"
    }
   ],
   "source": [
    "sns.boxplot(x='Language',y='history_score',data=academic_performance_data, palette='GnBu');"
   ]
  },
  {
   "cell_type": "code",
   "execution_count": 35,
   "id": "cf1db0bd",
   "metadata": {},
   "outputs": [
    {
     "data": {
      "image/png": "[encoded data removed]",
      "text/plain": [
       "<Figure size 432x288 with 1 Axes>"
      ]
     },
     "metadata": {
      "needs_background": "light"
     },
     "output_type": "display_data"
    }
   ],
   "source": [
    "sns.boxplot(x='Language',y='english_score',data=academic_performance_data, palette='GnBu');"
   ]
  },
  {
   "cell_type": "code",
   "execution_count": null,
   "id": "05a99bb4",
   "metadata": {},
   "outputs": [],
   "source": []
  },
  {
   "cell_type": "code",
   "execution_count": null,
   "id": "ad6f233c",
   "metadata": {},
   "outputs": [],
   "source": []
  },
  {
   "cell_type": "code",
   "execution_count": null,
   "id": "c9fcd5ef",
   "metadata": {},
   "outputs": [],
   "source": []
  }
 ],
 "metadata": {
  "kernelspec": {
   "display_name": "Python 3 (ipykernel)",
   "language": "python",
   "name": "python3"
  },
  "language_info": {
   "codemirror_mode": {
    "name": "ipython",
    "version": 3
   },
   "file_extension": ".py",
   "mimetype": "text/x-python",
   "name": "python",
   "nbconvert_exporter": "python",
   "pygments_lexer": "ipython3",
   "version": "3.9.7"
  }
 },
 "nbformat": 4,
 "nbformat_minor": 5
}
