{
 "cells": [
  {
   "cell_type": "markdown",
   "metadata": {},
   "source": [
    "# INFO 2950 Project Phase III"
   ]
  },
  {
   "cell_type": "markdown",
   "metadata": {},
   "source": [
    "## Preregistered Analyses \n",
    "\n",
    "1. Multinomial logistic regression - input: demographic vector where each element is the percentage of each race (ex: [0.5, 0.3, 0.2] represents the percentage of white, black, and Asians in the school population respectively), output: predicted bilingual language\n",
    "    - Alternatively (because we haven’t learned multinomial logistic regression): for each language, perform a Binary logistic regression - input: demographic vector where each element is the percentage of each race, output: probability that a school has this specific language in its bilingual program.\n",
    "\n",
    "\n",
    "2. Multinomial logistic regression - input: economic need index, output: language\n",
    "    - Alternatively (because we haven’t learned multinomial logistic regression): for each language, perform a Binary logistic regression - input: economic need index of each school (percentage), output: probability that a school has this specific language in its bilingual program"
   ]
  },
  {
   "cell_type": "markdown",
   "metadata": {},
   "source": [
    "## Hypotheses\n",
    "\n",
    "1. We expect that this test will yield mild accuracy (60%) for predicting the major demographic of the school and the language offered at the school. We believe our model may somewhat accurately predict the correct corresponding language given the ethnic breakdown of a school. Looking at the results from our exploratory data analysis, we saw that the majority of the language programs were in Spanish. This makes sense because the second most common language in the USA as a whole is Spanish, so it would make sense that most schools would opt to teach Spanish as the second language regardless of ethnic breakdown, yet there are also schools where the major ethnic group is Hispanic. The results would be interesting because it would show whether or not the major demographic group in a school determines or has any influence on what language program is offered. It would also guide us forward in our analysis of other factors that could be the leading influence in determining the language for a language program.\n",
    "\n",
    "2. We believe our model will not accurately predict the correct corresponding language given the economic index of a school. This is because we do not believe that certain languages map to certain economic indices. For example, Spanish can be taught at schools that differ greatly in wealth (for example, since Spanish is the second most common language in the USA, schools of all wealth levels can opt to teach it as a second language. This could then mean there is no correlation between economic need index and bilingual language). The results of this would be interesting because it would show if there is a relationship between the language offered and economic need. It would be interesting to show what relationship there is if one exists, but it would also be just as interesting to note if there were no relationship at all. In the case that our model does accurately predict the language based on economic need index, this can hint that there is indeed a relationship/correlation between these two variables. This could make sense because wealthier schools may have greater access to resources for less common languages like Arabic.\n"
   ]
  },
  {
   "cell_type": "markdown",
   "metadata": {},
   "source": [
    "## Questions for Reviewers\n",
    "\n",
    "1. How feasible would PCA be and what results would it yield? \n",
    "2. What is softmax and how should we use it? \n",
    "3. Would we need to gather more data in order to investigate further the economic background of the schools? \n",
    "4. How do we account for students that go to a school in a city different from that of the one they live in? \n",
    "5. Since we did not learn about multinomial logistic regressions, can we perform binary logistic regressions instead if we find that our data is unable to do multinomial logistic regressions?\n",
    "6. What other analysis would be valid for our data besides logistic regression? (p-test/t-test, something else etc.?)\n",
    "\n"
   ]
  },
  {
   "cell_type": "code",
   "execution_count": null,
   "metadata": {},
   "outputs": [],
   "source": []
  }
 ],
 "metadata": {
  "kernelspec": {
   "display_name": "Python 3",
   "language": "python",
   "name": "python3"
  },
  "language_info": {
   "codemirror_mode": {
    "name": "ipython",
    "version": 3
   },
   "file_extension": ".py",
   "mimetype": "text/x-python",
   "name": "python",
   "nbconvert_exporter": "python",
   "pygments_lexer": "ipython3",
   "version": "3.8.8"
  }
 },
 "nbformat": 4,
 "nbformat_minor": 4
}
