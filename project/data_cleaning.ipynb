{
 "cells": [
  {
   "cell_type": "markdown",
   "id": "4fcafa1a-7673-4085-ba52-0d336a382984",
   "metadata": {},
   "source": [
    "# Data Cleaning "
   ]
  },
  {
   "cell_type": "code",
   "execution_count": 1,
   "id": "e1627921-c469-4f61-a882-58a3d08afee4",
   "metadata": {},
   "outputs": [],
   "source": [
    "## load libraries\n",
    "\n",
    "import numpy as np\n",
    "import pandas as pd\n",
    "import matplotlib.pyplot as plt\n",
    "\n",
    "import seaborn as sns\n",
    "from sklearn.cluster import KMeans"
   ]
  },
  {
   "cell_type": "code",
   "execution_count": 14,
   "id": "c27d879a-0bd8-4cec-a9f6-6afe6cc84f5f",
   "metadata": {},
   "outputs": [
    {
     "data": {
      "text/html": [
       "<div>\n",
       "<style scoped>\n",
       "    .dataframe tbody tr th:only-of-type {\n",
       "        vertical-align: middle;\n",
       "    }\n",
       "\n",
       "    .dataframe tbody tr th {\n",
       "        vertical-align: top;\n",
       "    }\n",
       "\n",
       "    .dataframe thead th {\n",
       "        text-align: right;\n",
       "    }\n",
       "</style>\n",
       "<table border=\"1\" class=\"dataframe\">\n",
       "  <thead>\n",
       "    <tr style=\"text-align: right;\">\n",
       "      <th></th>\n",
       "      <th>Borough</th>\n",
       "      <th>Borough/Citywide Office (B/CO)</th>\n",
       "      <th>District</th>\n",
       "      <th>School</th>\n",
       "      <th>school_name</th>\n",
       "      <th>School Category</th>\n",
       "      <th>Program</th>\n",
       "      <th>Language</th>\n",
       "      <th>Language (Translated)</th>\n",
       "      <th>General/Special Education</th>\n",
       "      <th>...</th>\n",
       "      <th>Regents w/o Advanced #</th>\n",
       "      <th>Regents w/o Advanced % of cohort</th>\n",
       "      <th>Regents w/o Advanced % of grads</th>\n",
       "      <th>Local #</th>\n",
       "      <th>Local % of cohort</th>\n",
       "      <th>Local % of grads</th>\n",
       "      <th>Still Enrolled #</th>\n",
       "      <th>Still Enrolled % of cohort</th>\n",
       "      <th>Dropped Out #</th>\n",
       "      <th>Dropped Out % of cohort</th>\n",
       "    </tr>\n",
       "  </thead>\n",
       "  <tbody>\n",
       "  </tbody>\n",
       "</table>\n",
       "<p>0 rows × 35 columns</p>\n",
       "</div>"
      ],
      "text/plain": [
       "Empty DataFrame\n",
       "Columns: [Borough, Borough/Citywide Office (B/CO), District, School, school_name, School Category, Program, Language, Language (Translated), General/Special Education, Special Education Model, School Name, Demographic Category, Demographic Variable, Cohort Year, Cohort, Total Cohort #, Total Grads #, Total Grads % of cohort, Total Regents #, Total Regents % of cohort, Total Regents % of grads, Advanced Regents #, Advanced Regents % of cohort, Advanced Regents % of grads, Regents w/o Advanced #, Regents w/o Advanced % of cohort, Regents w/o Advanced % of grads, Local #, Local % of cohort, Local % of grads, Still Enrolled #, Still Enrolled % of cohort, Dropped Out #, Dropped Out % of cohort]\n",
       "Index: []\n",
       "\n",
       "[0 rows x 35 columns]"
      ]
     },
     "execution_count": 14,
     "metadata": {},
     "output_type": "execute_result"
    }
   ],
   "source": [
    "graduation_data = pd.read_csv(\"graduation_rates.csv\")\n",
    "bilingual_data = pd.read_csv(\"bilingual_rates.csv\")\n",
    "graduation_data = graduation_data.rename(columns={\"DBN\":\"school_name\"})\n",
    "bilingual_data = bilingual_data.rename(columns={\"School Name\":\"school_name\"})\n",
    "schools = pd.merge(bilingual_data, graduation_data, on=\"school_name\")\n",
    "schools.head()\n",
    "\n",
    "# no schools match "
   ]
  },
  {
   "cell_type": "code",
   "execution_count": null,
   "id": "5802a249-0345-43b1-a9c1-a84d46bb2e98",
   "metadata": {},
   "outputs": [],
   "source": []
  },
  {
   "cell_type": "code",
   "execution_count": null,
   "id": "87db80c2-b546-4f9e-9440-10cacda33fdb",
   "metadata": {},
   "outputs": [],
   "source": []
  }
 ],
 "metadata": {
  "kernelspec": {
   "display_name": "Python 3",
   "language": "python",
   "name": "python3"
  },
  "language_info": {
   "codemirror_mode": {
    "name": "ipython",
    "version": 3
   },
   "file_extension": ".py",
   "mimetype": "text/x-python",
   "name": "python",
   "nbconvert_exporter": "python",
   "pygments_lexer": "ipython3",
   "version": "3.8.8"
  }
 },
 "nbformat": 4,
 "nbformat_minor": 5
}
