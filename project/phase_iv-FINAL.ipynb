{
 "cells": [
  {
   "cell_type": "markdown",
   "id": "df2ba506",
   "metadata": {},
   "source": [
    "# INFO 2950 Project Phase IV\n",
    "GitHub Repo: https://github.com/gaby-chu/info2950"
   ]
  },
  {
   "cell_type": "markdown",
   "id": "15ebe06d",
   "metadata": {},
   "source": [
    "# **NEED TO WRITE AN INTRO**\n",
    "#### Provides background information and context. Introduces key terms and data sources. Outlines research question(s). Ends with a brief summary of findings. + clearly describes why the setting is important and what is at stake in the results of the analysis. Even if the reader doesn’t know much about the subject, they know why they care about the results of your analysis.\n",
    "\n",
    "\n",
    "To what extent is the language chosen in bilingual program schools in New York City influenced by the ethnic/racial breakdown of the school and the economic status of the school?\n",
    "\n",
    "Read more about our research question and listen to the podcast that inspired us: https://www.nytimes.com/2020/07/23/podcasts/nice-white-parents-serial.html"
   ]
  },
  {
   "cell_type": "markdown",
   "id": "c4a23b3c",
   "metadata": {},
   "source": [
    "## Data Description \n",
    "**Sources for our Data:**\n",
    "\n",
    "2019-20 Demographic Snapshot - School\n",
    "(https://data.cityofnewyork.us/Education/2019-20-Demographic-Snapshot-School/nie4-bv6q)\n",
    "\n",
    "2020-2021 Bilingual Program List\n",
    "(https://data.cityofnewyork.us/Education/2020-2021-Bilingual-Program-List-Final-Publication/rrd7-vuvp/data)\n",
    "\n",
    "2014-15 to 2017-19 NYC Regents Exam Results - Public\n",
    "(https://data.cityofnewyork.us/Education/2014-15-to-2017-19-NYC-Regents-Exam-Results-Public/bnea-fu3k)\n",
    "\n",
    "The **2020-2021 Bilingual Program Dataset** was sourced from NYC OpenData. The information within this dataset reports all of the bilingual programs in New York City for the 2020-2021 school year, sorted by program type and language per school. It is organized by borough and school district. NYC OpenData was developed as part of an initiative to make the NYC government more accessible, transparent and accountable. The open, free, public data is produced by various city agencies. By centralizing data from all these NYC agencies, the hope is that citizens will have a more efficient way to find useful, machine-readable data.\n",
    "This particular data is owned and provided by the New York City Department of Education. Regarding influences on data collection, because this should be a comprehensive list of schools with bilingual programs in the city, there should not be schools that are excluded, at least not on purpose. Whether a school has a bilingual program or not is public information and should be relatively easy to collect, and thus there should not be any problems in terms of collection bias and recording. The stakeholders here are the schools, not any individuals in particular, so there should also not be problems with the misuse of information, especially since it is not personal information. Data collected within this dataset that was preprocessed includes the language translated column to the language written in English. For example, columns that indicate the language as Spanish have the language translated column to be preprocessed to Español. In addition, the school DBN column was also preprocessed from the given school name as individuals are more likely to know the school name and then the data preprocesses the name of the school to the school DBN. \n",
    "\n",
    "There are 538 rows, each corresponding to a different NYC school. There are 11 columns, detailing borough, borough/citywide office, district, school, school name, school category (K-8, elementary, early childhood, etc.), program, program language, program language translated into the respective language, whether the school is a general or special education school, and special education model. Based on the website, there is no evidence of preprocessing of the data. However, the data is quite clean already, so it could be possible that there was some data cleaning done on the part of NYC OpenData, primarily just figuring out which schools had bilingual programs, and inputting all the corresponding information about the school itself to prevent the dataset from having any null or NaN values.\n",
    "\n",
    "\n",
    "The **2019-20 Demographic Snapshot Dataset** was also sourced from NYC Open Data, and it is also owned by the NYC Department of Education. This dataset details student demographics and enrollment data by school from 2015-2016 through 2019 to 2020. These enrollment counts were taken on October 31st for all of the audited register schools for each school year. There are 9,096 rows and 39 columns with each column detailing specific information regarding the schools in the rows. Some of the columns include the DBN, the year that the count was taken in, as well as presenting subpopulations through the breakdown by school grade, ethnic breakdown (Asian, black, white, Hispanic, and other), gender, and the percentage of students in poverty at the school. After our data analysis for phase II, we found that the data is mostly comprised of the Hispanic subpopulation. The 9096 rows do not include 9096 individual schools but rather each school can have multiple rows in order to detail the snapshot for each individual year. \n",
    "\n",
    "Because the data was recorded on October 31st for all of the years for all of the schools, the numbers presented do not account for the whole makeup of the population until the end of the year. For example, students who moved to a new school are not counted for if they joined after October 31st. Because the observations were from an audited register, the schools could not change their numbers significantly since the observation was accounted for by an official hired by the government. \n",
    "\n",
    "Preprocessing conducted during the collection of this dataset includes determining the definition of poverty and the threshold students need to meet in order to be counted into the percentage of poverty reported to the Department of Education on this particular dataset. Along with the poverty threshold, preprocessing also includes forming the economic need index. \n",
    "The schools were not involved in the process of data collection. Although we are counting the number of students within each category, the students were not involved in the process of data collection and the purpose of this dataset that is provided by the NYCDOE is to create more transparency and accountability amongst the schools and the public. \n",
    "\n",
    "Because both datasets are \"snapshots\" in time, they would not be updated until the next year rolls around, when new data would have been collected and a new dataset would be created to reflect the addition of a new year of data. Older versions/snapshots of the datasets will continue to be hosted on NYC Open Data.\n",
    "\n",
    "Our last dataset, **2014-15 to 2017-19 NYC Regents Exam Results - Public**, is also from NYC Open Data. It details the NYC results on New York State Regents Exams for all three administrations of the test - January, June, and August. Mean regents scores are accounted for Living Environment, Spanish, Geometry, French, English, Common Core Algebra, Common Core English, Common Core Geometry, Global History and Geography, Integrated Algebra, Physical Settings/Earth Science, US Histotry and Government, Common Core Algebra2, Physical Settings/Chemistry, Algebra2/Trigonmetry, Chinese, Physical Settings/Physics, and Italian. It describes the amount of students tested, and the portion of the students scoring below and above 65 and above 80. There are multiple rows per school, one for each test that the school took. Pre processing of the data included getting all of the scores per test from each school each averaging them, as well as calculating how many students fell between the certain test score ranges."
   ]
  },
  {
   "cell_type": "markdown",
   "id": "3966371d",
   "metadata": {},
   "source": [
    "## Data Limitations (Pre-Analysis)\n",
    "\n",
    "One potential problem with our datasets is the fact that the list of bilingual schools programs is the final publication for the year 2020-2021, while our demographic data is based on 2019-2020 data. However, because it would likely take longer than one school year for the demographics of an area to change a notable amount that it would make a change when doing data analysis, this should not be a substantial problem.\n",
    "\n",
    "Another potential problem could be the specificity of the raw data. For example, the raw bilingual school data designates the schools by borough and district, however, if we want to get more specific about the location, the zip code of the school might be needed. However, this potential could be solved by manually entering this data based on the name of the school. Furthermore, the raw data does not provide the ethnic breakdown of the individual school. Therefore, when mapping the bilingual data to the demographic data, we might be overlooking the fact that the makeup of the school might not match the demographic makeup of the neighborhood. This could be because children might not always go to the school that is closest to them, but they could be traveling outside of their zone. For elementary schools, because of severe overcrowding in some neighborhoods and certain schools being more popular, some children will be assigned to another school outside of their zone. For middle school, there are zoned schools, where most students go, but there are also choice districts, where students are guaranteed a seat in the district, but can apply to the school that they like, which could be outside of the zone in which they live. For high school, students can choose schools elsewhere in the city from where they live. Therefore, there could be problems regarding mapping demographics to schools based solely on location.\n",
    "\n",
    "Another potential limitiation to this data is that there are multiple lanauges that could correspond to a specific ethnic group. For example, there are language programs in Chinese, Korean, and Japanese, but these individual races are not specified in the demography data; there is only Asian. This coulD also happen with lanauges such as French, Russian, Italian, and Polish. This could be possibly be addressed by grouping the certain languages together. This could end up making too many assumptions about the population, especially about who speaks what language. \n",
    "\n",
    "Furthermore, especially in regards to the regents score dataset, there are a lot of schools that are not included, most likely because the results were not collected for those schools, or possibly because the specific regents exams were not being offered at the school. Also, different schools have different amounts of students taking the tests. This could impact the sample size of our data both school-wise and regarding the populations within the schools"
   ]
  },
  {
   "cell_type": "markdown",
   "id": "7e1a0c0c-8a84-43b9-85b0-84845036c9ff",
   "metadata": {
    "tags": []
   },
   "source": [
    "## Data Cleaning\n",
    "Our goal for data cleaning was to merge two datasets together, one containing a list of all the schools in NYC that had bilingual programs, and another that contained demographic data for each school. To do this, we first cleaned each separately by fixing data types to match each other and keeping only the data for the year that we wanted. We got rid of the null values and then merged the two datasets."
   ]
  },
  {
   "cell_type": "code",
   "execution_count": 2,
   "id": "f109e6ad-6cd0-4096-9ff1-cbdda9c5b044",
   "metadata": {},
   "outputs": [],
   "source": [
    "## load libraries\n",
    "import numpy as np\n",
    "import pandas as pd\n",
    "import matplotlib.pyplot as plt\n",
    "\n",
    "import seaborn as sns\n",
    "from sklearn.cluster import KMeans"
   ]
  },
  {
   "cell_type": "code",
   "execution_count": 75,
   "id": "ab03903a-ff3d-4313-8499-727583d4a1e3",
   "metadata": {},
   "outputs": [
    {
     "data": {
      "text/html": [
       "<div>\n",
       "<style scoped>\n",
       "    .dataframe tbody tr th:only-of-type {\n",
       "        vertical-align: middle;\n",
       "    }\n",
       "\n",
       "    .dataframe tbody tr th {\n",
       "        vertical-align: top;\n",
       "    }\n",
       "\n",
       "    .dataframe thead th {\n",
       "        text-align: right;\n",
       "    }\n",
       "</style>\n",
       "<table border=\"1\" class=\"dataframe\">\n",
       "  <thead>\n",
       "    <tr style=\"text-align: right;\">\n",
       "      <th></th>\n",
       "      <th>Borough</th>\n",
       "      <th>Borough/Citywide Office (B/CO)</th>\n",
       "      <th>District</th>\n",
       "      <th>DBN</th>\n",
       "      <th>school_name</th>\n",
       "      <th>School Category</th>\n",
       "      <th>Program</th>\n",
       "      <th>Language</th>\n",
       "      <th>General/Special Education</th>\n",
       "    </tr>\n",
       "  </thead>\n",
       "  <tbody>\n",
       "    <tr>\n",
       "      <th>0</th>\n",
       "      <td>Manhattan</td>\n",
       "      <td>Manhattan</td>\n",
       "      <td>1</td>\n",
       "      <td>01M020</td>\n",
       "      <td>P.S. 020 Anna Silver</td>\n",
       "      <td>Elementary</td>\n",
       "      <td>Dual Language</td>\n",
       "      <td>Chinese</td>\n",
       "      <td>General Education</td>\n",
       "    </tr>\n",
       "    <tr>\n",
       "      <th>1</th>\n",
       "      <td>Manhattan</td>\n",
       "      <td>Manhattan</td>\n",
       "      <td>1</td>\n",
       "      <td>01M020</td>\n",
       "      <td>P.S. 020 Anna Silver</td>\n",
       "      <td>Elementary</td>\n",
       "      <td>Dual Language</td>\n",
       "      <td>Spanish</td>\n",
       "      <td>General Education</td>\n",
       "    </tr>\n",
       "    <tr>\n",
       "      <th>2</th>\n",
       "      <td>Manhattan</td>\n",
       "      <td>Manhattan</td>\n",
       "      <td>1</td>\n",
       "      <td>01M184</td>\n",
       "      <td>P.S. 184m Shuang Wen</td>\n",
       "      <td>K-8</td>\n",
       "      <td>Dual Language</td>\n",
       "      <td>Chinese</td>\n",
       "      <td>General Education</td>\n",
       "    </tr>\n",
       "    <tr>\n",
       "      <th>3</th>\n",
       "      <td>Manhattan</td>\n",
       "      <td>Manhattan</td>\n",
       "      <td>1</td>\n",
       "      <td>01M184</td>\n",
       "      <td>P.S. 184m Shuang Wen</td>\n",
       "      <td>K-8</td>\n",
       "      <td>Dual Language</td>\n",
       "      <td>Chinese</td>\n",
       "      <td>Special Education</td>\n",
       "    </tr>\n",
       "    <tr>\n",
       "      <th>4</th>\n",
       "      <td>Manhattan</td>\n",
       "      <td>Manhattan</td>\n",
       "      <td>1</td>\n",
       "      <td>01M188</td>\n",
       "      <td>P.S. 188 The Island School</td>\n",
       "      <td>K-8</td>\n",
       "      <td>Dual Language</td>\n",
       "      <td>Spanish</td>\n",
       "      <td>General Education</td>\n",
       "    </tr>\n",
       "  </tbody>\n",
       "</table>\n",
       "</div>"
      ],
      "text/plain": [
       "     Borough Borough/Citywide Office (B/CO)  District     DBN  \\\n",
       "0  Manhattan                      Manhattan         1  01M020   \n",
       "1  Manhattan                      Manhattan         1  01M020   \n",
       "2  Manhattan                      Manhattan         1  01M184   \n",
       "3  Manhattan                      Manhattan         1  01M184   \n",
       "4  Manhattan                      Manhattan         1  01M188   \n",
       "\n",
       "                  school_name School Category        Program Language  \\\n",
       "0        P.S. 020 Anna Silver      Elementary  Dual Language  Chinese   \n",
       "1        P.S. 020 Anna Silver      Elementary  Dual Language  Spanish   \n",
       "2        P.S. 184m Shuang Wen             K-8  Dual Language  Chinese   \n",
       "3        P.S. 184m Shuang Wen             K-8  Dual Language  Chinese   \n",
       "4  P.S. 188 The Island School             K-8  Dual Language  Spanish   \n",
       "\n",
       "  General/Special Education  \n",
       "0         General Education  \n",
       "1         General Education  \n",
       "2         General Education  \n",
       "3         Special Education  \n",
       "4         General Education  "
      ]
     },
     "execution_count": 75,
     "metadata": {},
     "output_type": "execute_result"
    }
   ],
   "source": [
    "bilingual_data = pd.read_csv(\"bilingual_rates.csv\")\n",
    "\n",
    "# FIXING/CLEANING COLUMNS\n",
    "bilingual_data.rename(columns={\"School Name\":\"school_name\", \"School\": \"DBN\"}, inplace=True)\n",
    "bilingual_data = bilingual_data.drop(columns = ['Language (Translated)', 'Special Education Model'])\n",
    "\n",
    "# FIXING DATA TYPES\n",
    "# change DBN + school name to string, district is already an int\n",
    "bilingual_str_columns = ['Borough', 'Borough/Citywide Office (B/CO)', 'DBN', 'school_name', 'School Category', 'Program', 'Language', 'General/Special Education']\n",
    "bilingual_data[bilingual_str_columns] = bilingual_data[bilingual_str_columns].astype(\"string\")\n",
    "\n",
    "# GETTING RID OF NULL'S\n",
    "notnull_array = bilingual_data.notnull()\n",
    "notnull_array.head()\n",
    "\n",
    "# include only rows that do not contain null values\n",
    "bilingual_data = bilingual_data[notnull_array]\n",
    "bilingual_data\n",
    "\n",
    "# DROP ACCESS AND TRANSITIONAL SCHOOLS (they are not traditional bilingual programs whose focus is teaching a second language)\n",
    "dropSchools = bilingual_data.loc[(bilingual_data['Borough/Citywide Office (B/CO)'] == \"ACCESS\") | (bilingual_data['Program'] != \"Dual Language\")]\n",
    "\n",
    "bilingual_data.drop(dropSchools.index, inplace=True)\n",
    "bilingual_data.head()"
   ]
  },
  {
   "cell_type": "code",
   "execution_count": 86,
   "id": "5383b026-7828-4d29-bbd0-5cf2b2eb9c4d",
   "metadata": {},
   "outputs": [],
   "source": [
    "# MERGE:\n",
    "bilingual_demographic_data = pd.merge(bilingual_data, demographic_data, on=\"DBN\")\n",
    "bilingual_demographic_data.head(3)\n",
    "bilingual_demographic_data['mostCommonEthnicGroup'] = percent_race_data.idxmax(axis=1)"
   ]
  },
  {
   "cell_type": "code",
   "execution_count": 87,
   "id": "cce90b38-24e8-4711-80fc-43e19a47fcf6",
   "metadata": {},
   "outputs": [],
   "source": [
    "bilingual_demographic_data.to_csv('bilingual_demographic-data.csv', index=False)"
   ]
  },
  {
   "cell_type": "markdown",
   "id": "4aca2f3e-240e-4cd9-9e00-d035e968477e",
   "metadata": {},
   "source": [
    "## Preregistration Statement\n",
    "\n",
    "1. Multinomial logistic regression - input: demographic vector where each element is the percentage of each race (ex: [0.5, 0.3, 0.2] represents the percentage of white, black, and Asians in the school population respectively), output: predicted bilingual language\n",
    "\n",
    "Hypothesis: We expect that this test will yield mild accuracy (60%) for predicting the major demographic of the school and the language offered at the school. We believe our model may somewhat accurately predict the correct corresponding language given the ethnic breakdown of a school. Looking at the results from our exploratory data analysis, we saw that the majority of the language programs were in Spanish. This makes sense because the second most common language in the USA as a whole is Spanish, so it would make sense that most schools would opt to teach Spanish as the second language regardless of ethnic breakdown, yet there are also schools where the major ethnic group is Hispanic. The results would be interesting because it would show whether or not the major demographic group in a school determines or has any influence on what language program is offered. It would also guide us forward in our analysis of other factors that could be the leading influence in determining the language for a language program.\n",
    "\n",
    "\n",
    "2. Multinomial logistic regression - input: economic need index, output: language\n",
    "\n",
    "Hypothesis: We believe our model will not accurately predict the correct corresponding language given the economic index of a school. This is because we do not believe that certain languages map to certain economic indices. For example, Spanish can be taught at schools that differ greatly in wealth (for example, since Spanish is the second most common language in the USA, schools of all wealth levels can opt to teach it as a second language. This could then mean there is no correlation between economic need index and bilingual language). The results of this would be interesting because it would show if there is a relationship between the language offered and economic need. It would be interesting to show what relationship there is if one exists, but it would also be just as interesting to note if there were no relationship at all. In the case that our model does accurately predict the language based on economic need index, this can hint that there is indeed a relationship/correlation between these two variables. This could make sense because wealthier schools may have greater access to resources for less common languages like Arabic.\n"
   ]
  },
  {
   "cell_type": "markdown",
   "id": "ebdc83cf-d2bb-4172-a3da-be16cf0faaaa",
   "metadata": {},
   "source": [
    "## Data Analysis, Evaluation of Significance, and Interpretation of Logistic Models"
   ]
  },
  {
   "cell_type": "code",
   "execution_count": 91,
   "id": "eb097515",
   "metadata": {},
   "outputs": [],
   "source": [
    "## load libraries\n",
    "import numpy as np\n",
    "import pandas as pd\n",
    "import matplotlib.pyplot as plt\n",
    "\n",
    "import seaborn as sns\n",
    "from sklearn.cluster import KMeans"
   ]
  },
  {
   "cell_type": "code",
   "execution_count": 92,
   "id": "42ccd0d0-7e65-41c2-80cc-f1f50ee9584c",
   "metadata": {},
   "outputs": [],
   "source": [
    "from sklearn.model_selection import train_test_split, cross_val_score\n",
    "from sklearn.linear_model import LogisticRegression\n",
    "from sklearn import metrics \n",
    "from sklearn.metrics import confusion_matrix, classification_report, ConfusionMatrixDisplay, accuracy_score"
   ]
  },
  {
   "cell_type": "code",
   "execution_count": 127,
   "id": "b0715017-ab5c-4d59-b75e-181cb438531f",
   "metadata": {},
   "outputs": [],
   "source": [
    "bilingual_demographic_data = pd.read_csv('bilingual_demographic-data.csv')"
   ]
  },
  {
   "cell_type": "markdown",
   "id": "e7db00df-713f-4cc5-8ef2-55243c656ea4",
   "metadata": {
    "tags": []
   },
   "source": [
    "#### Predicting language program from demographic data through multinomial logistic regression"
   ]
  },
  {
   "cell_type": "code",
   "execution_count": 128,
   "id": "bd8a398a-3be4-4ab9-9f33-da995c234370",
   "metadata": {},
   "outputs": [
    {
     "data": {
      "text/plain": [
       "Spanish           196\n",
       "Chinese            26\n",
       "French             12\n",
       "Russian             4\n",
       "Italian             3\n",
       "Polish              2\n",
       "Haitian Creole      1\n",
       "Japanese            1\n",
       "Korean              1\n",
       "Arabic              1\n",
       "Name: Language, dtype: int64"
      ]
     },
     "execution_count": 128,
     "metadata": {},
     "output_type": "execute_result"
    }
   ],
   "source": [
    "bilingual_demographic_data[\"Language\"].value_counts()"
   ]
  },
  {
   "cell_type": "markdown",
   "id": "57633f5e-ce55-4a23-8006-aa16b75dcae1",
   "metadata": {},
   "source": [
    "Looking at our data, although there were many languages being offered, it was clear that it was necessary to drop certain language programs because there was not enough data to support using them. Languages such as Arabic, Korean, Haitian Creole, and Japanese only had one school offering them as the bilingual language. Therefore, we limited our analyses to the top three most common languages in the bilingual programs - Spanish, Chinese, and French. \n",
    "\n",
    "To start, we decided to train a model using data sampled from eight schools for each language we were looking at (i.e. eight Spanish, eight Chinese, eight French). We did this to see if it would be more accurate that randomly taking a sample from the whole dataset because the most popular language, Spanish, had many more schools offering it than the second and third most common language. Therefore, we randomly took a smaller sample from each language to ensure that Spanish schools would not dominate the model. We used the language and the racial composition for the corresponding school as our training data. "
   ]
  },
  {
   "cell_type": "code",
   "execution_count": 147,
   "id": "2cda5a31-4f70-4df9-8521-c78d70248d4f",
   "metadata": {},
   "outputs": [],
   "source": [
    "# take samples from 8 schools for each language for X_train and y_train\n",
    "\n",
    "spanish_sample = bilingual_demographic_data.loc[bilingual_demographic_data['Language'] == 'Spanish'].sample(n=8, random_state = 1)\n",
    "chinese_sample = bilingual_demographic_data.loc[bilingual_demographic_data['Language'] == 'Chinese'].sample(n=8, random_state = 1)\n",
    "french_sample = bilingual_demographic_data.loc[bilingual_demographic_data['Language'] == 'French'].sample(n=8, random_state = 1)\n",
    "\n",
    "sample_training = spanish_sample.append(chinese_sample).append(french_sample)\n",
    "sample_race_training = sample_training[['% Asian', '% Black', '% Hispanic', '% Multiple Race Categories Not Represented', '% White']]\n",
    "\n",
    "X_train = sample_race_training\n",
    "y_train = sample_training['Language']"
   ]
  },
  {
   "cell_type": "markdown",
   "id": "c864c436-0ac1-46d0-acff-113fe804d037",
   "metadata": {},
   "source": [
    "In order to get our testing data, we took samples different than those used for the training data."
   ]
  },
  {
   "cell_type": "code",
   "execution_count": 148,
   "id": "c290a3e3-84aa-438d-9a40-0fb42877e047",
   "metadata": {},
   "outputs": [],
   "source": [
    "# take different samples for the X_test and y_test\n",
    "\n",
    "# drop the schools used for the training data\n",
    "training_idx = sample_training.index\n",
    "\n",
    "# draw samples for testing data\n",
    "sample_testing = bilingual_demographic_data.drop(training_idx)\n",
    "sample_testing = sample_testing.sample(frac = .75)\n",
    "sample_race_testing = sample_testing[['% Asian', '% Black', '% Hispanic', '% Multiple Race Categories Not Represented', '% White']]\n",
    "\n",
    "X_test = sample_race_testing\n",
    "y_test = sample_testing['Language']"
   ]
  },
  {
   "cell_type": "markdown",
   "id": "4b567c61-f625-4bba-aedb-1a04f324d173",
   "metadata": {},
   "source": [
    "We then built our model using our training data, and scored it using our testing data to evaluate the significance of our results."
   ]
  },
  {
   "cell_type": "code",
   "execution_count": 149,
   "id": "209b5844-77d5-47c6-868f-b1b51b917e8f",
   "metadata": {},
   "outputs": [
    {
     "name": "stdout",
     "output_type": "stream",
     "text": [
      "Accuracy of the model: 0.8227848101265823\n",
      "Baseline accuracy: .333\n"
     ]
    }
   ],
   "source": [
    "# fit on train data, score on test data\n",
    "language_model = LogisticRegression(multi_class = 'multinomial', solver = 'newton-cg').fit(X_train, y_train)\n",
    "\n",
    "print(\"Accuracy of the model:\", language_model.score(X_test, y_test))\n",
    "print(\"Baseline accuracy: .333\")"
   ]
  },
  {
   "cell_type": "markdown",
   "id": "5089e2cc-26cd-48ba-83fd-53a17e94da7d",
   "metadata": {},
   "source": [
    "**Results**\n",
    "\n",
    "The model score returned a value of .733. Because we sampled an equal amount of schools for the model, the model only had three choices to choose from. This means that the baseline accuracy would be .333, so our model accuracy is much higher than the baseline accuracy."
   ]
  },
  {
   "cell_type": "markdown",
   "id": "bb17503f-2599-4db7-bcaa-1ef01324f006",
   "metadata": {},
   "source": [
    "**Train Test Split**\n",
    "\n",
    "As an alternative to the model in which we selected eight schools from each language, we decided to use a train test split, where we let set the test size equal to 30% of the data and used the rest of the data for training."
   ]
  },
  {
   "cell_type": "code",
   "execution_count": 154,
   "id": "a9c0a64a-5946-4b39-92ff-9ed7d98b93a9",
   "metadata": {},
   "outputs": [],
   "source": [
    "bilingual_demographic_data = bilingual_demographic_data.loc[(bilingual_demographic_data[\"Language\"] == \"Spanish\") | \n",
    "                                                            (bilingual_demographic_data[\"Language\"] == \"Chinese\") | \n",
    "                                                            (bilingual_demographic_data[\"Language\"] == \"French\")]"
   ]
  },
  {
   "cell_type": "code",
   "execution_count": 155,
   "id": "fee55e4c-3c8e-4a60-950e-46e09c6dd677",
   "metadata": {},
   "outputs": [
    {
     "name": "stdout",
     "output_type": "stream",
     "text": [
      "Length of train and test sets: 163 71\n",
      "Accuracy of the model: 0.9154929577464789\n"
     ]
    }
   ],
   "source": [
    "# train-test split (70%/30%)\n",
    "X_train_1, X_test_1, y_train_1, y_test_1 = train_test_split(bilingual_demographic_data[['% Asian', '% Black', '% Hispanic', \n",
    "                                                                                '% Multiple Race Categories Not Represented', '% White']], \n",
    "                                                    bilingual_demographic_data['Language'], test_size= 0.3)\n",
    "print(\"Length of train and test sets:\", len(y_train_1), len(y_test_1))\n",
    "language_model_2 = LogisticRegression(multi_class = 'multinomial', solver = 'newton-cg').fit(X_train_1, y_train_1)\n",
    "print(\"Accuracy of the model:\", language_model_2.score(X_test_1, y_test_1))"
   ]
  },
  {
   "cell_type": "code",
   "execution_count": 156,
   "id": "4efaf6e9-9e2b-4436-b838-12466d52bf4d",
   "metadata": {},
   "outputs": [
    {
     "name": "stdout",
     "output_type": "stream",
     "text": [
      "Baseline accuracy: 0.838\n"
     ]
    }
   ],
   "source": [
    "num_spanish = len(bilingual_demographic_data[bilingual_demographic_data[\"Language\"]==\"Spanish\"])\n",
    "print('Baseline accuracy:', round(num_spanish/len(bilingual_demographic_data),3))"
   ]
  },
  {
   "cell_type": "markdown",
   "id": "3f884510-7c50-46d3-a971-80eb741d7115",
   "metadata": {},
   "source": [
    "**Results**\n",
    "\n",
    "The accuracy of the train test split model was .887. To find the baseline accuracy, we calculated the accuracy if Spanish was predicted everytime, as that is the most popular language. The baseline accuracy was .838, so our model was more accurate than just predicting Spanish everytime. Because the train test split method produced a more accurate model, so we decided to use this method going forward with our second logistic model."
   ]
  },
  {
   "cell_type": "code",
   "execution_count": 159,
   "id": "e1e57d70-7ade-4a9d-be21-b287a60fae40",
   "metadata": {},
   "outputs": [
    {
     "name": "stdout",
     "output_type": "stream",
     "text": [
      "Confusion matrix\n"
     ]
    },
    {
     "data": {
      "text/plain": [
       "array([[ 18,   0,   8],\n",
       "       [  0,   1,  11],\n",
       "       [  5,   0, 191]])"
      ]
     },
     "metadata": {},
     "output_type": "display_data"
    },
    {
     "data": {
      "image/png": "[encoded data removed]",
      "text/plain": [
       "<Figure size 432x288 with 2 Axes>"
      ]
     },
     "metadata": {
      "needs_background": "light"
     },
     "output_type": "display_data"
    }
   ],
   "source": [
    "# confusion matrix\n",
    "\n",
    "# true labels and predicted labels\n",
    "y_true = bilingual_demographic_data['Language']\n",
    "y_pred = language_model_2.predict(bilingual_demographic_data[['% Asian', '% Black', '% Hispanic', \n",
    "                                                                                '% Multiple Race Categories Not Represented', '% White']].values)\n",
    "\n",
    "# confusion matrix\n",
    "print(\"Confusion matrix\")\n",
    "display(confusion_matrix(y_true, y_pred))\n",
    "\n",
    "\n",
    "disp = ConfusionMatrixDisplay(confusion_matrix(y_true, y_pred), display_labels=language_model.classes_)\n",
    "disp.plot()\n",
    "plt.show()"
   ]
  },
  {
   "cell_type": "markdown",
   "id": "ef729715-bfac-458f-987c-e831b0c399cf",
   "metadata": {},
   "source": [
    "To visually represent this data, we made a confusion matrix. The confusion matrix shows that all the schools that the model predicted were French were in fact French, however, it only predicted one school as French. This makes sense as French was the least popular language, so it follows that the model would not predict a lot of French schools. For Chinese, it predicted 18 of the schools correctly, but predicted 5 schools as offering Chinese that actually offer Spanish. Regarding the Spanish schools, the model predicted most of the schools correctly, but given that there was a much larger sample size for the Spanish schools, this makes sense. "
   ]
  },
  {
   "cell_type": "code",
   "execution_count": 163,
   "id": "3483dfcc-7de9-4c41-9232-f95e38ee4e7f",
   "metadata": {},
   "outputs": [
    {
     "name": "stdout",
     "output_type": "stream",
     "text": [
      "              precision    recall  f1-score   support\n",
      "\n",
      "     Chinese       0.78      0.69      0.73        26\n",
      "      French       1.00      0.08      0.15        12\n",
      "     Spanish       0.91      0.97      0.94       196\n",
      "\n",
      "    accuracy                           0.90       234\n",
      "   macro avg       0.90      0.58      0.61       234\n",
      "weighted avg       0.90      0.90      0.88       234\n",
      "\n"
     ]
    }
   ],
   "source": [
    "# classification report\n",
    "print(classification_report(y_true,y_pred))"
   ]
  },
  {
   "cell_type": "markdown",
   "id": "2359cf5d-f71d-43d2-be28-81476222dc02",
   "metadata": {},
   "source": [
    "To more quantitatively score our model, we looked at the classification report. Based on the f-1 score, the classifier works best for Spanish, as can also be seen through the confusion matrix. The recall for French was quite low, meaning the amount of correctly predicted positive observations compared to the all of the observations in the acutal class was very low, but the precision was 1 because the one it predicted as French was correct. Spanish on the other hand, had high precision and recall, giving it a high f-1 score. \n",
    "\n",
    "These results are fairly consistent with our hypothesis. We believed that the model would yield about 60% accuracy, so it was actually more accurate than we believed it would be. The model was consistent with our belief that there would be over prediction of Spanish language programs, but we did not think that it would underpredict French so severely, even though there were much fewer schools."
   ]
  },
  {
   "cell_type": "code",
   "execution_count": 165,
   "id": "b8b4d898-f77e-45b5-8c85-e5337d17ebbd",
   "metadata": {},
   "outputs": [
    {
     "name": "stdout",
     "output_type": "stream",
     "text": [
      "Chinese\n",
      "% Asian coefficient: 2.2944152591121307\n",
      "% Black coefficient: -0.6174350641163426\n",
      "% Hispanic coefficient: -1.2609959587035748\n",
      "% Multiple Race Categories Not Represented coefficient: -0.07724145028198151\n",
      "% White coefficient: -0.33896871106343396\n",
      "French\n",
      "% Asian coefficient: -1.027789654211446\n",
      "% Black coefficient: 0.37139433955537693\n",
      "% Hispanic coefficient: -0.8558601475967639\n",
      "% Multiple Race Categories Not Represented coefficient: 0.16693653382753684\n",
      "% White coefficient: 1.3460379979405792\n",
      "Spanish\n",
      "% Asian coefficient: -1.2666256049006854\n",
      "% Black coefficient: 0.24604072456096507\n",
      "% Hispanic coefficient: 2.116856106300338\n",
      "% Multiple Race Categories Not Represented coefficient: -0.0896950835455553\n",
      "% White coefficient: -1.0070692868771447\n"
     ]
    }
   ],
   "source": [
    "print(language_model_2.classes_[0])\n",
    "for i in range(X_train_1.shape[1]):\n",
    "    print(X_train_1.columns[i],\"coefficient:\", language_model_2.coef_[0][i])\n",
    "\n",
    "print(language_model_2.classes_[1])\n",
    "for i in range(X_train_1.shape[1]):\n",
    "    print(X_train_1.columns[i],\"coefficient:\", language_model_2.coef_[1][i])\n",
    "\n",
    "print(language_model_2.classes_[2])\n",
    "for i in range(X_train_1.shape[1]):\n",
    "    print(X_train_1.columns[i],\"coefficient:\", language_model_2.coef_[2][i])"
   ]
  },
  {
   "cell_type": "markdown",
   "id": "dccc6a63-f122-4425-b804-a67a6dec91db",
   "metadata": {},
   "source": [
    "In order to evaluate the weight of each input on the model, we used the coefficients for each language to determine which ethnicity had the biggest weight on the language choice. For the schools that the model predicted were Chinese, the ethnicity that had the biggest weight in the decision was Asian, and the second was Hispanic. For French schools, the leading coefficient was White, and the second was Asian. For Spanish, the leading was Hispanic, and the second was Asian. The leading coefficients are interesting because this could mean that the language offered in a school is weighted greatly on the ethnic population of the school. Because most people who speak Chinese are Asian, most people who speak French are white, and most people who speak Spanish are Hispanic, it seems to correlate with the fact that these are the highest weighted coefficients. Still, it can not be said that everyone who speaks these certain languages fall into these certain ethnic groups as that would overgeneralize the student populations. This is followed by the fact that the second highest coefficient is quite close for French, where white has a coefficient of 1.35 and Asian has a coefficient of 1.02.\n",
    "\n",
    "These results are somewhat different than our original hypothesis. This is because our original hypothesis rested on the assumption the language predicted would be based on the major demographic of the school. However, after working with our model, we realized that the language model does not know what the major ethnic group is; it can only predict based upon the training data that we inputted, and there were schools within the data that for example, had Hispanic as the major ethnic group, but had French as the language program. \n",
    "\n",
    "Limitations to this analysis include the fact that we only had eight schools from each category to train on. This is clearly a very limited sample size, but because there are so many less schools that offer French and Chinese, there does not exist more data that we could gather. "
   ]
  },
  {
   "cell_type": "markdown",
   "id": "3f3714c6-54e3-4b0c-b706-fe5fae06fda8",
   "metadata": {},
   "source": [
    "#### Predicting language program from economic data through multinomial logistic regression"
   ]
  },
  {
   "cell_type": "markdown",
   "id": "4876aab5-f82d-44e6-8f2c-3722de249f9e",
   "metadata": {},
   "source": [
    "Our second analysis involves using a multinomial logistics regression model to try and predict the bilingual language program given the ethnic breakdown of the school. "
   ]
  },
  {
   "cell_type": "markdown",
   "id": "fcff1c19-4092-4233-b91c-0d1998d5c852",
   "metadata": {},
   "source": [
    "### Is there a significant difference in the background and academic performance of schools with a certain language program? \n",
    "\n",
    "After evaluating our models that aimed to predict how a language program was chosen, we were curious how the language chosen in a school related to other factors in the school, such as  \n",
    "\n",
    "These analyses aim to answer our research question, and we have found that….\n",
    "\n",
    "Still, in order to more fully understand the contextual factors at hand, we decided to look more in depth at the schools that offered each language program and compare the trends within each school to each other. This way, we could not only see what factors contributed to which language was being chosen, but also what the ramifications were for choosing a specific language. To do this, we broke down the ____ and ___ … \n"
   ]
  },
  {
   "cell_type": "markdown",
   "id": "df6787b3-e216-4434-9da1-5ed857b9c74d",
   "metadata": {},
   "source": [
    "### Conclusion"
   ]
  },
  {
   "cell_type": "code",
   "execution_count": null,
   "id": "70502b84-a6fe-4347-ac5a-b1f67a5b67c3",
   "metadata": {},
   "outputs": [],
   "source": []
  }
 ],
 "metadata": {
  "kernelspec": {
   "display_name": "Python 3",
   "language": "python",
   "name": "python3"
  },
  "language_info": {
   "codemirror_mode": {
    "name": "ipython",
    "version": 3
   },
   "file_extension": ".py",
   "mimetype": "text/x-python",
   "name": "python",
   "nbconvert_exporter": "python",
   "pygments_lexer": "ipython3",
   "version": "3.8.8"
  }
 },
 "nbformat": 4,
 "nbformat_minor": 5
}
