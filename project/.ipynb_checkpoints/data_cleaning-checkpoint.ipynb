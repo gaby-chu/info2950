{
 "cells": [
  {
   "cell_type": "markdown",
   "metadata": {},
   "source": [
    "# Data Cleaning "
   ]
  },
  {
   "cell_type": "code",
   "execution_count": 4,
   "metadata": {},
   "outputs": [],
   "source": [
    "## load libraries\n",
    "import numpy as np\n",
    "import pandas as pd\n",
    "import matplotlib.pyplot as plt\n",
    "\n",
    "import seaborn as sns\n",
    "from sklearn.cluster import KMeans"
   ]
  },
  {
   "cell_type": "code",
   "execution_count": 2,
   "metadata": {},
   "outputs": [
    {
     "data": {
      "text/html": [
       "<div>\n",
       "<style scoped>\n",
       "    .dataframe tbody tr th:only-of-type {\n",
       "        vertical-align: middle;\n",
       "    }\n",
       "\n",
       "    .dataframe tbody tr th {\n",
       "        vertical-align: top;\n",
       "    }\n",
       "\n",
       "    .dataframe thead th {\n",
       "        text-align: right;\n",
       "    }\n",
       "</style>\n",
       "<table border=\"1\" class=\"dataframe\">\n",
       "  <thead>\n",
       "    <tr style=\"text-align: right;\">\n",
       "      <th></th>\n",
       "      <th>Borough</th>\n",
       "      <th>Borough/Citywide Office (B/CO)</th>\n",
       "      <th>District</th>\n",
       "      <th>School</th>\n",
       "      <th>school_name</th>\n",
       "      <th>School Category</th>\n",
       "      <th>Program</th>\n",
       "      <th>Language</th>\n",
       "      <th>Language (Translated)</th>\n",
       "      <th>General/Special Education</th>\n",
       "      <th>...</th>\n",
       "      <th>Regents w/o Advanced #</th>\n",
       "      <th>Regents w/o Advanced % of cohort</th>\n",
       "      <th>Regents w/o Advanced % of grads</th>\n",
       "      <th>Local #</th>\n",
       "      <th>Local % of cohort</th>\n",
       "      <th>Local % of grads</th>\n",
       "      <th>Still Enrolled #</th>\n",
       "      <th>Still Enrolled % of cohort</th>\n",
       "      <th>Dropped Out #</th>\n",
       "      <th>Dropped Out % of cohort</th>\n",
       "    </tr>\n",
       "  </thead>\n",
       "  <tbody>\n",
       "  </tbody>\n",
       "</table>\n",
       "<p>0 rows × 35 columns</p>\n",
       "</div>"
      ],
      "text/plain": [
       "Empty DataFrame\n",
       "Columns: [Borough, Borough/Citywide Office (B/CO), District, School, school_name, School Category, Program, Language, Language (Translated), General/Special Education, Special Education Model, School Name, Demographic Category, Demographic Variable, Cohort Year, Cohort, Total Cohort #, Total Grads #, Total Grads % of cohort, Total Regents #, Total Regents % of cohort, Total Regents % of grads, Advanced Regents #, Advanced Regents % of cohort, Advanced Regents % of grads, Regents w/o Advanced #, Regents w/o Advanced % of cohort, Regents w/o Advanced % of grads, Local #, Local % of cohort, Local % of grads, Still Enrolled #, Still Enrolled % of cohort, Dropped Out #, Dropped Out % of cohort]\n",
       "Index: []\n",
       "\n",
       "[0 rows x 35 columns]"
      ]
     },
     "execution_count": 2,
     "metadata": {},
     "output_type": "execute_result"
    }
   ],
   "source": [
    "graduation_data = pd.read_csv(\"graduation_rates.csv\")\n",
    "bilingual_data = pd.read_csv(\"bilingual_rates.csv\")\n",
    "graduation_data = graduation_data.rename(columns={\"DBN\":\"school_name\"})\n",
    "bilingual_data = bilingual_data.rename(columns={\"School Name\":\"school_name\"})\n",
    "schools = pd.merge(bilingual_data, graduation_data, on=\"school_name\")\n",
    "schools.head()\n",
    "\n",
    "# no schools match "
   ]
  },
  {
   "cell_type": "code",
   "execution_count": 22,
   "metadata": {},
   "outputs": [
    {
     "name": "stdout",
     "output_type": "stream",
     "text": [
      "DBN                                            object\n",
      "School Name                                    object\n",
      "Year                                           object\n",
      "Total Enrollment                                int64\n",
      "Grade 3K+PK (Half Day & Full Day)               int64\n",
      "Grade K                                         int64\n",
      "Grade 1                                         int64\n",
      "Grade 2                                         int64\n",
      "Grade 3                                         int64\n",
      "Grade 4                                         int64\n",
      "Grade 5                                         int64\n",
      "Grade 6                                         int64\n",
      "Grade 7                                         int64\n",
      "Grade 8                                         int64\n",
      "Grade 9                                         int64\n",
      "Grade 10                                        int64\n",
      "Grade 11                                        int64\n",
      "Grade 12                                        int64\n",
      "# Female                                        int64\n",
      "% Female                                      float64\n",
      "# Male                                          int64\n",
      "% Male                                        float64\n",
      "# Asian                                         int64\n",
      "% Asian                                       float64\n",
      "# Black                                         int64\n",
      "% Black                                       float64\n",
      "# Hispanic                                      int64\n",
      "% Hispanic                                    float64\n",
      "# Multiple Race Categories Not Represented      int64\n",
      "% Multiple Race Categories Not Represented    float64\n",
      "# White                                         int64\n",
      "% White                                       float64\n",
      "# Students with Disabilities                    int64\n",
      "% Students with Disabilities                  float64\n",
      "# English Language Learners                     int64\n",
      "% English Language Learners                   float64\n",
      "# Poverty                                      object\n",
      "% Poverty                                      object\n",
      "Economic Need Index                            object\n",
      "dtype: object\n",
      "9096\n",
      "9096\n"
     ]
    }
   ],
   "source": [
    "demographic_data = pd.read_csv(\"demographic_schools.csv\")\n",
    "# print(demographic_data.head())\n",
    "\n",
    "# print(demographic_data.columns)\n",
    "print(demographic_data.dtypes) # year should be num, DBN + school name should be string!?\n",
    "# demographic_data.describe()\n",
    "\n",
    "print(len(demographic_data))\n",
    "print(demographic_data[demographic_data.notnull()])\n",
    "print(len(demographic_data[demographic_data.notnull()]))\n",
    "\n",
    "# schools = pd.merge(bilingual_data, demographic_data, on=\"DBN\")\n",
    "\n",
    "x=pd.notnull(data['col'])\n",
    "data[x]\n"
   ]
  },
  {
   "cell_type": "code",
   "execution_count": null,
   "metadata": {},
   "outputs": [],
   "source": []
  }
 ],
 "metadata": {
  "kernelspec": {
   "display_name": "Python 3",
   "language": "python",
   "name": "python3"
  },
  "language_info": {
   "codemirror_mode": {
    "name": "ipython",
    "version": 3
   },
   "file_extension": ".py",
   "mimetype": "text/x-python",
   "name": "python",
   "nbconvert_exporter": "python",
   "pygments_lexer": "ipython3",
   "version": "3.8.3"
  }
 },
 "nbformat": 4,
 "nbformat_minor": 5
}
