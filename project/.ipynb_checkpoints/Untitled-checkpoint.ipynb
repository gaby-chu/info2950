{
 "cells": [
  {
   "cell_type": "markdown",
   "id": "4fcafa1a-7673-4085-ba52-0d336a382984",
   "metadata": {},
   "source": [
    "# Data Cleaning "
   ]
  },
  {
   "cell_type": "code",
   "execution_count": 1,
   "id": "e1627921-c469-4f61-a882-58a3d08afee4",
   "metadata": {},
   "outputs": [],
   "source": [
    "## load libraries\n",
    "\n",
    "import numpy as np\n",
    "import pandas as pd\n",
    "import matplotlib.pyplot as plt\n",
    "\n",
    "import seaborn as sns\n",
    "from sklearn.cluster import KMeans"
   ]
  },
  {
   "cell_type": "code",
   "execution_count": 7,
   "id": "c27d879a-0bd8-4cec-a9f6-6afe6cc84f5f",
   "metadata": {},
   "outputs": [
    {
     "ename": "SyntaxError",
     "evalue": "invalid syntax (<ipython-input-7-ded3b83e1818>, line 4)",
     "output_type": "error",
     "traceback": [
      "\u001b[0;36m  File \u001b[0;32m\"<ipython-input-7-ded3b83e1818>\"\u001b[0;36m, line \u001b[0;32m4\u001b[0m\n\u001b[0;31m    bilingual_data =\u001b[0m\n\u001b[0m                     ^\u001b[0m\n\u001b[0;31mSyntaxError\u001b[0m\u001b[0;31m:\u001b[0m invalid syntax\n"
     ]
    }
   ],
   "source": [
    "graduation_data = pd.read_csv(\"graduation_rates.csv\")\n",
    "bilingual_data = pd.read_csv(\"bilingual_rates.csv\")\n",
    "graduation_data = graduation_data.rename(columns={\"DBN\":\"school_name\"})\n",
    "bilingual_data = bilingual_data.rename(columns={\"School Name\":\"school_name\"})\n"
   ]
  },
  {
   "cell_type": "code",
   "execution_count": null,
   "id": "5802a249-0345-43b1-a9c1-a84d46bb2e98",
   "metadata": {},
   "outputs": [],
   "source": []
  },
  {
   "cell_type": "code",
   "execution_count": null,
   "id": "87db80c2-b546-4f9e-9440-10cacda33fdb",
   "metadata": {},
   "outputs": [],
   "source": []
  }
 ],
 "metadata": {
  "kernelspec": {
   "display_name": "Python 3",
   "language": "python",
   "name": "python3"
  },
  "language_info": {
   "codemirror_mode": {
    "name": "ipython",
    "version": 3
   },
   "file_extension": ".py",
   "mimetype": "text/x-python",
   "name": "python",
   "nbconvert_exporter": "python",
   "pygments_lexer": "ipython3",
   "version": "3.8.8"
  }
 },
 "nbformat": 4,
 "nbformat_minor": 5
}
