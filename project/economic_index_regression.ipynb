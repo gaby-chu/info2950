{
 "cells": [
  {
   "cell_type": "markdown",
   "id": "59ed912a-751e-422c-962e-c97c3f77a611",
   "metadata": {},
   "source": [
    "# Predicting Language Program from Economic Index "
   ]
  },
  {
   "cell_type": "code",
   "execution_count": 58,
   "id": "fadaa498-4a15-499a-96ca-16d6b74d6e02",
   "metadata": {},
   "outputs": [],
   "source": [
    "import matplotlib.pyplot as plt\n",
    "import numpy as np\n",
    "import pandas as pd\n",
    "from   sklearn.linear_model import LogisticRegression\n",
    "from   sklearn.model_selection import cross_val_score"
   ]
  },
  {
   "cell_type": "code",
   "execution_count": 69,
   "id": "1824c2d1-4b5c-4614-a867-a00abe726e64",
   "metadata": {},
   "outputs": [],
   "source": [
    "bilingual_demographic_data= pd.read_csv(\"bilingual_demographic-data.csv\")\n",
    "bilingual_demographic_data = bilingual_demographic_data.loc[(bilingual_demographic_data[\"Language\"] == \"Spanish\") | (bilingual_demographic_data[\"Language\"] == \"Chinese\") | (bilingual_demographic_data[\"Language\"] == \"French\")]"
   ]
  },
  {
   "cell_type": "code",
   "execution_count": 70,
   "id": "a4855bc8-15ac-4abe-84a1-a4e4d9aa9389",
   "metadata": {},
   "outputs": [
    {
     "data": {
      "text/html": [
       "<div>\n",
       "<style scoped>\n",
       "    .dataframe tbody tr th:only-of-type {\n",
       "        vertical-align: middle;\n",
       "    }\n",
       "\n",
       "    .dataframe tbody tr th {\n",
       "        vertical-align: top;\n",
       "    }\n",
       "\n",
       "    .dataframe thead th {\n",
       "        text-align: right;\n",
       "    }\n",
       "</style>\n",
       "<table border=\"1\" class=\"dataframe\">\n",
       "  <thead>\n",
       "    <tr style=\"text-align: right;\">\n",
       "      <th></th>\n",
       "      <th>Borough</th>\n",
       "      <th>Borough/Citywide Office (B/CO)</th>\n",
       "      <th>District</th>\n",
       "      <th>DBN</th>\n",
       "      <th>school_name_x</th>\n",
       "      <th>School Category</th>\n",
       "      <th>Program</th>\n",
       "      <th>Language</th>\n",
       "      <th>General/Special Education</th>\n",
       "      <th>school_name_y</th>\n",
       "      <th>...</th>\n",
       "      <th>% Multiple Race Categories Not Represented</th>\n",
       "      <th># White</th>\n",
       "      <th>% White</th>\n",
       "      <th># Students with Disabilities</th>\n",
       "      <th>% Students with Disabilities</th>\n",
       "      <th># English Language Learners</th>\n",
       "      <th>% English Language Learners</th>\n",
       "      <th># Poverty</th>\n",
       "      <th>% Poverty</th>\n",
       "      <th>Economic Need Index</th>\n",
       "    </tr>\n",
       "  </thead>\n",
       "  <tbody>\n",
       "    <tr>\n",
       "      <th>0</th>\n",
       "      <td>Manhattan</td>\n",
       "      <td>Manhattan</td>\n",
       "      <td>1</td>\n",
       "      <td>01M020</td>\n",
       "      <td>P.S. 020 Anna Silver</td>\n",
       "      <td>Elementary</td>\n",
       "      <td>Dual Language</td>\n",
       "      <td>Chinese</td>\n",
       "      <td>General Education</td>\n",
       "      <td>P.S. 020 Anna Silver</td>\n",
       "      <td>...</td>\n",
       "      <td>0.034</td>\n",
       "      <td>31</td>\n",
       "      <td>0.067</td>\n",
       "      <td>102</td>\n",
       "      <td>0.220</td>\n",
       "      <td>61</td>\n",
       "      <td>0.131</td>\n",
       "      <td>352</td>\n",
       "      <td>75.9%</td>\n",
       "      <td>78.2</td>\n",
       "    </tr>\n",
       "    <tr>\n",
       "      <th>1</th>\n",
       "      <td>Manhattan</td>\n",
       "      <td>Manhattan</td>\n",
       "      <td>1</td>\n",
       "      <td>01M020</td>\n",
       "      <td>P.S. 020 Anna Silver</td>\n",
       "      <td>Elementary</td>\n",
       "      <td>Dual Language</td>\n",
       "      <td>Spanish</td>\n",
       "      <td>General Education</td>\n",
       "      <td>P.S. 020 Anna Silver</td>\n",
       "      <td>...</td>\n",
       "      <td>0.034</td>\n",
       "      <td>31</td>\n",
       "      <td>0.067</td>\n",
       "      <td>102</td>\n",
       "      <td>0.220</td>\n",
       "      <td>61</td>\n",
       "      <td>0.131</td>\n",
       "      <td>352</td>\n",
       "      <td>75.9%</td>\n",
       "      <td>78.2</td>\n",
       "    </tr>\n",
       "    <tr>\n",
       "      <th>2</th>\n",
       "      <td>Manhattan</td>\n",
       "      <td>Manhattan</td>\n",
       "      <td>1</td>\n",
       "      <td>01M184</td>\n",
       "      <td>P.S. 184m Shuang Wen</td>\n",
       "      <td>K-8</td>\n",
       "      <td>Dual Language</td>\n",
       "      <td>Chinese</td>\n",
       "      <td>General Education</td>\n",
       "      <td>P.S. 184m Shuang Wen</td>\n",
       "      <td>...</td>\n",
       "      <td>0.069</td>\n",
       "      <td>52</td>\n",
       "      <td>0.074</td>\n",
       "      <td>117</td>\n",
       "      <td>0.165</td>\n",
       "      <td>99</td>\n",
       "      <td>0.140</td>\n",
       "      <td>469</td>\n",
       "      <td>66.3%</td>\n",
       "      <td>67.2</td>\n",
       "    </tr>\n",
       "    <tr>\n",
       "      <th>3</th>\n",
       "      <td>Manhattan</td>\n",
       "      <td>Manhattan</td>\n",
       "      <td>1</td>\n",
       "      <td>01M184</td>\n",
       "      <td>P.S. 184m Shuang Wen</td>\n",
       "      <td>K-8</td>\n",
       "      <td>Dual Language</td>\n",
       "      <td>Chinese</td>\n",
       "      <td>Special Education</td>\n",
       "      <td>P.S. 184m Shuang Wen</td>\n",
       "      <td>...</td>\n",
       "      <td>0.069</td>\n",
       "      <td>52</td>\n",
       "      <td>0.074</td>\n",
       "      <td>117</td>\n",
       "      <td>0.165</td>\n",
       "      <td>99</td>\n",
       "      <td>0.140</td>\n",
       "      <td>469</td>\n",
       "      <td>66.3%</td>\n",
       "      <td>67.2</td>\n",
       "    </tr>\n",
       "    <tr>\n",
       "      <th>4</th>\n",
       "      <td>Manhattan</td>\n",
       "      <td>Manhattan</td>\n",
       "      <td>1</td>\n",
       "      <td>01M378</td>\n",
       "      <td>School for Global Leaders</td>\n",
       "      <td>Junior High-Intermediate-Middle</td>\n",
       "      <td>Dual Language</td>\n",
       "      <td>Chinese</td>\n",
       "      <td>General Education</td>\n",
       "      <td>School for Global Leaders</td>\n",
       "      <td>...</td>\n",
       "      <td>0.029</td>\n",
       "      <td>10</td>\n",
       "      <td>0.049</td>\n",
       "      <td>83</td>\n",
       "      <td>0.407</td>\n",
       "      <td>17</td>\n",
       "      <td>0.083</td>\n",
       "      <td>172</td>\n",
       "      <td>84.3%</td>\n",
       "      <td>84.7</td>\n",
       "    </tr>\n",
       "    <tr>\n",
       "      <th>...</th>\n",
       "      <td>...</td>\n",
       "      <td>...</td>\n",
       "      <td>...</td>\n",
       "      <td>...</td>\n",
       "      <td>...</td>\n",
       "      <td>...</td>\n",
       "      <td>...</td>\n",
       "      <td>...</td>\n",
       "      <td>...</td>\n",
       "      <td>...</td>\n",
       "      <td>...</td>\n",
       "      <td>...</td>\n",
       "      <td>...</td>\n",
       "      <td>...</td>\n",
       "      <td>...</td>\n",
       "      <td>...</td>\n",
       "      <td>...</td>\n",
       "      <td>...</td>\n",
       "      <td>...</td>\n",
       "      <td>...</td>\n",
       "      <td>...</td>\n",
       "    </tr>\n",
       "    <tr>\n",
       "      <th>242</th>\n",
       "      <td>Brooklyn</td>\n",
       "      <td>Brooklyn North</td>\n",
       "      <td>32</td>\n",
       "      <td>32K384</td>\n",
       "      <td>P.S. /I.S. 384 Frances E. Carter</td>\n",
       "      <td>K-8</td>\n",
       "      <td>Dual Language</td>\n",
       "      <td>Spanish</td>\n",
       "      <td>General Education</td>\n",
       "      <td>P.S. /I.S. 384 Frances E. Carter</td>\n",
       "      <td>...</td>\n",
       "      <td>0.002</td>\n",
       "      <td>5</td>\n",
       "      <td>0.011</td>\n",
       "      <td>118</td>\n",
       "      <td>0.265</td>\n",
       "      <td>93</td>\n",
       "      <td>0.209</td>\n",
       "      <td>382</td>\n",
       "      <td>85.8%</td>\n",
       "      <td>90.6</td>\n",
       "    </tr>\n",
       "    <tr>\n",
       "      <th>243</th>\n",
       "      <td>Brooklyn</td>\n",
       "      <td>Brooklyn North</td>\n",
       "      <td>32</td>\n",
       "      <td>32K384</td>\n",
       "      <td>P.S. /I.S. 384 Frances E. Carter</td>\n",
       "      <td>K-8</td>\n",
       "      <td>Dual Language</td>\n",
       "      <td>Spanish</td>\n",
       "      <td>Special Education</td>\n",
       "      <td>P.S. /I.S. 384 Frances E. Carter</td>\n",
       "      <td>...</td>\n",
       "      <td>0.002</td>\n",
       "      <td>5</td>\n",
       "      <td>0.011</td>\n",
       "      <td>118</td>\n",
       "      <td>0.265</td>\n",
       "      <td>93</td>\n",
       "      <td>0.209</td>\n",
       "      <td>382</td>\n",
       "      <td>85.8%</td>\n",
       "      <td>90.6</td>\n",
       "    </tr>\n",
       "    <tr>\n",
       "      <th>244</th>\n",
       "      <td>Brooklyn</td>\n",
       "      <td>Brooklyn North</td>\n",
       "      <td>32</td>\n",
       "      <td>32K556</td>\n",
       "      <td>Bushwick Leaders High School for Academic Exce...</td>\n",
       "      <td>High school</td>\n",
       "      <td>Dual Language</td>\n",
       "      <td>Spanish</td>\n",
       "      <td>Special Education</td>\n",
       "      <td>Bushwick Leaders High School for Academic Exce...</td>\n",
       "      <td>...</td>\n",
       "      <td>0.029</td>\n",
       "      <td>4</td>\n",
       "      <td>0.012</td>\n",
       "      <td>84</td>\n",
       "      <td>0.248</td>\n",
       "      <td>92</td>\n",
       "      <td>0.271</td>\n",
       "      <td>Above 95%</td>\n",
       "      <td>Above 95%</td>\n",
       "      <td>93.4</td>\n",
       "    </tr>\n",
       "    <tr>\n",
       "      <th>245</th>\n",
       "      <td>Brooklyn</td>\n",
       "      <td>Brooklyn North</td>\n",
       "      <td>32</td>\n",
       "      <td>32K562</td>\n",
       "      <td>Evergreen Middle School for Urban Exploration</td>\n",
       "      <td>Junior High-Intermediate-Middle</td>\n",
       "      <td>Dual Language</td>\n",
       "      <td>Spanish</td>\n",
       "      <td>General Education</td>\n",
       "      <td>Evergreen Middle School for Urban Exploration</td>\n",
       "      <td>...</td>\n",
       "      <td>0.000</td>\n",
       "      <td>11</td>\n",
       "      <td>0.029</td>\n",
       "      <td>89</td>\n",
       "      <td>0.234</td>\n",
       "      <td>66</td>\n",
       "      <td>0.174</td>\n",
       "      <td>351</td>\n",
       "      <td>92.4%</td>\n",
       "      <td>91.8</td>\n",
       "    </tr>\n",
       "    <tr>\n",
       "      <th>246</th>\n",
       "      <td>Brooklyn</td>\n",
       "      <td>District 75</td>\n",
       "      <td>75</td>\n",
       "      <td>75K373</td>\n",
       "      <td>P.S. 373 - Brooklyn Transition Center</td>\n",
       "      <td>High school</td>\n",
       "      <td>Dual Language</td>\n",
       "      <td>Spanish</td>\n",
       "      <td>Special Education</td>\n",
       "      <td>P.S. 373 - Brooklyn Transition Center</td>\n",
       "      <td>...</td>\n",
       "      <td>0.017</td>\n",
       "      <td>24</td>\n",
       "      <td>0.050</td>\n",
       "      <td>475</td>\n",
       "      <td>0.996</td>\n",
       "      <td>120</td>\n",
       "      <td>0.252</td>\n",
       "      <td>433</td>\n",
       "      <td>90.8%</td>\n",
       "      <td>93.5</td>\n",
       "    </tr>\n",
       "  </tbody>\n",
       "</table>\n",
       "<p>234 rows × 47 columns</p>\n",
       "</div>"
      ],
      "text/plain": [
       "       Borough Borough/Citywide Office (B/CO)  District     DBN  \\\n",
       "0    Manhattan                      Manhattan         1  01M020   \n",
       "1    Manhattan                      Manhattan         1  01M020   \n",
       "2    Manhattan                      Manhattan         1  01M184   \n",
       "3    Manhattan                      Manhattan         1  01M184   \n",
       "4    Manhattan                      Manhattan         1  01M378   \n",
       "..         ...                            ...       ...     ...   \n",
       "242   Brooklyn                 Brooklyn North        32  32K384   \n",
       "243   Brooklyn                 Brooklyn North        32  32K384   \n",
       "244   Brooklyn                 Brooklyn North        32  32K556   \n",
       "245   Brooklyn                 Brooklyn North        32  32K562   \n",
       "246   Brooklyn                    District 75        75  75K373   \n",
       "\n",
       "                                         school_name_x  \\\n",
       "0                                 P.S. 020 Anna Silver   \n",
       "1                                 P.S. 020 Anna Silver   \n",
       "2                                 P.S. 184m Shuang Wen   \n",
       "3                                 P.S. 184m Shuang Wen   \n",
       "4                            School for Global Leaders   \n",
       "..                                                 ...   \n",
       "242                   P.S. /I.S. 384 Frances E. Carter   \n",
       "243                   P.S. /I.S. 384 Frances E. Carter   \n",
       "244  Bushwick Leaders High School for Academic Exce...   \n",
       "245      Evergreen Middle School for Urban Exploration   \n",
       "246              P.S. 373 - Brooklyn Transition Center   \n",
       "\n",
       "                     School Category        Program Language  \\\n",
       "0                         Elementary  Dual Language  Chinese   \n",
       "1                         Elementary  Dual Language  Spanish   \n",
       "2                                K-8  Dual Language  Chinese   \n",
       "3                                K-8  Dual Language  Chinese   \n",
       "4    Junior High-Intermediate-Middle  Dual Language  Chinese   \n",
       "..                               ...            ...      ...   \n",
       "242                              K-8  Dual Language  Spanish   \n",
       "243                              K-8  Dual Language  Spanish   \n",
       "244                      High school  Dual Language  Spanish   \n",
       "245  Junior High-Intermediate-Middle  Dual Language  Spanish   \n",
       "246                      High school  Dual Language  Spanish   \n",
       "\n",
       "    General/Special Education  \\\n",
       "0           General Education   \n",
       "1           General Education   \n",
       "2           General Education   \n",
       "3           Special Education   \n",
       "4           General Education   \n",
       "..                        ...   \n",
       "242         General Education   \n",
       "243         Special Education   \n",
       "244         Special Education   \n",
       "245         General Education   \n",
       "246         Special Education   \n",
       "\n",
       "                                         school_name_y  ...  \\\n",
       "0                                 P.S. 020 Anna Silver  ...   \n",
       "1                                 P.S. 020 Anna Silver  ...   \n",
       "2                                 P.S. 184m Shuang Wen  ...   \n",
       "3                                 P.S. 184m Shuang Wen  ...   \n",
       "4                            School for Global Leaders  ...   \n",
       "..                                                 ...  ...   \n",
       "242                   P.S. /I.S. 384 Frances E. Carter  ...   \n",
       "243                   P.S. /I.S. 384 Frances E. Carter  ...   \n",
       "244  Bushwick Leaders High School for Academic Exce...  ...   \n",
       "245      Evergreen Middle School for Urban Exploration  ...   \n",
       "246              P.S. 373 - Brooklyn Transition Center  ...   \n",
       "\n",
       "    % Multiple Race Categories Not Represented  # White  % White  \\\n",
       "0                                        0.034       31    0.067   \n",
       "1                                        0.034       31    0.067   \n",
       "2                                        0.069       52    0.074   \n",
       "3                                        0.069       52    0.074   \n",
       "4                                        0.029       10    0.049   \n",
       "..                                         ...      ...      ...   \n",
       "242                                      0.002        5    0.011   \n",
       "243                                      0.002        5    0.011   \n",
       "244                                      0.029        4    0.012   \n",
       "245                                      0.000       11    0.029   \n",
       "246                                      0.017       24    0.050   \n",
       "\n",
       "     # Students with Disabilities  % Students with Disabilities  \\\n",
       "0                             102                         0.220   \n",
       "1                             102                         0.220   \n",
       "2                             117                         0.165   \n",
       "3                             117                         0.165   \n",
       "4                              83                         0.407   \n",
       "..                            ...                           ...   \n",
       "242                           118                         0.265   \n",
       "243                           118                         0.265   \n",
       "244                            84                         0.248   \n",
       "245                            89                         0.234   \n",
       "246                           475                         0.996   \n",
       "\n",
       "     # English Language Learners  % English Language Learners  # Poverty  \\\n",
       "0                             61                        0.131        352   \n",
       "1                             61                        0.131        352   \n",
       "2                             99                        0.140        469   \n",
       "3                             99                        0.140        469   \n",
       "4                             17                        0.083        172   \n",
       "..                           ...                          ...        ...   \n",
       "242                           93                        0.209        382   \n",
       "243                           93                        0.209        382   \n",
       "244                           92                        0.271  Above 95%   \n",
       "245                           66                        0.174        351   \n",
       "246                          120                        0.252        433   \n",
       "\n",
       "     % Poverty  Economic Need Index  \n",
       "0        75.9%                 78.2  \n",
       "1        75.9%                 78.2  \n",
       "2        66.3%                 67.2  \n",
       "3        66.3%                 67.2  \n",
       "4        84.3%                 84.7  \n",
       "..         ...                  ...  \n",
       "242      85.8%                 90.6  \n",
       "243      85.8%                 90.6  \n",
       "244  Above 95%                 93.4  \n",
       "245      92.4%                 91.8  \n",
       "246      90.8%                 93.5  \n",
       "\n",
       "[234 rows x 47 columns]"
      ]
     },
     "metadata": {},
     "output_type": "display_data"
    }
   ],
   "source": [
    "display(bilingual_demographic_data)"
   ]
  },
  {
   "cell_type": "markdown",
   "id": "08e78ae4-5354-4d85-b959-0661115a486f",
   "metadata": {},
   "source": [
    "We trained and tested over the same data. A problem with this the model might overfit and if encountered with different economic indexes, the model wouldn't provide the same results. As a result, we created a training and a testing set. "
   ]
  },
  {
   "cell_type": "code",
   "execution_count": 73,
   "id": "c2485651-b9cf-46ce-83a2-f8bc63826678",
   "metadata": {},
   "outputs": [
    {
     "name": "stdout",
     "output_type": "stream",
     "text": [
      "Length of train and test sets: 163 71\n"
     ]
    }
   ],
   "source": [
    "from sklearn.model_selection import train_test_split, cross_val_score\n",
    "\n",
    "# train-test split (70%/30%)\n",
    "X_train, X_test, y_train, y_test = train_test_split(bilingual_demographic_data[[\"Economic Need Index\"]], bilingual_demographic_data['Language'], test_size= 0.3)\n",
    "print(\"Length of train and test sets:\", len(y_train), len(y_test))"
   ]
  },
  {
   "cell_type": "markdown",
   "id": "55599faa-894d-4bb9-97b3-da45980eff56",
   "metadata": {},
   "source": [
    "We have a training set of 163 and a testing set of 71. "
   ]
  },
  {
   "cell_type": "code",
   "execution_count": 74,
   "id": "3bd4fe7e-d263-4505-92f5-382f838c7199",
   "metadata": {},
   "outputs": [
    {
     "data": {
      "text/plain": [
       "0.8309859154929577"
      ]
     },
     "execution_count": 74,
     "metadata": {},
     "output_type": "execute_result"
    }
   ],
   "source": [
    "economic_model = LogisticRegression(multi_class = 'multinomial', solver = 'newton-cg').fit(X_train, y_train)\n",
    "economic_model.score(X_test, y_test)"
   ]
  },
  {
   "cell_type": "markdown",
   "id": "8557967d-7f09-4814-a536-7a2bf954dab0",
   "metadata": {},
   "source": [
    "Testing on our training data, the accuracy rate of training on a randomly selected 70% of the data and scoring on the randomly selected remaining 30% is about 83%. "
   ]
  },
  {
   "cell_type": "markdown",
   "id": "ef19cb4c-2e59-4ca3-8193-f2ba185085ae",
   "metadata": {},
   "source": [
    "### Cross Validation "
   ]
  },
  {
   "cell_type": "code",
   "execution_count": 75,
   "id": "1940d17e-137b-44c8-8eee-3d9daa1ba0cc",
   "metadata": {},
   "outputs": [
    {
     "name": "stdout",
     "output_type": "stream",
     "text": [
      "[0.79166667 0.83333333 0.79166667 0.79166667 0.86956522 0.82608696\n",
      " 0.91304348 0.86956522 0.86956522 0.86956522]\n",
      "Mean cross-validated accuracy: 0.843\n"
     ]
    }
   ],
   "source": [
    "scores = cross_val_score(\n",
    "    LogisticRegression(multi_class = 'multinomial', solver = 'newton-cg'), \n",
    "    bilingual_demographic_data[[\"Economic Need Index\"]], \n",
    "    bilingual_demographic_data[\"Language\"], \n",
    "    cv=10\n",
    ")\n",
    "\n",
    "print(scores)\n",
    "print(f'Mean cross-validated accuracy: {scores.mean():.3f}')"
   ]
  },
  {
   "cell_type": "markdown",
   "id": "eb085580-ec18-4483-81a7-23f36d6bf84f",
   "metadata": {},
   "source": [
    "We picked a 90% slice of the data and scored on the remaining 10% and repeated the process 10 times but using a different 90% training set every time and used the average of the scores to represent the overall prediction of the non-overfitted version of the classifier. \n",
    "\n",
    "The mean cross-validated accuracy is 84.3%. "
   ]
  },
  {
   "cell_type": "markdown",
   "id": "8f472dc0-12d3-4bfe-8f01-8570b0b0caca",
   "metadata": {},
   "source": [
    "##### Baseline Accuracy "
   ]
  },
  {
   "cell_type": "code",
   "execution_count": 76,
   "id": "71bfe0ce-96d9-4c4e-8f05-ff97b2d1bff7",
   "metadata": {},
   "outputs": [
    {
     "name": "stdout",
     "output_type": "stream",
     "text": [
      "Baseline accuracy: 0.838\n"
     ]
    }
   ],
   "source": [
    "num_spanish = len(bilingual_demographic_data[bilingual_demographic_data[\"Language\"]==\"Spanish\"])\n",
    "print('Baseline accuracy:', round(num_spanish/len(bilingual_demographic_data),3))"
   ]
  },
  {
   "cell_type": "markdown",
   "id": "e50f7c53-0e3c-4b44-bfa4-6a7ed663dd2f",
   "metadata": {},
   "source": [
    "Comparing the baseline accuracy which is guessing that every language predicted is the most common language which is spanish, we would be right 83.8% of the time. Compared to the cross validation accuracy, we would be right about 84.3% of the time. We outperformed the baseline by a little bit but the baseline accuracy rate and the cross validation accuracy is basically about the same accuracy. "
   ]
  },
  {
   "cell_type": "markdown",
   "id": "3cd10f95-dcfa-495a-8ddf-08c00b4833df",
   "metadata": {},
   "source": [
    "To compare how accurate we predicted each language, we create a confusion matrix. "
   ]
  },
  {
   "cell_type": "code",
   "execution_count": 77,
   "id": "9edcd5f6-e37a-4500-b548-7244f2e52b6f",
   "metadata": {},
   "outputs": [
    {
     "name": "stdout",
     "output_type": "stream",
     "text": [
      "Confusion matrix\n",
      "[[  0   1  25]\n",
      " [  0   6   6]\n",
      " [  0   4 192]]\n"
     ]
    }
   ],
   "source": [
    "# confusion matrix\n",
    "from sklearn.metrics import confusion_matrix, classification_report, ConfusionMatrixDisplay\n",
    "\n",
    "# true labels and predicted labels\n",
    "y_true = bilingual_demographic_data['Language']\n",
    "y_pred = economic_model.predict(bilingual_demographic_data[[\"Economic Need Index\"]])\n",
    "\n",
    "# confusion matrix\n",
    "print(\"Confusion matrix\")\n",
    "print(confusion_matrix(y_true, y_pred))"
   ]
  },
  {
   "cell_type": "code",
   "execution_count": 79,
   "id": "379db642-7032-422e-b9a1-1b9046a855a4",
   "metadata": {},
   "outputs": [
    {
     "data": {
      "image/png": "[encoded data removed]",
      "text/plain": [
       "<Figure size 432x288 with 2 Axes>"
      ]
     },
     "metadata": {
      "needs_background": "light"
     },
     "output_type": "display_data"
    }
   ],
   "source": [
    "# visualize confusion matrix\n",
    "labels = [\"Chinese\",\"French\",\"Spanish\"]\n",
    "# disp = ConfusionMatrixDisplay(confusion_matrix(y_true, y_pred), display_labels=economic_model.classes_)\n",
    "disp = ConfusionMatrixDisplay(confusion_matrix(y_true, y_pred), display_labels=economic_model.classes_)\n",
    "disp.plot()\n",
    "plt.title(\"Confusion matrix of the classifier\")\n",
    "plt.show()"
   ]
  },
  {
   "cell_type": "markdown",
   "id": "a9de7e1b-ebdc-4119-b5dc-3beb60a5b437",
   "metadata": {},
   "source": [
    "Our confusion matrix showed that the majority of the languages is indeed in fact the Spanish language and that the language that was predicted the most accurately was also Spanish. Out of the 196 schools that were Spanish, one was predicted French when in fact it should have been Spanish. For the 12 French schools, one was predicted correctly, 11 were predicted Spanish and therefore, incorrectly. Out of the 26 Chinese schools, none of them were predicted correctly and therefore yielded a 0% precision. This makes sense because our data is dominated with schools that teach Spanish and there weren't many Chinese or French schools in the first place. As a result, the model didn't have a lot of data in the first place in order to accurately predict French and Chinese. "
   ]
  },
  {
   "cell_type": "code",
   "execution_count": 44,
   "id": "426db3f9-9b6e-4c7a-a5a7-3b078deeb531",
   "metadata": {},
   "outputs": [
    {
     "name": "stdout",
     "output_type": "stream",
     "text": [
      "              precision    recall  f1-score   support\n",
      "\n",
      "     Chinese       0.00      0.00      0.00        26\n",
      "      French       0.50      0.08      0.14        12\n",
      "     Spanish       0.84      0.99      0.91       196\n",
      "\n",
      "    accuracy                           0.84       234\n",
      "   macro avg       0.45      0.36      0.35       234\n",
      "weighted avg       0.73      0.84      0.77       234\n",
      "\n"
     ]
    },
    {
     "name": "stderr",
     "output_type": "stream",
     "text": [
      "/Users/tinaou/opt/anaconda3/lib/python3.8/site-packages/sklearn/metrics/_classification.py:1245: UndefinedMetricWarning: Precision and F-score are ill-defined and being set to 0.0 in labels with no predicted samples. Use `zero_division` parameter to control this behavior.\n",
      "  _warn_prf(average, modifier, msg_start, len(result))\n",
      "/Users/tinaou/opt/anaconda3/lib/python3.8/site-packages/sklearn/metrics/_classification.py:1245: UndefinedMetricWarning: Precision and F-score are ill-defined and being set to 0.0 in labels with no predicted samples. Use `zero_division` parameter to control this behavior.\n",
      "  _warn_prf(average, modifier, msg_start, len(result))\n",
      "/Users/tinaou/opt/anaconda3/lib/python3.8/site-packages/sklearn/metrics/_classification.py:1245: UndefinedMetricWarning: Precision and F-score are ill-defined and being set to 0.0 in labels with no predicted samples. Use `zero_division` parameter to control this behavior.\n",
      "  _warn_prf(average, modifier, msg_start, len(result))\n"
     ]
    }
   ],
   "source": [
    "# classification report\n",
    "print(classification_report(y_true, y_pred))"
   ]
  },
  {
   "cell_type": "markdown",
   "id": "68a1e65b-5d8d-4f36-bd0a-146961b8ac10",
   "metadata": {},
   "source": [
    "Our precision for language #1 which is Chinese is 0% and our recall is 0%. The precision for language #2 which is French and language #3 which is Spanish are a lot higher, 0.50 and 0.85 respectively. As a result, the overall score for French and Spanish a lot better than the score for Chinese. Overall, there is an accuracy average of 84% across all three languages. "
   ]
  },
  {
   "cell_type": "markdown",
   "id": "32d9ba33-69bd-40cf-adfc-ecaa4e96c123",
   "metadata": {},
   "source": [
    "### Another way to test the model"
   ]
  },
  {
   "cell_type": "code",
   "execution_count": 45,
   "id": "c3c388be-fe92-4983-a0f5-9fe0c8755726",
   "metadata": {},
   "outputs": [],
   "source": [
    "spanish_sample = full_data.loc[bilingual_demographic_data['Language'] == 'Spanish'].sample(n=8, random_state = 1)\n",
    "chinese_sample = full_data.loc[bilingual_demographic_data['Language'] == 'Chinese'].sample(n=8, random_state = 1)\n",
    "french_sample = full_data.loc[bilingual_demographic_data['Language'] == 'French'].sample(n=8, random_state = 1)\n",
    "\n",
    "sample_training = spanish_sample.append(chinese_sample).append(french_sample)\n",
    "\n",
    "economic_train = sample_training[[\"Economic Need Index\"]]\n",
    "language_train = sample_training['Language']"
   ]
  },
  {
   "cell_type": "code",
   "execution_count": 46,
   "id": "196f99f9-6740-4a10-b102-42de8c89b4f6",
   "metadata": {},
   "outputs": [
    {
     "data": {
      "text/plain": [
       "0.17721518987341772"
      ]
     },
     "execution_count": 46,
     "metadata": {},
     "output_type": "execute_result"
    }
   ],
   "source": [
    "# take different samples for the X_test and y_test\n",
    "\n",
    "# drop the schools used for the training data\n",
    "training_idx = sample_training.index\n",
    "\n",
    "# draw samples for testing data\n",
    "sample_testing = full_data.drop(training_idx)\n",
    "sample_testing = sample_testing.sample(frac = .75)\n",
    "sample_economic_testing = sample_testing[[\"Economic Need Index\"]]\n",
    "\n",
    "economic_test = sample_economic_testing\n",
    "language_test = sample_testing['Language']\n",
    "\n",
    "language_model = LogisticRegression(multi_class = 'multinomial', solver = 'newton-cg').fit(economic_train, language_train)\n",
    "language_model.score(economic_test, language_test)"
   ]
  },
  {
   "cell_type": "markdown",
   "id": "9bf133f7-f4c0-499e-98cc-8295e0d00162",
   "metadata": {},
   "source": [
    "##### Baseline Accuracy"
   ]
  },
  {
   "cell_type": "code",
   "execution_count": 47,
   "id": "e342f13e-ee83-49f1-843d-70250d79a1c1",
   "metadata": {},
   "outputs": [
    {
     "name": "stdout",
     "output_type": "stream",
     "text": [
      "Baseline accuracy: 0.333\n"
     ]
    }
   ],
   "source": [
    "print('Baseline accuracy:', round(len(spanish_sample)/len(training_idx),3))"
   ]
  },
  {
   "cell_type": "markdown",
   "id": "1d35df67-9877-41ab-9b87-1c27777c9917",
   "metadata": {},
   "source": [
    "The model predicted from the different samples is higher than the baseline accuracy which shows that we should use the model where we take the same number of samples from each language. "
   ]
  }
 ],
 "metadata": {
  "kernelspec": {
   "display_name": "Python 3",
   "language": "python",
   "name": "python3"
  },
  "language_info": {
   "codemirror_mode": {
    "name": "ipython",
    "version": 3
   },
   "file_extension": ".py",
   "mimetype": "text/x-python",
   "name": "python",
   "nbconvert_exporter": "python",
   "pygments_lexer": "ipython3",
   "version": "3.8.8"
  }
 },
 "nbformat": 4,
 "nbformat_minor": 5
}
